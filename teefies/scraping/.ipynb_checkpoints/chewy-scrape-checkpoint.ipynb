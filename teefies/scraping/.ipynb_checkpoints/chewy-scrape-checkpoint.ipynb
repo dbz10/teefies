{
 "cells": [
  {
   "cell_type": "markdown",
   "metadata": {},
   "source": [
    "## Imports"
   ]
  },
  {
   "cell_type": "code",
   "execution_count": 3,
   "metadata": {},
   "outputs": [],
   "source": [
    "# you need requests and beautifulSoup\n",
    "# import requests\n",
    "# import urllib.request\n",
    "from bs4 import BeautifulSoup\n",
    "from selenium import webdriver\n",
    "import os\n",
    "import time\n",
    "\n",
    "\n",
    "\n",
    "basedir = '/Users/danielben-zion/Dropbox/insight/teefies/scraping'\n",
    "\n",
    "def ensure_dir(file_path):\n",
    "    directory = os.path.dirname(file_path)\n",
    "    if not os.path.exists(directory):\n",
    "        os.makedirs(directory)\n",
    "        \n",
    "def setOptions():\n",
    "    options = webdriver.FirefoxOptions()\n",
    "    options.add_argument('--disable-infobars')\n",
    "    options.add_argument('--disable-dev-shm-usage')\n",
    "    options.add_argument('--disable-extensions')\n",
    "#     options.add_argument('headless')\n",
    "    options.add_argument('--disable-gpu')\n",
    "    options.add_argument('--no-sandbox')\n",
    "    options.add_argument('--no-proxy-server')\n",
    "    return options\n",
    "   "
   ]
  },
  {
   "cell_type": "markdown",
   "metadata": {},
   "source": [
    "# Some initial exploratory stuff. Feel free to skip all this"
   ]
  },
  {
   "cell_type": "code",
   "execution_count": 102,
   "metadata": {},
   "outputs": [],
   "source": [
    "# start with the base page, from there get the url to \"see all reviews\"\n",
    "url = 'https://www.chewy.com/royal-canin-veterinary-diet-urinary/dp/35160'\n",
    "\n",
    "with webdriver.Firefox() as driver:\n",
    "    driver.get(url)\n",
    "    page = driver.page_source\n",
    "    file_ = open('sample-base-page-2.html', 'w')\n",
    "    file_.write(page)\n",
    "    file_.close()"
   ]
  },
  {
   "cell_type": "code",
   "execution_count": 103,
   "metadata": {},
   "outputs": [
    {
     "name": "stdout",
     "output_type": "stream",
     "text": [
      "chewy.com/royal-canin-veterinary-diet-urinary/product-reviews/35160?reviewSort=NEWEST&reviewFilter=ALL_STARS&pageNumber=1\n"
     ]
    }
   ],
   "source": [
    "file = open('sample-base-page-2.html','r')\n",
    "soup = BeautifulSoup(file,'html')\n",
    "more_revs = soup.find_all(class_='cw-btn cw-btn--default')\n",
    "suffix = more_revs[0].get('href')\n",
    "baseurl = f'chewy.com{suffix[0:-1]}'\n",
    "pagenum = 1\n",
    "print(f'{baseurl}{pagenum}')"
   ]
  },
  {
   "cell_type": "code",
   "execution_count": 114,
   "metadata": {},
   "outputs": [],
   "source": [
    "pages = range(1,10)\n",
    "namelinks = {'friskies-tasty-treasures-cheese': 104225,\n",
    "             'fancy-feast-poultry-beef-classic-pate': 103926,\n",
    "             'royal-canin-veterinary-diet-urinary': 35160,\n",
    "             'hills-prescription-diet-cd-multicare': 54783,\n",
    "             'blue-buffalo-healthy-gourmet-variety': 141486,\n",
    "             'fancy-feast-delights-cheddar-grilled': 103869,\n",
    "             'nutro-perfect-portions-grain-free': 155651,\n",
    "            }\n",
    "\n",
    "with webdriver.Firefox() as driver:\n",
    "    for name in namelinks.keys():\n",
    "        for pagenum in pages:\n",
    "            filepath = os.path.join(basedir,f'html_pages/{name}/')\n",
    "            filepathname = f'{filepath}/page{pagenum}.html'\n",
    "            ensure_dir(filepath)\n",
    "\n",
    "            url = f'https://www.chewy.com/{name}/product-reviews/{namelinks[name]}?reviewSort=MOST_RELEVANT&reviewFilter=ALL_STARS&pageNumber={pagenum}'\n",
    "#             print(url)\n",
    "#             print(filepathname)\n",
    "            driver.get(url)\n",
    "\n",
    "            page = driver.page_source\n",
    "            file_ = open(filepathname, 'w')\n",
    "            file_.write(page)\n",
    "            file_.close()\n",
    "            time.sleep(20)\n",
    "\n"
   ]
  },
  {
   "cell_type": "code",
   "execution_count": 31,
   "metadata": {},
   "outputs": [
    {
     "name": "stdout",
     "output_type": "stream",
     "text": [
      "0: I make a fancy bed for my cats with a $40 basket and pillow from a fancy human furniture store.  They go for the free cardboard box with an old towel thrown in it.  I buy them cute toys.  They go for a crumpled up piece of paper.  I buy expensive canned food and Friskies.  They go for Friskies.  Sure, expensive food usually has better ingredients and makes ME feel better about feeding it to my cats.  But will they eat it?  That's a gamble.  But Friskies, yeah, they'll gobble it all up.\n",
      "1: I ordered this by mistake.  I STRONGLY prefer pate because it plops out of the can with a few shakes.  This isn't pate.  The cats like it well enough, so in fairness I have to say that, for those who do not hate scraping stinky ooey-gooey cat food out of the can with a spatula or spoon, it's a nice product.  For that reason, I gave it three stars instead of one.  As far as I'm concerned, cat food in gravy is a pain and I can hardly wait to use it up.  In the future, I'll read the text more carefully.\n",
      "2: My boys have been getting this product for years! Normally they love it! This last one...well the labels say one thing but the food is the same thing.\n",
      "Like one said tuna, cheese and it was chicken and corn. They all are chicken and corn. I am not getting this again. I know this can be a \"over sight\" in production. But this isn't the first time. Its just the last time.\n",
      "3: None of our 7 cats will eat this with the big chunks of something similar to cold meat or bologna. We smash it with a fork and they still don't like it. From what I've read concerning feline diets, most do not like big pieces of anything and especially when it's of this texture. I do not recommend this food. So much goes to waste\n",
      "4: It is a good cat food, but I read it wrong, I guess...as I thought it was Pate as my cats will not eat it, so I have to\n",
      "put it in my grinder to make it more liquid and add a little of people packaged gravy to it..three times, as they just lick the liquid and leave the solid, they finally get it eaten, but it takes awhile as I have to keep adding my gravy liquid to get it lapped up...it is fine for other cats, but my cats only eat, I should say lick up Pate\n",
      "5: My cats have always loved Friskies wet food, but I was tired of buying a bunch of single cans until I found this. Not only does it come in bulk but it lasts and doesn't leave me running back and forth to the store. My cats also love the flavor, I had never seen it before.\n",
      "6: I like to give my older cat different types of soft food cause everyone likes variety. Unfortunately she barely touched this kind. she takes maybe 2 bits and walks away.\n",
      "7: My cats wont eat any other kind. They prefer this brand wet food and dry good. The shreds are particularly what they like.\n",
      "8: I bought this because cats normally like cheese; however, I discovered that my outside cats are not that fond of these flavors.  They do eat it but not like they do other flavors.\n",
      "9: Three feral cats let me cater to them. They all love this food - especially the variety of flavors. Affordable and quite tasty - so they tell me. Thanks Chewy!\n"
     ]
    }
   ],
   "source": [
    "file = open('html_pages/friskies-tasty-treasures-cheese/page1.html','r')\n",
    "soup = BeautifulSoup(file,'html')\n",
    "\n",
    "\n",
    "for (i,review) in enumerate(soup.find_all(\"section\", {'class': 'ugc-list__review'})):\n",
    "    print(f'{i}: {review.text.strip()}')\n",
    "\n",
    "# soup.find_all(\"section\", class_ = 'ugc-list__review')"
   ]
  },
  {
   "cell_type": "markdown",
   "metadata": {},
   "source": [
    "<h1> Experimenting with navigating through the main page </h1>\n",
    "<span> This goes through the first 10 pages of cat food on chewy sorted by popularity, and downloads the page </span>"
   ]
  },
  {
   "cell_type": "code",
   "execution_count": 4,
   "metadata": {},
   "outputs": [],
   "source": [
    "counter = 0\n",
    "pagenums = range(1,15)\n",
    "options = setOptions()\n",
    "with webdriver.Firefox(options=options) as driver:\n",
    "    for pagenum in pagenums:\n",
    "        driver.get(f'https://www.chewy.com/s?rh=c%3A325%2Cc%3A387%2Cc%3A389&page={pagenum}&sort=popularity')\n",
    "        \n",
    "        filepathname = f'{basedir}/html_pages/main-page/page{pagenum}.html'\n",
    "        \n",
    "        with open(filepathname,'w') as file:\n",
    "            file.write(driver.page_source)\n",
    "            \n",
    "        time.sleep(2)\n",
    "\n",
    "\n",
    "\n",
    "    \n",
    "\n"
   ]
  },
  {
   "cell_type": "code",
   "execution_count": 88,
   "metadata": {},
   "outputs": [
    {
     "name": "stdout",
     "output_type": "stream",
     "text": [
      "/Users/danielben-zion/Dropbox/insight/teefies/scraping/html_pages/main-page\n"
     ]
    }
   ],
   "source": []
  },
  {
   "cell_type": "markdown",
   "metadata": {},
   "source": [
    "### We now go through all of the page source files that we acquired in the previous cell, and extract the links to all of the individual product pages. All in all there are 324 of them. Nothing is saved in this cell, it just collects the links that we're going to go across in a future cell."
   ]
  },
  {
   "cell_type": "code",
   "execution_count": 7,
   "metadata": {},
   "outputs": [
    {
     "name": "stdout",
     "output_type": "stream",
     "text": [
      "/Users/danielben-zion/Dropbox/insight/teefies/scraping\n"
     ]
    }
   ],
   "source": [
    "%cd '{basedir}'\n",
    "\n",
    "import glob\n",
    "import pickle\n",
    "\n",
    "links = {}\n",
    "\n",
    "for f in glob.glob('html_pages/main-page/*.html'):\n",
    "\n",
    "    with open(f,'r') as file:\n",
    "        soup = BeautifulSoup(file,'html')\n",
    "\n",
    "        all_product_boxes = soup.find_all('article', {\"class\" : 'product-holder js-tracked-product  cw-card cw-card-hover'.split()})\n",
    "        for li in all_product_boxes:\n",
    "            links[li['data-name']] = 'https://www.chewy.com'+li.a['href']\n",
    "\n",
    "with open('links.pkl','wb') as file:\n",
    "    pickle.dump(links,file)"
   ]
  },
  {
   "cell_type": "markdown",
   "metadata": {},
   "source": [
    "<h1> This is just some random shit </h1>\n",
    "<h2> various product information is available in the product box </h2>"
   ]
  },
  {
   "cell_type": "code",
   "execution_count": 47,
   "metadata": {},
   "outputs": [],
   "source": [
    "all_product_boxes = soup.find_all('article', {\"class\" : 'product-holder js-tracked-product  cw-card cw-card-hover'.split()})\n",
    "\n",
    "# for li in all_product_boxes:\n",
    "#     print(li['data-name'],\",\",li['data-price'])\n",
    "#     print('chewy.com'+li.a['href'])\n",
    "    \n",
    "    \n",
    "    "
   ]
  },
  {
   "cell_type": "code",
   "execution_count": 49,
   "metadata": {},
   "outputs": [],
   "source": [
    "driver = webdriver.Firefox()\n",
    "driver.get('https://www.chewy.com/friskies-shreds-variety-pack-canned/dp/104243')"
   ]
  },
  {
   "cell_type": "code",
   "execution_count": 62,
   "metadata": {},
   "outputs": [
    {
     "name": "stdout",
     "output_type": "stream",
     "text": [
      "www.chewy.com/friskies-shreds-variety-pack-canned/product-reviews/104243?reviewSort=NEWEST&reviewFilter=ALL_STARS&pageNumber=1\n",
      "/Users/danielben-zion/Dropbox/insight/teefies/scraping\n"
     ]
    }
   ],
   "source": [
    "soup = BeautifulSoup(driver.page_source,'html')\n",
    "suffixpath = soup.find('a',{'class' : 'cw-btn cw-btn--default',\n",
    "              'href': True})['href']\n",
    "\n",
    "url = f'www.chewy.com{suffixpath}'\n",
    "print(url)\n",
    "\n",
    "print(basedir)"
   ]
  },
  {
   "cell_type": "code",
   "execution_count": 189,
   "metadata": {},
   "outputs": [
    {
     "name": "stdout",
     "output_type": "stream",
     "text": [
      "324\n"
     ]
    }
   ],
   "source": [
    "all_links = pickle.load( open('links.pkl','rb'))\n",
    "print(len(all_links))\n",
    "# for (key,val) in all_links.items():\n",
    "#     print(key.split(',')[0].replace(' ','-').replace('/','').replace('\\'',''))\n",
    "#     print(val)\n",
    "    \n"
   ]
  },
  {
   "cell_type": "markdown",
   "metadata": {},
   "source": [
    "### This is where the heavy lifting happens. We go through each link that was collected previously, save the main product page source file, and the first 10 pages of reviews for that product. There is some random string manipulation stuff to put all those files into their appropriate folders. And some hand-engineered crawling through the review pages (first I make a review_url_stem which is the url to the review page minus the actual page number, and then I just manually set the page number to 1 through 9)"
   ]
  },
  {
   "cell_type": "code",
   "execution_count": 191,
   "metadata": {},
   "outputs": [
    {
     "name": "stderr",
     "output_type": "stream",
     "text": [
      "WARNING:urllib3.connectionpool:Retrying (Retry(total=2, connect=None, read=None, redirect=None, status=None)) after connection broken by 'NewConnectionError('<urllib3.connection.HTTPConnection object at 0x1289900f0>: Failed to establish a new connection: [Errno 61] Connection refused',)': /session/ff801570-d817-074b-9a33-86c83f0a4deb\n",
      "WARNING:urllib3.connectionpool:Retrying (Retry(total=1, connect=None, read=None, redirect=None, status=None)) after connection broken by 'NewConnectionError('<urllib3.connection.HTTPConnection object at 0x128990278>: Failed to establish a new connection: [Errno 61] Connection refused',)': /session/ff801570-d817-074b-9a33-86c83f0a4deb\n",
      "WARNING:urllib3.connectionpool:Retrying (Retry(total=0, connect=None, read=None, redirect=None, status=None)) after connection broken by 'NewConnectionError('<urllib3.connection.HTTPConnection object at 0x128990518>: Failed to establish a new connection: [Errno 61] Connection refused',)': /session/ff801570-d817-074b-9a33-86c83f0a4deb\n"
     ]
    },
    {
     "ename": "KeyboardInterrupt",
     "evalue": "",
     "output_type": "error",
     "traceback": [
      "\u001b[0;31m---------------------------------------------------------------------------\u001b[0m",
      "\u001b[0;31mTypeError\u001b[0m                                 Traceback (most recent call last)",
      "\u001b[0;32m~/anaconda3/envs/insight/lib/python3.6/site-packages/urllib3/connectionpool.py\u001b[0m in \u001b[0;36m_make_request\u001b[0;34m(self, conn, method, url, timeout, chunked, **httplib_request_kw)\u001b[0m\n\u001b[1;32m    376\u001b[0m             \u001b[0;32mtry\u001b[0m\u001b[0;34m:\u001b[0m  \u001b[0;31m# Python 2.7, use buffering of HTTP responses\u001b[0m\u001b[0;34m\u001b[0m\u001b[0;34m\u001b[0m\u001b[0m\n\u001b[0;32m--> 377\u001b[0;31m                 \u001b[0mhttplib_response\u001b[0m \u001b[0;34m=\u001b[0m \u001b[0mconn\u001b[0m\u001b[0;34m.\u001b[0m\u001b[0mgetresponse\u001b[0m\u001b[0;34m(\u001b[0m\u001b[0mbuffering\u001b[0m\u001b[0;34m=\u001b[0m\u001b[0;32mTrue\u001b[0m\u001b[0;34m)\u001b[0m\u001b[0;34m\u001b[0m\u001b[0;34m\u001b[0m\u001b[0m\n\u001b[0m\u001b[1;32m    378\u001b[0m             \u001b[0;32mexcept\u001b[0m \u001b[0mTypeError\u001b[0m\u001b[0;34m:\u001b[0m  \u001b[0;31m# Python 3\u001b[0m\u001b[0;34m\u001b[0m\u001b[0;34m\u001b[0m\u001b[0m\n",
      "\u001b[0;31mTypeError\u001b[0m: getresponse() got an unexpected keyword argument 'buffering'",
      "\nDuring handling of the above exception, another exception occurred:\n",
      "\u001b[0;31mKeyboardInterrupt\u001b[0m                         Traceback (most recent call last)",
      "\u001b[0;32m<ipython-input-191-5dfe87819f79>\u001b[0m in \u001b[0;36m<module>\u001b[0;34m\u001b[0m\n\u001b[1;32m     21\u001b[0m \u001b[0;31m#                 continue\u001b[0m\u001b[0;34m\u001b[0m\u001b[0;34m\u001b[0m\u001b[0;34m\u001b[0m\u001b[0m\n\u001b[1;32m     22\u001b[0m \u001b[0;34m\u001b[0m\u001b[0m\n\u001b[0;32m---> 23\u001b[0;31m             \u001b[0mdriver\u001b[0m\u001b[0;34m.\u001b[0m\u001b[0mget\u001b[0m\u001b[0;34m(\u001b[0m\u001b[0mstr\u001b[0m\u001b[0;34m(\u001b[0m\u001b[0mproduct_main_link\u001b[0m\u001b[0;34m)\u001b[0m\u001b[0;34m)\u001b[0m\u001b[0;34m\u001b[0m\u001b[0;34m\u001b[0m\u001b[0m\n\u001b[0m\u001b[1;32m     24\u001b[0m             \u001b[0mtime\u001b[0m\u001b[0;34m.\u001b[0m\u001b[0msleep\u001b[0m\u001b[0;34m(\u001b[0m\u001b[0;36m2\u001b[0m\u001b[0;34m)\u001b[0m\u001b[0;34m\u001b[0m\u001b[0;34m\u001b[0m\u001b[0m\n\u001b[1;32m     25\u001b[0m \u001b[0;34m\u001b[0m\u001b[0m\n",
      "\u001b[0;32m~/anaconda3/envs/insight/lib/python3.6/site-packages/selenium/webdriver/remote/webdriver.py\u001b[0m in \u001b[0;36mget\u001b[0;34m(self, url)\u001b[0m\n\u001b[1;32m    331\u001b[0m         \u001b[0mLoads\u001b[0m \u001b[0ma\u001b[0m \u001b[0mweb\u001b[0m \u001b[0mpage\u001b[0m \u001b[0;32min\u001b[0m \u001b[0mthe\u001b[0m \u001b[0mcurrent\u001b[0m \u001b[0mbrowser\u001b[0m \u001b[0msession\u001b[0m\u001b[0;34m.\u001b[0m\u001b[0;34m\u001b[0m\u001b[0;34m\u001b[0m\u001b[0m\n\u001b[1;32m    332\u001b[0m         \"\"\"\n\u001b[0;32m--> 333\u001b[0;31m         \u001b[0mself\u001b[0m\u001b[0;34m.\u001b[0m\u001b[0mexecute\u001b[0m\u001b[0;34m(\u001b[0m\u001b[0mCommand\u001b[0m\u001b[0;34m.\u001b[0m\u001b[0mGET\u001b[0m\u001b[0;34m,\u001b[0m \u001b[0;34m{\u001b[0m\u001b[0;34m'url'\u001b[0m\u001b[0;34m:\u001b[0m \u001b[0murl\u001b[0m\u001b[0;34m}\u001b[0m\u001b[0;34m)\u001b[0m\u001b[0;34m\u001b[0m\u001b[0;34m\u001b[0m\u001b[0m\n\u001b[0m\u001b[1;32m    334\u001b[0m \u001b[0;34m\u001b[0m\u001b[0m\n\u001b[1;32m    335\u001b[0m     \u001b[0;34m@\u001b[0m\u001b[0mproperty\u001b[0m\u001b[0;34m\u001b[0m\u001b[0;34m\u001b[0m\u001b[0m\n",
      "\u001b[0;32m~/anaconda3/envs/insight/lib/python3.6/site-packages/selenium/webdriver/remote/webdriver.py\u001b[0m in \u001b[0;36mexecute\u001b[0;34m(self, driver_command, params)\u001b[0m\n\u001b[1;32m    317\u001b[0m \u001b[0;34m\u001b[0m\u001b[0m\n\u001b[1;32m    318\u001b[0m         \u001b[0mparams\u001b[0m \u001b[0;34m=\u001b[0m \u001b[0mself\u001b[0m\u001b[0;34m.\u001b[0m\u001b[0m_wrap_value\u001b[0m\u001b[0;34m(\u001b[0m\u001b[0mparams\u001b[0m\u001b[0;34m)\u001b[0m\u001b[0;34m\u001b[0m\u001b[0;34m\u001b[0m\u001b[0m\n\u001b[0;32m--> 319\u001b[0;31m         \u001b[0mresponse\u001b[0m \u001b[0;34m=\u001b[0m \u001b[0mself\u001b[0m\u001b[0;34m.\u001b[0m\u001b[0mcommand_executor\u001b[0m\u001b[0;34m.\u001b[0m\u001b[0mexecute\u001b[0m\u001b[0;34m(\u001b[0m\u001b[0mdriver_command\u001b[0m\u001b[0;34m,\u001b[0m \u001b[0mparams\u001b[0m\u001b[0;34m)\u001b[0m\u001b[0;34m\u001b[0m\u001b[0;34m\u001b[0m\u001b[0m\n\u001b[0m\u001b[1;32m    320\u001b[0m         \u001b[0;32mif\u001b[0m \u001b[0mresponse\u001b[0m\u001b[0;34m:\u001b[0m\u001b[0;34m\u001b[0m\u001b[0;34m\u001b[0m\u001b[0m\n\u001b[1;32m    321\u001b[0m             \u001b[0mself\u001b[0m\u001b[0;34m.\u001b[0m\u001b[0merror_handler\u001b[0m\u001b[0;34m.\u001b[0m\u001b[0mcheck_response\u001b[0m\u001b[0;34m(\u001b[0m\u001b[0mresponse\u001b[0m\u001b[0;34m)\u001b[0m\u001b[0;34m\u001b[0m\u001b[0;34m\u001b[0m\u001b[0m\n",
      "\u001b[0;32m~/anaconda3/envs/insight/lib/python3.6/site-packages/selenium/webdriver/remote/remote_connection.py\u001b[0m in \u001b[0;36mexecute\u001b[0;34m(self, command, params)\u001b[0m\n\u001b[1;32m    372\u001b[0m         \u001b[0mdata\u001b[0m \u001b[0;34m=\u001b[0m \u001b[0mutils\u001b[0m\u001b[0;34m.\u001b[0m\u001b[0mdump_json\u001b[0m\u001b[0;34m(\u001b[0m\u001b[0mparams\u001b[0m\u001b[0;34m)\u001b[0m\u001b[0;34m\u001b[0m\u001b[0;34m\u001b[0m\u001b[0m\n\u001b[1;32m    373\u001b[0m         \u001b[0murl\u001b[0m \u001b[0;34m=\u001b[0m \u001b[0;34m'%s%s'\u001b[0m \u001b[0;34m%\u001b[0m \u001b[0;34m(\u001b[0m\u001b[0mself\u001b[0m\u001b[0;34m.\u001b[0m\u001b[0m_url\u001b[0m\u001b[0;34m,\u001b[0m \u001b[0mpath\u001b[0m\u001b[0;34m)\u001b[0m\u001b[0;34m\u001b[0m\u001b[0;34m\u001b[0m\u001b[0m\n\u001b[0;32m--> 374\u001b[0;31m         \u001b[0;32mreturn\u001b[0m \u001b[0mself\u001b[0m\u001b[0;34m.\u001b[0m\u001b[0m_request\u001b[0m\u001b[0;34m(\u001b[0m\u001b[0mcommand_info\u001b[0m\u001b[0;34m[\u001b[0m\u001b[0;36m0\u001b[0m\u001b[0;34m]\u001b[0m\u001b[0;34m,\u001b[0m \u001b[0murl\u001b[0m\u001b[0;34m,\u001b[0m \u001b[0mbody\u001b[0m\u001b[0;34m=\u001b[0m\u001b[0mdata\u001b[0m\u001b[0;34m)\u001b[0m\u001b[0;34m\u001b[0m\u001b[0;34m\u001b[0m\u001b[0m\n\u001b[0m\u001b[1;32m    375\u001b[0m \u001b[0;34m\u001b[0m\u001b[0m\n\u001b[1;32m    376\u001b[0m     \u001b[0;32mdef\u001b[0m \u001b[0m_request\u001b[0m\u001b[0;34m(\u001b[0m\u001b[0mself\u001b[0m\u001b[0;34m,\u001b[0m \u001b[0mmethod\u001b[0m\u001b[0;34m,\u001b[0m \u001b[0murl\u001b[0m\u001b[0;34m,\u001b[0m \u001b[0mbody\u001b[0m\u001b[0;34m=\u001b[0m\u001b[0;32mNone\u001b[0m\u001b[0;34m)\u001b[0m\u001b[0;34m:\u001b[0m\u001b[0;34m\u001b[0m\u001b[0;34m\u001b[0m\u001b[0m\n",
      "\u001b[0;32m~/anaconda3/envs/insight/lib/python3.6/site-packages/selenium/webdriver/remote/remote_connection.py\u001b[0m in \u001b[0;36m_request\u001b[0;34m(self, method, url, body)\u001b[0m\n\u001b[1;32m    395\u001b[0m \u001b[0;34m\u001b[0m\u001b[0m\n\u001b[1;32m    396\u001b[0m         \u001b[0;32mif\u001b[0m \u001b[0mself\u001b[0m\u001b[0;34m.\u001b[0m\u001b[0mkeep_alive\u001b[0m\u001b[0;34m:\u001b[0m\u001b[0;34m\u001b[0m\u001b[0;34m\u001b[0m\u001b[0m\n\u001b[0;32m--> 397\u001b[0;31m             \u001b[0mresp\u001b[0m \u001b[0;34m=\u001b[0m \u001b[0mself\u001b[0m\u001b[0;34m.\u001b[0m\u001b[0m_conn\u001b[0m\u001b[0;34m.\u001b[0m\u001b[0mrequest\u001b[0m\u001b[0;34m(\u001b[0m\u001b[0mmethod\u001b[0m\u001b[0;34m,\u001b[0m \u001b[0murl\u001b[0m\u001b[0;34m,\u001b[0m \u001b[0mbody\u001b[0m\u001b[0;34m=\u001b[0m\u001b[0mbody\u001b[0m\u001b[0;34m,\u001b[0m \u001b[0mheaders\u001b[0m\u001b[0;34m=\u001b[0m\u001b[0mheaders\u001b[0m\u001b[0;34m)\u001b[0m\u001b[0;34m\u001b[0m\u001b[0;34m\u001b[0m\u001b[0m\n\u001b[0m\u001b[1;32m    398\u001b[0m \u001b[0;34m\u001b[0m\u001b[0m\n\u001b[1;32m    399\u001b[0m             \u001b[0mstatuscode\u001b[0m \u001b[0;34m=\u001b[0m \u001b[0mresp\u001b[0m\u001b[0;34m.\u001b[0m\u001b[0mstatus\u001b[0m\u001b[0;34m\u001b[0m\u001b[0;34m\u001b[0m\u001b[0m\n",
      "\u001b[0;32m~/anaconda3/envs/insight/lib/python3.6/site-packages/urllib3/request.py\u001b[0m in \u001b[0;36mrequest\u001b[0;34m(self, method, url, fields, headers, **urlopen_kw)\u001b[0m\n\u001b[1;32m     70\u001b[0m             return self.request_encode_body(method, url, fields=fields,\n\u001b[1;32m     71\u001b[0m                                             \u001b[0mheaders\u001b[0m\u001b[0;34m=\u001b[0m\u001b[0mheaders\u001b[0m\u001b[0;34m,\u001b[0m\u001b[0;34m\u001b[0m\u001b[0;34m\u001b[0m\u001b[0m\n\u001b[0;32m---> 72\u001b[0;31m                                             **urlopen_kw)\n\u001b[0m\u001b[1;32m     73\u001b[0m \u001b[0;34m\u001b[0m\u001b[0m\n\u001b[1;32m     74\u001b[0m     def request_encode_url(self, method, url, fields=None, headers=None,\n",
      "\u001b[0;32m~/anaconda3/envs/insight/lib/python3.6/site-packages/urllib3/request.py\u001b[0m in \u001b[0;36mrequest_encode_body\u001b[0;34m(self, method, url, fields, headers, encode_multipart, multipart_boundary, **urlopen_kw)\u001b[0m\n\u001b[1;32m    148\u001b[0m         \u001b[0mextra_kw\u001b[0m\u001b[0;34m.\u001b[0m\u001b[0mupdate\u001b[0m\u001b[0;34m(\u001b[0m\u001b[0murlopen_kw\u001b[0m\u001b[0;34m)\u001b[0m\u001b[0;34m\u001b[0m\u001b[0;34m\u001b[0m\u001b[0m\n\u001b[1;32m    149\u001b[0m \u001b[0;34m\u001b[0m\u001b[0m\n\u001b[0;32m--> 150\u001b[0;31m         \u001b[0;32mreturn\u001b[0m \u001b[0mself\u001b[0m\u001b[0;34m.\u001b[0m\u001b[0murlopen\u001b[0m\u001b[0;34m(\u001b[0m\u001b[0mmethod\u001b[0m\u001b[0;34m,\u001b[0m \u001b[0murl\u001b[0m\u001b[0;34m,\u001b[0m \u001b[0;34m**\u001b[0m\u001b[0mextra_kw\u001b[0m\u001b[0;34m)\u001b[0m\u001b[0;34m\u001b[0m\u001b[0;34m\u001b[0m\u001b[0m\n\u001b[0m",
      "\u001b[0;32m~/anaconda3/envs/insight/lib/python3.6/site-packages/urllib3/poolmanager.py\u001b[0m in \u001b[0;36murlopen\u001b[0;34m(self, method, url, redirect, **kw)\u001b[0m\n\u001b[1;32m    322\u001b[0m             \u001b[0mresponse\u001b[0m \u001b[0;34m=\u001b[0m \u001b[0mconn\u001b[0m\u001b[0;34m.\u001b[0m\u001b[0murlopen\u001b[0m\u001b[0;34m(\u001b[0m\u001b[0mmethod\u001b[0m\u001b[0;34m,\u001b[0m \u001b[0murl\u001b[0m\u001b[0;34m,\u001b[0m \u001b[0;34m**\u001b[0m\u001b[0mkw\u001b[0m\u001b[0;34m)\u001b[0m\u001b[0;34m\u001b[0m\u001b[0;34m\u001b[0m\u001b[0m\n\u001b[1;32m    323\u001b[0m         \u001b[0;32melse\u001b[0m\u001b[0;34m:\u001b[0m\u001b[0;34m\u001b[0m\u001b[0;34m\u001b[0m\u001b[0m\n\u001b[0;32m--> 324\u001b[0;31m             \u001b[0mresponse\u001b[0m \u001b[0;34m=\u001b[0m \u001b[0mconn\u001b[0m\u001b[0;34m.\u001b[0m\u001b[0murlopen\u001b[0m\u001b[0;34m(\u001b[0m\u001b[0mmethod\u001b[0m\u001b[0;34m,\u001b[0m \u001b[0mu\u001b[0m\u001b[0;34m.\u001b[0m\u001b[0mrequest_uri\u001b[0m\u001b[0;34m,\u001b[0m \u001b[0;34m**\u001b[0m\u001b[0mkw\u001b[0m\u001b[0;34m)\u001b[0m\u001b[0;34m\u001b[0m\u001b[0;34m\u001b[0m\u001b[0m\n\u001b[0m\u001b[1;32m    325\u001b[0m \u001b[0;34m\u001b[0m\u001b[0m\n\u001b[1;32m    326\u001b[0m         \u001b[0mredirect_location\u001b[0m \u001b[0;34m=\u001b[0m \u001b[0mredirect\u001b[0m \u001b[0;32mand\u001b[0m \u001b[0mresponse\u001b[0m\u001b[0;34m.\u001b[0m\u001b[0mget_redirect_location\u001b[0m\u001b[0;34m(\u001b[0m\u001b[0;34m)\u001b[0m\u001b[0;34m\u001b[0m\u001b[0;34m\u001b[0m\u001b[0m\n",
      "\u001b[0;32m~/anaconda3/envs/insight/lib/python3.6/site-packages/urllib3/connectionpool.py\u001b[0m in \u001b[0;36murlopen\u001b[0;34m(self, method, url, body, headers, retries, redirect, assert_same_host, timeout, pool_timeout, release_conn, chunked, body_pos, **response_kw)\u001b[0m\n\u001b[1;32m    598\u001b[0m                                                   \u001b[0mtimeout\u001b[0m\u001b[0;34m=\u001b[0m\u001b[0mtimeout_obj\u001b[0m\u001b[0;34m,\u001b[0m\u001b[0;34m\u001b[0m\u001b[0;34m\u001b[0m\u001b[0m\n\u001b[1;32m    599\u001b[0m                                                   \u001b[0mbody\u001b[0m\u001b[0;34m=\u001b[0m\u001b[0mbody\u001b[0m\u001b[0;34m,\u001b[0m \u001b[0mheaders\u001b[0m\u001b[0;34m=\u001b[0m\u001b[0mheaders\u001b[0m\u001b[0;34m,\u001b[0m\u001b[0;34m\u001b[0m\u001b[0;34m\u001b[0m\u001b[0m\n\u001b[0;32m--> 600\u001b[0;31m                                                   chunked=chunked)\n\u001b[0m\u001b[1;32m    601\u001b[0m \u001b[0;34m\u001b[0m\u001b[0m\n\u001b[1;32m    602\u001b[0m             \u001b[0;31m# If we're going to release the connection in ``finally:``, then\u001b[0m\u001b[0;34m\u001b[0m\u001b[0;34m\u001b[0m\u001b[0;34m\u001b[0m\u001b[0m\n",
      "\u001b[0;32m~/anaconda3/envs/insight/lib/python3.6/site-packages/urllib3/connectionpool.py\u001b[0m in \u001b[0;36m_make_request\u001b[0;34m(self, conn, method, url, timeout, chunked, **httplib_request_kw)\u001b[0m\n\u001b[1;32m    378\u001b[0m             \u001b[0;32mexcept\u001b[0m \u001b[0mTypeError\u001b[0m\u001b[0;34m:\u001b[0m  \u001b[0;31m# Python 3\u001b[0m\u001b[0;34m\u001b[0m\u001b[0;34m\u001b[0m\u001b[0m\n\u001b[1;32m    379\u001b[0m                 \u001b[0;32mtry\u001b[0m\u001b[0;34m:\u001b[0m\u001b[0;34m\u001b[0m\u001b[0;34m\u001b[0m\u001b[0m\n\u001b[0;32m--> 380\u001b[0;31m                     \u001b[0mhttplib_response\u001b[0m \u001b[0;34m=\u001b[0m \u001b[0mconn\u001b[0m\u001b[0;34m.\u001b[0m\u001b[0mgetresponse\u001b[0m\u001b[0;34m(\u001b[0m\u001b[0;34m)\u001b[0m\u001b[0;34m\u001b[0m\u001b[0;34m\u001b[0m\u001b[0m\n\u001b[0m\u001b[1;32m    381\u001b[0m                 \u001b[0;32mexcept\u001b[0m \u001b[0mException\u001b[0m \u001b[0;32mas\u001b[0m \u001b[0me\u001b[0m\u001b[0;34m:\u001b[0m\u001b[0;34m\u001b[0m\u001b[0;34m\u001b[0m\u001b[0m\n\u001b[1;32m    382\u001b[0m                     \u001b[0;31m# Remove the TypeError from the exception chain in Python 3;\u001b[0m\u001b[0;34m\u001b[0m\u001b[0;34m\u001b[0m\u001b[0;34m\u001b[0m\u001b[0m\n",
      "\u001b[0;32m~/anaconda3/envs/insight/lib/python3.6/http/client.py\u001b[0m in \u001b[0;36mgetresponse\u001b[0;34m(self)\u001b[0m\n\u001b[1;32m   1329\u001b[0m         \u001b[0;32mtry\u001b[0m\u001b[0;34m:\u001b[0m\u001b[0;34m\u001b[0m\u001b[0;34m\u001b[0m\u001b[0m\n\u001b[1;32m   1330\u001b[0m             \u001b[0;32mtry\u001b[0m\u001b[0;34m:\u001b[0m\u001b[0;34m\u001b[0m\u001b[0;34m\u001b[0m\u001b[0m\n\u001b[0;32m-> 1331\u001b[0;31m                 \u001b[0mresponse\u001b[0m\u001b[0;34m.\u001b[0m\u001b[0mbegin\u001b[0m\u001b[0;34m(\u001b[0m\u001b[0;34m)\u001b[0m\u001b[0;34m\u001b[0m\u001b[0;34m\u001b[0m\u001b[0m\n\u001b[0m\u001b[1;32m   1332\u001b[0m             \u001b[0;32mexcept\u001b[0m \u001b[0mConnectionError\u001b[0m\u001b[0;34m:\u001b[0m\u001b[0;34m\u001b[0m\u001b[0;34m\u001b[0m\u001b[0m\n\u001b[1;32m   1333\u001b[0m                 \u001b[0mself\u001b[0m\u001b[0;34m.\u001b[0m\u001b[0mclose\u001b[0m\u001b[0;34m(\u001b[0m\u001b[0;34m)\u001b[0m\u001b[0;34m\u001b[0m\u001b[0;34m\u001b[0m\u001b[0m\n",
      "\u001b[0;32m~/anaconda3/envs/insight/lib/python3.6/http/client.py\u001b[0m in \u001b[0;36mbegin\u001b[0;34m(self)\u001b[0m\n\u001b[1;32m    295\u001b[0m         \u001b[0;31m# read until we get a non-100 response\u001b[0m\u001b[0;34m\u001b[0m\u001b[0;34m\u001b[0m\u001b[0;34m\u001b[0m\u001b[0m\n\u001b[1;32m    296\u001b[0m         \u001b[0;32mwhile\u001b[0m \u001b[0;32mTrue\u001b[0m\u001b[0;34m:\u001b[0m\u001b[0;34m\u001b[0m\u001b[0;34m\u001b[0m\u001b[0m\n\u001b[0;32m--> 297\u001b[0;31m             \u001b[0mversion\u001b[0m\u001b[0;34m,\u001b[0m \u001b[0mstatus\u001b[0m\u001b[0;34m,\u001b[0m \u001b[0mreason\u001b[0m \u001b[0;34m=\u001b[0m \u001b[0mself\u001b[0m\u001b[0;34m.\u001b[0m\u001b[0m_read_status\u001b[0m\u001b[0;34m(\u001b[0m\u001b[0;34m)\u001b[0m\u001b[0;34m\u001b[0m\u001b[0;34m\u001b[0m\u001b[0m\n\u001b[0m\u001b[1;32m    298\u001b[0m             \u001b[0;32mif\u001b[0m \u001b[0mstatus\u001b[0m \u001b[0;34m!=\u001b[0m \u001b[0mCONTINUE\u001b[0m\u001b[0;34m:\u001b[0m\u001b[0;34m\u001b[0m\u001b[0;34m\u001b[0m\u001b[0m\n\u001b[1;32m    299\u001b[0m                 \u001b[0;32mbreak\u001b[0m\u001b[0;34m\u001b[0m\u001b[0;34m\u001b[0m\u001b[0m\n",
      "\u001b[0;32m~/anaconda3/envs/insight/lib/python3.6/http/client.py\u001b[0m in \u001b[0;36m_read_status\u001b[0;34m(self)\u001b[0m\n\u001b[1;32m    256\u001b[0m \u001b[0;34m\u001b[0m\u001b[0m\n\u001b[1;32m    257\u001b[0m     \u001b[0;32mdef\u001b[0m \u001b[0m_read_status\u001b[0m\u001b[0;34m(\u001b[0m\u001b[0mself\u001b[0m\u001b[0;34m)\u001b[0m\u001b[0;34m:\u001b[0m\u001b[0;34m\u001b[0m\u001b[0;34m\u001b[0m\u001b[0m\n\u001b[0;32m--> 258\u001b[0;31m         \u001b[0mline\u001b[0m \u001b[0;34m=\u001b[0m \u001b[0mstr\u001b[0m\u001b[0;34m(\u001b[0m\u001b[0mself\u001b[0m\u001b[0;34m.\u001b[0m\u001b[0mfp\u001b[0m\u001b[0;34m.\u001b[0m\u001b[0mreadline\u001b[0m\u001b[0;34m(\u001b[0m\u001b[0m_MAXLINE\u001b[0m \u001b[0;34m+\u001b[0m \u001b[0;36m1\u001b[0m\u001b[0;34m)\u001b[0m\u001b[0;34m,\u001b[0m \u001b[0;34m\"iso-8859-1\"\u001b[0m\u001b[0;34m)\u001b[0m\u001b[0;34m\u001b[0m\u001b[0;34m\u001b[0m\u001b[0m\n\u001b[0m\u001b[1;32m    259\u001b[0m         \u001b[0;32mif\u001b[0m \u001b[0mlen\u001b[0m\u001b[0;34m(\u001b[0m\u001b[0mline\u001b[0m\u001b[0;34m)\u001b[0m \u001b[0;34m>\u001b[0m \u001b[0m_MAXLINE\u001b[0m\u001b[0;34m:\u001b[0m\u001b[0;34m\u001b[0m\u001b[0;34m\u001b[0m\u001b[0m\n\u001b[1;32m    260\u001b[0m             \u001b[0;32mraise\u001b[0m \u001b[0mLineTooLong\u001b[0m\u001b[0;34m(\u001b[0m\u001b[0;34m\"status line\"\u001b[0m\u001b[0;34m)\u001b[0m\u001b[0;34m\u001b[0m\u001b[0;34m\u001b[0m\u001b[0m\n",
      "\u001b[0;32m~/anaconda3/envs/insight/lib/python3.6/socket.py\u001b[0m in \u001b[0;36mreadinto\u001b[0;34m(self, b)\u001b[0m\n\u001b[1;32m    584\u001b[0m         \u001b[0;32mwhile\u001b[0m \u001b[0;32mTrue\u001b[0m\u001b[0;34m:\u001b[0m\u001b[0;34m\u001b[0m\u001b[0;34m\u001b[0m\u001b[0m\n\u001b[1;32m    585\u001b[0m             \u001b[0;32mtry\u001b[0m\u001b[0;34m:\u001b[0m\u001b[0;34m\u001b[0m\u001b[0;34m\u001b[0m\u001b[0m\n\u001b[0;32m--> 586\u001b[0;31m                 \u001b[0;32mreturn\u001b[0m \u001b[0mself\u001b[0m\u001b[0;34m.\u001b[0m\u001b[0m_sock\u001b[0m\u001b[0;34m.\u001b[0m\u001b[0mrecv_into\u001b[0m\u001b[0;34m(\u001b[0m\u001b[0mb\u001b[0m\u001b[0;34m)\u001b[0m\u001b[0;34m\u001b[0m\u001b[0;34m\u001b[0m\u001b[0m\n\u001b[0m\u001b[1;32m    587\u001b[0m             \u001b[0;32mexcept\u001b[0m \u001b[0mtimeout\u001b[0m\u001b[0;34m:\u001b[0m\u001b[0;34m\u001b[0m\u001b[0;34m\u001b[0m\u001b[0m\n\u001b[1;32m    588\u001b[0m                 \u001b[0mself\u001b[0m\u001b[0;34m.\u001b[0m\u001b[0m_timeout_occurred\u001b[0m \u001b[0;34m=\u001b[0m \u001b[0;32mTrue\u001b[0m\u001b[0;34m\u001b[0m\u001b[0;34m\u001b[0m\u001b[0m\n",
      "\u001b[0;31mKeyboardInterrupt\u001b[0m: "
     ]
    }
   ],
   "source": [
    "# Now is a good time to activate some kind of IP switching software\n",
    "pages = range(1,10)\n",
    "counter = 0\n",
    "options = setOptions()\n",
    "with webdriver.Firefox(options=options) as driver:\n",
    "    for (product_id, product_main_link) in all_links.items():\n",
    "#         try:\n",
    "            \n",
    "            name = product_id.split(',')[0].replace(' ','-').lower()\n",
    "            filepath = os.path.join(basedir,f'html_pages/individual-items/{name}/')\n",
    "    #             print(filepath)\n",
    "\n",
    "            ensure_dir(filepath)\n",
    "\n",
    "            \n",
    "\n",
    "            filepathname = f'{filepath}/main_page.html'\n",
    "            \n",
    "#             if BeautifulSoup(open(filepathname,'r'),'html').find('html'):\n",
    "#                 counter += 1\n",
    "#                 continue\n",
    "                \n",
    "            driver.get(str(product_main_link))\n",
    "            time.sleep(2)\n",
    "            \n",
    "            with open(filepathname,'w') as file:\n",
    "                file.write(driver.page_source)\n",
    "\n",
    "            main_page_soup = BeautifulSoup(driver.page_source,'html')\n",
    "            review_url_init = main_page_soup.find('a',{'class' : 'cw-btn cw-btn--default',\n",
    "              'href': True})['href']\n",
    "\n",
    "            review_url_stem = review_url_init.replace('NEWEST','MOST_RELEVANT')[0:-1]\n",
    "    #         print(review_url_stem)\n",
    "\n",
    "            for pagenum in pages:\n",
    "                filepathname = f'{filepath}/page{pagenum}.html'\n",
    "                \n",
    "#                 if BeautifulSoup(open(filepathname,'r'),'html').find('html'):\n",
    "#                     continue\n",
    "                \n",
    "                review_url = 'https://www.chewy.com'+review_url_stem+ str(pagenum)\n",
    "#                 print(f'getting {review_url}')\n",
    "                driver.get(review_url)\n",
    "                time.sleep(2)\n",
    "                with open(filepathname,'w') as file:\n",
    "                    file.write(driver.page_source)\n",
    "                    \n",
    "#         except:\n",
    "#             continue\n",
    "\n",
    "            \n",
    "                    \n",
    "print(counter)\n",
    "                \n",
    "                \n",
    "            \n",
    "# #             print(url)\n",
    "# #             print(filepathname)\n",
    "#             driver.get(url)\n",
    "\n",
    "#             page = driver.page_source\n",
    "        \n",
    "#             with open(filepathname, 'w') as file:\n",
    "#                 file.write(page)\n",
    "\n",
    "    \n",
    "        \n"
   ]
  },
  {
   "cell_type": "markdown",
   "metadata": {},
   "source": [
    "### How many products seem to be a variety pack?"
   ]
  },
  {
   "cell_type": "code",
   "execution_count": 11,
   "metadata": {},
   "outputs": [
    {
     "name": "stdout",
     "output_type": "stream",
     "text": [
      "164\n"
     ]
    }
   ],
   "source": [
    "import pickle\n",
    "exclude_words = ['variety','medley','multi']\n",
    "all_links = pickle.load( open('links.pkl','rb'))\n",
    "variety_counter = 0\n",
    "for name in all_links.keys():\n",
    "#     print(name)\n",
    "    if any([name.lower().find(word) != -1 for word in exclude_words]):\n",
    "        variety_counter +=1\n",
    "        \n",
    "print(variety_counter)"
   ]
  },
  {
   "cell_type": "markdown",
   "metadata": {},
   "source": [
    "### Let's organize what we have so far into a dataframe. \n",
    "What information do we want for each product? Most basic info would be name of product, oz per can, number of cans, price, review rating (useful?), and the review text. Make one table that contains information about cat foods. Make another one just for reviews. Then do an inner join on the product name at the end. Forget about price and stuff for now."
   ]
  },
  {
   "cell_type": "markdown",
   "metadata": {},
   "source": [
    "#### REVIEWS CSV"
   ]
  },
  {
   "cell_type": "code",
   "execution_count": 175,
   "metadata": {},
   "outputs": [
    {
     "name": "stdout",
     "output_type": "stream",
     "text": [
      "/Users/danielben-zion/Dropbox/insight/teefies/scraping/html_pages/individual-items\n"
     ]
    }
   ],
   "source": [
    "import glob\n",
    "import pickle\n",
    "import re\n",
    "import csv\n",
    "basedir = '/Users/danielben-zion/Dropbox/insight/teefies/scraping'\n",
    "\n",
    "columns = ['product', 'review_author','rating','review_text','helpful_rank']\n",
    "with open('/Users/danielben-zion/Dropbox/insight/teefies/scraping/CatfoodReviewsInfo.csv','w') as catfoodcsv:\n",
    "    writer = csv.writer(catfoodcsv)\n",
    "    writer.writerow(columns)\n",
    "\n",
    "\n",
    "    counter = 0 \n",
    "    for (product_name, product_link) in all_links.items():\n",
    "        product_dir = os.path.join('.',product_name.split(',')[0].replace(' ','-').lower())\n",
    "\n",
    "    #     main_page_soup = BeautifulSoup(open(f'./{product_dir}/main_page.html','r'),'html')\n",
    "\n",
    "    #     try: # just make sure we actually have html data for this product\n",
    "    #         price = main_page_soup.find('span',{'class' : 'ga-eec__price'}).text.strip()\n",
    "    #     except:\n",
    "    #         continue \n",
    "\n",
    "        for reviewpage in glob.glob(f'{basedir}/html_pages/individual-items/{product_dir}/page*.html'):\n",
    "\n",
    "            review_soup = BeautifulSoup(open(reviewpage,'r'),'html')\n",
    "\n",
    "            for review in review_soup.find_all(\"li\", {'itemprop': 'review'}):\n",
    "                rating = review.find('meta',{'itemprop':'ratingValue'})['content']\n",
    "                review_text = review.find('span',{'class' : 'ugc-list__review__display'}).text\n",
    "                review_author = review.find('span',{'itemprop' : 'author'}).text\n",
    "                helpful = review.find('button',{'class' : 'cw-btn cw-btn--white cw-btn--sm ugc__like js-like'}).span.text\n",
    "                writer.writerow([product_name,review_author,rating,review_text,helpful])\n",
    "\n",
    "    #     print(product_name)\n",
    "    #     print(re.search(' (.*)-oz', product_name))\n",
    "\n",
    "        splitted = product_name.split(',')\n",
    "\n",
    "    #     print(splitted)\n",
    "        nn = splitted[0].strip()\n",
    "    #     opc = splitted[1].split('-')[0]\n",
    "    #     ncans = splitted[2].split(' ')[-1]\n",
    "    #     print(f'Full product name: {product_name}')\n",
    "\n",
    "    #     print(f\"Name: {nn}\" )\n",
    "    #     print(f'oz_per_can: {opc}')\n",
    "    #     print(f'num_cans: {ncans}')\n",
    "    #     print(f'price: {price}')\n",
    "\n",
    "    #     row = [nn,opc,ncans,price]\n",
    "    #     print(row)\n",
    "    #     writer.writerow(row)\n",
    "\n",
    "    #     counter += 1\n",
    "    #     if counter>1:\n",
    "    #         break\n",
    "    \n",
    "           \n",
    "\n",
    "# for f in glob.glob('*.html'):\n",
    "\n",
    "#     with open(f,'r') as file:\n",
    "#         soup = BeautifulSoup(file,'html')\n",
    "\n",
    "#         all_product_boxes = soup.find_all('article', {\"class\" : 'product-holder js-tracked-product  cw-card cw-card-hover'.split()})\n",
    "#         for li in all_product_boxes:\n",
    "#             links[li['data-name']] = 'https://www.chewy.com'+li.a['href']\n",
    "\n",
    "# with open('links.pkl','wb') as file:\n",
    "#     pickle.dump(links,file)"
   ]
  },
  {
   "cell_type": "markdown",
   "metadata": {},
   "source": [
    "#### PRODUCT INFO CSV"
   ]
  },
  {
   "cell_type": "code",
   "execution_count": 172,
   "metadata": {},
   "outputs": [
    {
     "name": "stdout",
     "output_type": "stream",
     "text": [
      "/Users/danielben-zion/Dropbox/insight/teefies/scraping/html_pages/individual-items\n"
     ]
    }
   ],
   "source": [
    "import glob\n",
    "import pickle\n",
    "import re\n",
    "import csv\n",
    "%cd '{basedir}/html_pages/individual-items/'\n",
    "\n",
    "columns = ['product', 'price','oz_per_can','num_cans','price_per_oz']\n",
    "with open('/Users/danielben-zion/Dropbox/insight/teefies/scraping/CatfoodProductInfo.csv','w') as catfoodcsv:\n",
    "    writer = csv.writer(catfoodcsv)\n",
    "    writer.writerow(columns)\n",
    "\n",
    "\n",
    "    counter = 0 \n",
    "    for (product_name, product_link) in all_links.items():\n",
    "        product_dir = os.path.join('.',product_name.split(',')[0].replace(' ','-').lower())\n",
    "\n",
    "        main_page_soup = BeautifulSoup(open(f'./{product_dir}/main_page.html','r'),'html')\n",
    "\n",
    "        try: # just make sure we actually have html data for this product\n",
    "            price = main_page_soup.find('span',{'class' : 'ga-eec__price'}).text.strip()\n",
    "        except:\n",
    "            continue \n",
    "\n",
    "\n",
    "\n",
    "    \n",
    "\n",
    "        splitted = product_name.split(',')\n",
    "        \n",
    "        nn = splitted[0].strip()\n",
    "        oz_per_can = float(re.search('(\\d.?\\d?)-oz',product_name).group(1))\n",
    "        num_cans = float(re.search('case of (\\d+)',product_name).group(1))\n",
    "        \n",
    "        ppo = float(price[1:])/(oz_per_can*num_cans)\n",
    "        \n",
    "\n",
    "#         print(f'Full product name: {product_name}')\n",
    "\n",
    "#         print(f\"Name: {nn}\" )\n",
    "#         print(f'oz_per_can: {opc}')\n",
    "#         print(f'num_cans: {ncans}')\n",
    "#         print(f'price: {price}')\n",
    "        \n",
    "\n",
    "        row = [nn,oz_per_can,num_cans,price,ppo]\n",
    "        writer.writerow(row)\n",
    "\n",
    "#         counter += 1\n",
    "#         if counter>10:\n",
    "#             break\n",
    "    \n",
    "           \n",
    "\n",
    "# for f in glob.glob('*.html'):\n",
    "\n",
    "#     with open(f,'r') as file:\n",
    "#         soup = BeautifulSoup(file,'html')\n",
    "\n",
    "#         all_product_boxes = soup.find_all('article', {\"class\" : 'product-holder js-tracked-product  cw-card cw-card-hover'.split()})\n",
    "#         for li in all_product_boxes:\n",
    "#             links[li['data-name']] = 'https://www.chewy.com'+li.a['href']\n",
    "\n",
    "# with open('links.pkl','wb') as file:\n",
    "#     pickle.dump(links,file)"
   ]
  },
  {
   "cell_type": "code",
   "execution_count": 103,
   "metadata": {},
   "outputs": [
    {
     "data": {
      "text/plain": [
       "'5'"
      ]
     },
     "execution_count": 103,
     "metadata": {},
     "output_type": "execute_result"
    }
   ],
   "source": [
    "test_page = BeautifulSoup(open('./9-lives-poultry-&-beef-favorites-variety-pack-canned-cat-food/page4.html','r'),'html')\n",
    "review = test_page.find('li',{'itemprop' : 'review'})\n",
    "review.find('meta',{'itemprop':'ratingValue'})['content']"
   ]
  },
  {
   "cell_type": "markdown",
   "metadata": {},
   "source": [
    "#### Check reviews csv"
   ]
  },
  {
   "cell_type": "code",
   "execution_count": 10,
   "metadata": {},
   "outputs": [
    {
     "name": "stdout",
     "output_type": "stream",
     "text": [
      "We have 38559 reviews written by 20461 unique authors across 504 different products\n",
      "Mean reviews written per author: 1.884511998436049\n",
      "Max reviews written by one author: 109\n",
      "Inspecting top reviewers to determine how likely these numbers are due to username collision\n",
      "review_author\n",
      "Kitty     109\n",
      "Linda     104\n",
      "Debbie     98\n",
      "Mary       97\n",
      "CatMom     89\n",
      "Name: rating, dtype: int64\n",
      "COLLABORATIVE FILTERING IS (probably) OFF!\n",
      "If I did the groupby correctly, there is at least one product with 4 reviews written by the same review author name.\n",
      "Number of users with more than 5 reviews: 809\n"
     ]
    },
    {
     "data": {
      "image/png": "[encoded data removed]",
      "text/plain": [
       "<Figure size 432x288 with 1 Axes>"
      ]
     },
     "metadata": {
      "needs_background": "light"
     },
     "output_type": "display_data"
    }
   ],
   "source": [
    "import pandas as pd\n",
    "import seaborn as sns\n",
    "import matplotlib.pyplot as plt\n",
    "import matplotlib\n",
    "\n",
    "font = {'family' : 'Helvetica Neue',\n",
    "        'weight' : 'normal',\n",
    "        'size'   : 16}\n",
    "\n",
    "matplotlib.rc('font', **font)\n",
    "matplotlib.rc('text',usetex=True)\n",
    "\n",
    "\n",
    "check_reviews = pd.read_csv('../data/CatfoodReviewsInfo.csv')\n",
    "\n",
    "num_reviews = len(check_reviews)\n",
    "unique_authors = len(check_reviews['review_author'].unique())\n",
    "unique_products = len(check_reviews['product'].unique())\n",
    "\n",
    "print(f'We have {num_reviews} reviews written by {unique_authors} unique authors across {unique_products} different products')\n",
    "\n",
    "\n",
    "\n",
    "# fig = plt.figure()\n",
    "print('Mean reviews written per author:',check_reviews.groupby('review_author')['rating'].agg('count').mean())\n",
    "print('Max reviews written by one author:',check_reviews.groupby('review_author')['rating'].agg('count').max())\n",
    "\n",
    "print(\"Inspecting top reviewers to determine how likely these numbers are due to username collision\")\n",
    "print( check_reviews.groupby('review_author')['rating'].agg('count').sort_values(ascending=False).head())\n",
    "\n",
    "print(\"COLLABORATIVE FILTERING IS (probably) OFF!\")\n",
    "\n",
    "print('If I did the groupby correctly, there is at least one product with %i reviews written by the same review author name.'\n",
    "     % check_reviews.groupby(['product','review_author'])['rating'].agg('count').max())\n",
    "\n",
    "\n",
    "print('Number of users with more than 5 reviews:',sum(check_reviews.groupby('review_author')['rating'].count() > 5))\n",
    "# check_reviews.groupby(['product']).mean()\n",
    "# len(check_reviews['product'].unique())\n",
    "\n",
    "fig = plt.figure()\n",
    "sns.distplot(check_reviews['rating'],kde=True,hist=False)\n",
    "plt.title('User Ratings Tendencies')\n",
    "plt.xlabel('Rating')\n",
    "\n",
    "# check_reviews.sample(5)\n",
    "plt.savefig('user-ratings-histogram.png',bbox_inches='tight')"
   ]
  },
  {
   "cell_type": "code",
   "execution_count": 44,
   "metadata": {},
   "outputs": [
    {
     "data": {
      "text/html": [
       "<div>\n",
       "<style scoped>\n",
       "    .dataframe tbody tr th:only-of-type {\n",
       "        vertical-align: middle;\n",
       "    }\n",
       "\n",
       "    .dataframe tbody tr th {\n",
       "        vertical-align: top;\n",
       "    }\n",
       "\n",
       "    .dataframe thead th {\n",
       "        text-align: right;\n",
       "    }\n",
       "</style>\n",
       "<table border=\"1\" class=\"dataframe\">\n",
       "  <thead>\n",
       "    <tr style=\"text-align: right;\">\n",
       "      <th></th>\n",
       "      <th>product</th>\n",
       "      <th>review_author</th>\n",
       "      <th>rating</th>\n",
       "      <th>review_text</th>\n",
       "      <th>helpful_rank</th>\n",
       "    </tr>\n",
       "  </thead>\n",
       "  <tbody>\n",
       "    <tr>\n",
       "      <th>8987</th>\n",
       "      <td>Friskies Classic Pate Mariner's Catch Canned Cat Food, 5.5-oz, case of 24</td>\n",
       "      <td>zoey</td>\n",
       "      <td>5</td>\n",
       "      <td>I have purchased this flavor for years and the cats still love it.</td>\n",
       "      <td>0</td>\n",
       "    </tr>\n",
       "    <tr>\n",
       "      <th>13193</th>\n",
       "      <td>Friskies Savory Shreds with Whitefish &amp; Sardines in Sauce Canned Cat Food, 5.5-oz, case of 24</td>\n",
       "      <td>zoey</td>\n",
       "      <td>5</td>\n",
       "      <td>My cats always eat all of this meaty food that is put in their dish.</td>\n",
       "      <td>0</td>\n",
       "    </tr>\n",
       "    <tr>\n",
       "      <th>16567</th>\n",
       "      <td>BFF OMG Tuna &amp; Chicken Charm Me Dinner in Gravy Wet Cat Food Pouches, 3-oz, case of 12</td>\n",
       "      <td>zoey</td>\n",
       "      <td>2</td>\n",
       "      <td>the cat food has good value but I have the the most finicky cat in the world. She will eat a few bites of this so I really have to break it down to a couple of teaspoons at a time. She really loves delectables bisque from hartz and I wish chewy sold this because its all she will eat.</td>\n",
       "      <td>1</td>\n",
       "    </tr>\n",
       "    <tr>\n",
       "      <th>16759</th>\n",
       "      <td>Friskies Indoor Chunky Chicken &amp; Turkey Casserole Canned Cat Food, 5.5-oz, case of 24</td>\n",
       "      <td>zoey</td>\n",
       "      <td>5</td>\n",
       "      <td>My cats love all of the Friskies Indoor flavors. This flavor is no exception as they eat all of it and look for more.</td>\n",
       "      <td>1</td>\n",
       "    </tr>\n",
       "    <tr>\n",
       "      <th>27247</th>\n",
       "      <td>Friskies Savory Shreds with Beef in Gravy Canned Cat Food, 5.5-oz, case of 24</td>\n",
       "      <td>zoey</td>\n",
       "      <td>5</td>\n",
       "      <td>I have bought this flavor for years and the cats never get tired of it. Will continue to serve to the cats.</td>\n",
       "      <td>0</td>\n",
       "    </tr>\n",
       "    <tr>\n",
       "      <th>31493</th>\n",
       "      <td>Friskies Prime Filets with Ocean Whitefish &amp; Tuna in Sauce Canned Cat Food, 5.5-oz, case of 24</td>\n",
       "      <td>zoey</td>\n",
       "      <td>5</td>\n",
       "      <td>As with all of the Purina Friskies wet food this flavor is a big hit.</td>\n",
       "      <td>0</td>\n",
       "    </tr>\n",
       "  </tbody>\n",
       "</table>\n",
       "</div>"
      ],
      "text/plain": [
       "                                                                                              product  \\\n",
       "8987   Friskies Classic Pate Mariner's Catch Canned Cat Food, 5.5-oz, case of 24                        \n",
       "13193  Friskies Savory Shreds with Whitefish & Sardines in Sauce Canned Cat Food, 5.5-oz, case of 24    \n",
       "16567  BFF OMG Tuna & Chicken Charm Me Dinner in Gravy Wet Cat Food Pouches, 3-oz, case of 12           \n",
       "16759  Friskies Indoor Chunky Chicken & Turkey Casserole Canned Cat Food, 5.5-oz, case of 24            \n",
       "27247  Friskies Savory Shreds with Beef in Gravy Canned Cat Food, 5.5-oz, case of 24                    \n",
       "31493  Friskies Prime Filets with Ocean Whitefish & Tuna in Sauce Canned Cat Food, 5.5-oz, case of 24   \n",
       "\n",
       "      review_author  rating  \\\n",
       "8987   zoey          5        \n",
       "13193  zoey          5        \n",
       "16567  zoey          2        \n",
       "16759  zoey          5        \n",
       "27247  zoey          5        \n",
       "31493  zoey          5        \n",
       "\n",
       "                                                                                                                                                                                                                                                                                        review_text  \\\n",
       "8987   I have purchased this flavor for years and the cats still love it.                                                                                                                                                                                                                             \n",
       "13193  My cats always eat all of this meaty food that is put in their dish.                                                                                                                                                                                                                           \n",
       "16567  the cat food has good value but I have the the most finicky cat in the world. She will eat a few bites of this so I really have to break it down to a couple of teaspoons at a time. She really loves delectables bisque from hartz and I wish chewy sold this because its all she will eat.   \n",
       "16759  My cats love all of the Friskies Indoor flavors. This flavor is no exception as they eat all of it and look for more.                                                                                                                                                                          \n",
       "27247  I have bought this flavor for years and the cats never get tired of it. Will continue to serve to the cats.                                                                                                                                                                                    \n",
       "31493  As with all of the Purina Friskies wet food this flavor is a big hit.                                                                                                                                                                                                                          \n",
       "\n",
       "       helpful_rank  \n",
       "8987   0             \n",
       "13193  0             \n",
       "16567  1             \n",
       "16759  1             \n",
       "27247  0             \n",
       "31493  0             "
      ]
     },
     "execution_count": 44,
     "metadata": {},
     "output_type": "execute_result"
    }
   ],
   "source": [
    "pd.set_option('display.max_colwidth', -1)  # more options can be specified also\n",
    "check_reviews[check_reviews['review_author']=='zoey']"
   ]
  },
  {
   "cell_type": "markdown",
   "metadata": {},
   "source": [
    "### Check product info "
   ]
  },
  {
   "cell_type": "code",
   "execution_count": 62,
   "metadata": {},
   "outputs": [
    {
     "name": "stdout",
     "output_type": "stream",
     "text": [
      "For product info, we have information on 501 products. We are missing pricing info for 0 of them.\n"
     ]
    }
   ],
   "source": [
    "check_product = pd.read_csv('CatfoodProductInfo.csv')\n",
    "check_product.sample(5)\n",
    "# len(check_product['product'].unique())\n",
    "# check.groupby(['product']).mean()\n",
    "\n",
    "num_products = len(check_product['product'].unique())\n",
    "num_nan_sizes = sum(check_product['oz_per_can'].isna())\n",
    "\n",
    "print(f'For product info, we have information on {num_products} products. We are missing pricing info for {num_nan_sizes} of them.')"
   ]
  },
  {
   "cell_type": "code",
   "execution_count": 65,
   "metadata": {},
   "outputs": [],
   "source": [
    "all_info_dataframe = check_reviews.join(check_product.set_index('product'), on='product',how='left')"
   ]
  },
  {
   "cell_type": "code",
   "execution_count": 70,
   "metadata": {},
   "outputs": [
    {
     "data": {
      "text/html": [
       "<div>\n",
       "<style scoped>\n",
       "    .dataframe tbody tr th:only-of-type {\n",
       "        vertical-align: middle;\n",
       "    }\n",
       "\n",
       "    .dataframe tbody tr th {\n",
       "        vertical-align: top;\n",
       "    }\n",
       "\n",
       "    .dataframe thead th {\n",
       "        text-align: right;\n",
       "    }\n",
       "</style>\n",
       "<table border=\"1\" class=\"dataframe\">\n",
       "  <thead>\n",
       "    <tr style=\"text-align: right;\">\n",
       "      <th></th>\n",
       "      <th>product</th>\n",
       "      <th>review_author</th>\n",
       "      <th>rating</th>\n",
       "      <th>review_text</th>\n",
       "      <th>helpful_rank</th>\n",
       "      <th>price</th>\n",
       "      <th>oz_per_can</th>\n",
       "      <th>num_cans</th>\n",
       "      <th>price_per_oz</th>\n",
       "    </tr>\n",
       "  </thead>\n",
       "  <tbody>\n",
       "    <tr>\n",
       "      <th>0</th>\n",
       "      <td>Fancy Feast Grilled Seafood Feast Variety Pack Canned Cat Food, 3-oz, case o...</td>\n",
       "      <td>Rosie</td>\n",
       "      <td>5</td>\n",
       "      <td>I try and make this last an entire month as my cats LOVE this. My older cat ...</td>\n",
       "      <td>1</td>\n",
       "      <td>$14.79</td>\n",
       "      <td>3.0</td>\n",
       "      <td>24.0</td>\n",
       "      <td>0.205417</td>\n",
       "    </tr>\n",
       "    <tr>\n",
       "      <th>1</th>\n",
       "      <td>Fancy Feast Grilled Seafood Feast Variety Pack Canned Cat Food, 3-oz, case o...</td>\n",
       "      <td>VETTEGIRL</td>\n",
       "      <td>5</td>\n",
       "      <td>HE LIKES VARIETY EVERY DAY, SO WE ROTATE FROM A SEAFOOD, TO A CREAMY, TO A P...</td>\n",
       "      <td>2</td>\n",
       "      <td>$14.79</td>\n",
       "      <td>3.0</td>\n",
       "      <td>24.0</td>\n",
       "      <td>0.205417</td>\n",
       "    </tr>\n",
       "    <tr>\n",
       "      <th>2</th>\n",
       "      <td>Fancy Feast Grilled Seafood Feast Variety Pack Canned Cat Food, 3-oz, case o...</td>\n",
       "      <td>Lovethebabies</td>\n",
       "      <td>5</td>\n",
       "      <td>My two cats are trying the grilled seafood Fancy Feast for the first time. U...</td>\n",
       "      <td>2</td>\n",
       "      <td>$14.79</td>\n",
       "      <td>3.0</td>\n",
       "      <td>24.0</td>\n",
       "      <td>0.205417</td>\n",
       "    </tr>\n",
       "    <tr>\n",
       "      <th>3</th>\n",
       "      <td>Fancy Feast Grilled Seafood Feast Variety Pack Canned Cat Food, 3-oz, case o...</td>\n",
       "      <td>Suzi</td>\n",
       "      <td>5</td>\n",
       "      <td>I have a 1 year old cat I got from the Humane Society. She rejected every br...</td>\n",
       "      <td>2</td>\n",
       "      <td>$14.79</td>\n",
       "      <td>3.0</td>\n",
       "      <td>24.0</td>\n",
       "      <td>0.205417</td>\n",
       "    </tr>\n",
       "    <tr>\n",
       "      <th>4</th>\n",
       "      <td>Fancy Feast Grilled Seafood Feast Variety Pack Canned Cat Food, 3-oz, case o...</td>\n",
       "      <td>Nicki</td>\n",
       "      <td>5</td>\n",
       "      <td>The last shipment is exactly right.  Minou does not eat any pare or creamy f...</td>\n",
       "      <td>0</td>\n",
       "      <td>$14.79</td>\n",
       "      <td>3.0</td>\n",
       "      <td>24.0</td>\n",
       "      <td>0.205417</td>\n",
       "    </tr>\n",
       "  </tbody>\n",
       "</table>\n",
       "</div>"
      ],
      "text/plain": [
       "                                                                           product  \\\n",
       "0  Fancy Feast Grilled Seafood Feast Variety Pack Canned Cat Food, 3-oz, case o...   \n",
       "1  Fancy Feast Grilled Seafood Feast Variety Pack Canned Cat Food, 3-oz, case o...   \n",
       "2  Fancy Feast Grilled Seafood Feast Variety Pack Canned Cat Food, 3-oz, case o...   \n",
       "3  Fancy Feast Grilled Seafood Feast Variety Pack Canned Cat Food, 3-oz, case o...   \n",
       "4  Fancy Feast Grilled Seafood Feast Variety Pack Canned Cat Food, 3-oz, case o...   \n",
       "\n",
       "   review_author  rating  \\\n",
       "0          Rosie       5   \n",
       "1      VETTEGIRL       5   \n",
       "2  Lovethebabies       5   \n",
       "3           Suzi       5   \n",
       "4          Nicki       5   \n",
       "\n",
       "                                                                       review_text  \\\n",
       "0  I try and make this last an entire month as my cats LOVE this. My older cat ...   \n",
       "1  HE LIKES VARIETY EVERY DAY, SO WE ROTATE FROM A SEAFOOD, TO A CREAMY, TO A P...   \n",
       "2  My two cats are trying the grilled seafood Fancy Feast for the first time. U...   \n",
       "3  I have a 1 year old cat I got from the Humane Society. She rejected every br...   \n",
       "4  The last shipment is exactly right.  Minou does not eat any pare or creamy f...   \n",
       "\n",
       "   helpful_rank   price  oz_per_can  num_cans  price_per_oz  \n",
       "0             1  $14.79         3.0      24.0      0.205417  \n",
       "1             2  $14.79         3.0      24.0      0.205417  \n",
       "2             2  $14.79         3.0      24.0      0.205417  \n",
       "3             2  $14.79         3.0      24.0      0.205417  \n",
       "4             0  $14.79         3.0      24.0      0.205417  "
      ]
     },
     "execution_count": 70,
     "metadata": {},
     "output_type": "execute_result"
    }
   ],
   "source": [
    "pd.set_option('display.max_colwidth', 80)  # more options can be specified also\n",
    "all_info_dataframe.head(5)"
   ]
  },
  {
   "cell_type": "code",
   "execution_count": 84,
   "metadata": {},
   "outputs": [
    {
     "data": {
      "text/plain": [
       "<matplotlib.axes._subplots.AxesSubplot at 0x1a2c4efc50>"
      ]
     },
     "execution_count": 84,
     "metadata": {},
     "output_type": "execute_result"
    },
    {
     "data": {
      "image/png": "[encoded data removed]",
      "text/plain": [
       "<Figure size 432x288 with 1 Axes>"
      ]
     },
     "metadata": {
      "needs_background": "light"
     },
     "output_type": "display_data"
    }
   ],
   "source": [
    "fig = plt.figure()\n",
    "sns.scatterplot(x='price_per_oz',y='rating',\n",
    "                data=all_info_dataframe[['product','rating','price_per_oz']].groupby('product').mean())\n",
    "\n"
   ]
  },
  {
   "cell_type": "code",
   "execution_count": null,
   "metadata": {},
   "outputs": [],
   "source": []
  }
 ],
 "metadata": {
  "kernelspec": {
   "display_name": "Python 3",
   "language": "python",
   "name": "python3"
  },
  "language_info": {
   "codemirror_mode": {
    "name": "ipython",
    "version": 3
   },
   "file_extension": ".py",
   "mimetype": "text/x-python",
   "name": "python",
   "nbconvert_exporter": "python",
   "pygments_lexer": "ipython3",
   "version": "3.6.8"
  }
 },
 "nbformat": 4,
 "nbformat_minor": 2
}
