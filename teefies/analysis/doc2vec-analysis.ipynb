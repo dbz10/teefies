{
 "cells": [
  {
   "cell_type": "markdown",
   "metadata": {},
   "source": [
    "# Messy Analysis"
   ]
  },
  {
   "cell_type": "code",
   "execution_count": 1,
   "metadata": {},
   "outputs": [
    {
     "name": "stdout",
     "output_type": "stream",
     "text": [
      "Prior to filtering out products with less than 50 reviews, there are 675 products\n",
      "After filtering out products with less than 50 reviews, there are 453 products\n"
     ]
    }
   ],
   "source": [
    "from gensim.test.utils import common_texts\n",
    "from gensim.models.doc2vec import Doc2Vec, TaggedDocument\n",
    "from gensim.summarization import keywords, summarize\n",
    "from sklearn.metrics import accuracy_score, f1_score\n",
    "from sklearn.model_selection import train_test_split\n",
    "from sklearn.linear_model import LogisticRegression\n",
    "from sklearn import preprocessing\n",
    "from sklearn import utils\n",
    "import csv\n",
    "import multiprocessing\n",
    "import nltk\n",
    "from nltk.corpus import stopwords\n",
    "from tqdm import tqdm\n",
    "import pandas as pd\n",
    "import seaborn as sns\n",
    "import matplotlib\n",
    "import matplotlib.pyplot as plt\n",
    "\n",
    "from gensim.models.phrases import Phrases\n",
    "from gensim.models.phrases import Phraser\n",
    "\n",
    "product_info = pd.read_csv('../data/CatfoodProductInfo.csv')\n",
    "reviews = pd.read_csv('../data/CatfoodReviewsInfo.csv')\n",
    "df = reviews.join(product_info.set_index('product'), on='product',how='left')\n",
    "df = df.dropna(axis=0,how='any')\n",
    "\n",
    "ninit = len(set(df['product']))\n",
    "print(f'Prior to filtering out products with less than 50 reviews, there are {ninit} products')\n",
    "\n",
    "filter = df.groupby('product')['rating'].count() >= 50\n",
    "df = df[filter[df['product']].values]\n",
    "\n",
    "nfin = len(set(df['product']))\n",
    "print(f'After filtering out products with less than 50 reviews, there are {nfin} products')\n",
    "\n",
    "prod_info_filter = [product in set(df['product']) for product in product_info['product']]\n",
    "product_info = product_info[prod_info_filter]"
   ]
  },
  {
   "cell_type": "code",
   "execution_count": 2,
   "metadata": {},
   "outputs": [
    {
     "name": "stdout",
     "output_type": "stream",
     "text": [
      "There are 50 brands represented across our reviews.\n",
      "There are 36345 reviews across 453 products\n"
     ]
    }
   ],
   "source": [
    "brandnames = set(df['brand'].unique())\n",
    "print(f'There are {len(brandnames)} brands represented across our reviews.')\n",
    "\n",
    "nprods = len(df.groupby('product'))\n",
    "nrevs = len(df)\n",
    "print(f'There are {nrevs} reviews across {nprods} products')\n",
    "# brandnames"
   ]
  },
  {
   "cell_type": "code",
   "execution_count": 3,
   "metadata": {},
   "outputs": [
    {
     "name": "stdout",
     "output_type": "stream",
     "text": [
      "Before removing straggler variety packs: 36345\n",
      "After removing straggler variety packs: 36009\n"
     ]
    }
   ],
   "source": [
    "print(f'Before removing straggler variety packs: {len(df)}')\n",
    "exclude_words = ['Variety',]\n",
    "for word in exclude_words:\n",
    "    df = df[~df['product'].str.contains(word)]\n",
    "    product_info = product_info[~product_info['product'].str.contains(word)]\n",
    "    \n",
    "print(f'After removing straggler variety packs: {len(df)}')\n",
    "\n",
    "# word = 'Variety'\n",
    "# df[~df['product'].str.contains(word)]"
   ]
  },
  {
   "cell_type": "markdown",
   "metadata": {},
   "source": [
    "### following https://towardsdatascience.com/implementing-multi-class-text-classification-with-doc2vec-df7c3812824d \n",
    "and(?)\n",
    "https://towardsdatascience.com/multi-class-text-classification-with-doc2vec-logistic-regression-9da9947b43f4"
   ]
  },
  {
   "cell_type": "code",
   "execution_count": 4,
   "metadata": {},
   "outputs": [],
   "source": [
    "# standardize text\n",
    "def standardize_text(df, text_field):\n",
    "    df[text_field] = df[text_field].str.replace(r\"http\\S+\", \"\")\n",
    "    df[text_field] = df[text_field].str.replace(r\"http\", \"\")\n",
    "    df[text_field] = df[text_field].str.replace(r\"@\\S+\", \"\")\n",
    "    df[text_field] = df[text_field].str.replace(r\"[^A-Za-z0-9(),!?@\\'\\`\\\"\\_\\n]\", \" \")\n",
    "    df[text_field] = df[text_field].str.replace(r\"@\", \"at\")\n",
    "    df[text_field] = df[text_field].str.lower()\n",
    "    for brandname in brandnames:\n",
    "        df[text_field] = df[text_field].str.replace(brandname.lower(),\"\")\n",
    "\n",
    "        \n",
    "    return df\n",
    "\n",
    "# Function for tokenizing\n",
    "def tokenize_text(text):\n",
    "    tokens = []\n",
    "    for sent in nltk.sent_tokenize(text):\n",
    "        for word in nltk.word_tokenize(sent):\n",
    "            if len(word) < 2:\n",
    "                continue\n",
    "            tokens.append(word.lower())\n",
    "    return tokens\n",
    "\n",
    "\n",
    "# Label encode the names\n",
    "le = preprocessing.LabelEncoder()\n",
    "df['product_label']=le.fit_transform(df['product'])\n",
    "\n",
    "# print(train_documents[0])\n",
    "\n",
    "df_clean = standardize_text(df,'review_text')"
   ]
  },
  {
   "cell_type": "code",
   "execution_count": 5,
   "metadata": {},
   "outputs": [
    {
     "name": "stdout",
     "output_type": "stream",
     "text": [
      "Number of reviews prior to dropping short ones 36009\n",
      "Number of reviews after dropping short ones 25974\n"
     ]
    }
   ],
   "source": [
    "from nltk.tokenize import RegexpTokenizer\n",
    "pd.set_option('display.width',200)\n",
    "\n",
    "tokenizer = RegexpTokenizer(r'\\w+')\n",
    "stop_words = set(stopwords.words('english'))\n",
    "df_clean[\"tokens\"] = df_clean[\"review_text\"].apply(tokenizer.tokenize)\n",
    "\n",
    "df_clean['tokens'] = df_clean['tokens'].apply(lambda x: ' '.join( [item for item in x if item not in stop_words]))\n",
    "# df_clean['tokens'] = df_clean['tokens'].apply(lambda x: [item for item in x if item not in stop_words])\n",
    "\n",
    "\n",
    "all_tokens = [t.split() for t in df_clean['tokens']]\n",
    "phrases = Phrases(all_tokens)\n",
    "bigram = Phraser(phrases)\n",
    "trigram_phrases = Phrases(bigram[all_tokens])\n",
    "trigram = Phraser(phrases)\n",
    "\n",
    "df_clean['input'] = df_clean['tokens'].apply(lambda x: bigram[x.split(' ')])\n",
    "\n",
    "\n",
    "\n",
    "# train, test = train_test_split(df[['review_text','product_label']],test_size=0.0)\n",
    "\n",
    "data = df_clean.copy()\n",
    "data['n_words'] = data['input'].apply(lambda r: len(r))\n",
    "print(f'Number of reviews prior to dropping short ones {len(data)}')\n",
    "df_clean = df_clean.loc[data['n_words']>=10]\n",
    "data = data.loc[data['n_words']>=10]\n",
    "print(f'Number of reviews after dropping short ones {len(data)}')\n",
    "# data.head(5)\n",
    "\n",
    "data.to_csv('prepared_data.csv')\n",
    "\n",
    "data_tagged = data.apply(\n",
    "    lambda r: TaggedDocument(words=r['input'], tags=[r.product_label]), axis=1)\n"
   ]
  },
  {
   "cell_type": "code",
   "execution_count": 6,
   "metadata": {},
   "outputs": [],
   "source": [
    "# figure out how to properly load in the saved csv\n",
    "import ast\n",
    "\n",
    "data = pd.read_csv('prepared_data.csv')\n",
    "data_tagged = data.apply(\n",
    "    lambda r: TaggedDocument(words=ast.literal_eval(r['input']), tags=[r.product_label]), axis=1)"
   ]
  },
  {
   "cell_type": "code",
   "execution_count": 7,
   "metadata": {},
   "outputs": [
    {
     "data": {
      "text/plain": [
       "array([TaggedDocument(words=['one', 'cats', 'experiencing', 'bad', 'case', 'feline', 'acne', 'vet', 'thinks', 'allergy', 'chicken', 'process', 'attempting', 'eliminate', 'chicken', 'chicken', 'protein', 'products', 'cats', 'food', 'difficult', 'thing', 'given', 'common', 'ingredient', 'vast', 'majority', 'catfoods', 'biggest', 'concern', 'purchasing', 'new', 'catfood', 'cat', 'w', 'feline', 'acne', 'would', 'eat', 'second', 'concern', 'cat', 'would', 'like', 'lot', 'quite', 'overweight', 'need', 'extra', 'calories', 'far', 'good', 'cat', 'w', 'feline', 'acne', 'eat', 'new', 'wet', 'food', 'cat', 'care', '5_star', 'review', 'tentative', 'review', 'based'], tags=[402])],\n",
       "      dtype=object)"
      ]
     },
     "execution_count": 7,
     "metadata": {},
     "output_type": "execute_result"
    }
   ],
   "source": [
    "import multiprocessing\n",
    "cores = multiprocessing.cpu_count()\n",
    "data_tagged.sample(1).values"
   ]
  },
  {
   "cell_type": "code",
   "execution_count": 8,
   "metadata": {},
   "outputs": [
    {
     "name": "stderr",
     "output_type": "stream",
     "text": [
      "100%|██████████| 25974/25974 [00:00<00:00, 1043134.22it/s]\n",
      "100%|██████████| 25974/25974 [00:00<00:00, 1097240.88it/s]\n"
     ]
    }
   ],
   "source": [
    "cores = multiprocessing.cpu_count()\n",
    "\n",
    "model_dbow = Doc2Vec(dm=0, vector_size=300, negative=5, hs=0, min_count=2, sample = 0, \n",
    "                     workers=cores, alpha=0.025, min_alpha=0.001)\n",
    "model_dm = Doc2Vec(dm=1, vector_size=300, window=10, negative=5, hs=0, min_count=2, sample=0,\n",
    "                   workers=cores, alpha=0.025, min_alpha = 0.001)\n",
    "model_dbow.build_vocab([x for x in tqdm(data_tagged.values)])\n",
    "model_dm.build_vocab([x for x in tqdm(data_tagged.values)])"
   ]
  },
  {
   "cell_type": "code",
   "execution_count": 9,
   "metadata": {
    "scrolled": true
   },
   "outputs": [
    {
     "name": "stdout",
     "output_type": "stream",
     "text": [
      "CPU times: user 4min 56s, sys: 32.1 s, total: 5min 28s\n",
      "Wall time: 2min 50s\n"
     ]
    }
   ],
   "source": [
    "%%time\n",
    "cores = multiprocessing.cpu_count()\n",
    "train_data = utils.shuffle(data_tagged)\n",
    "\n",
    "model_dbow.train(train_data, total_examples=len(train_data), epochs=30)\n",
    "model_dm.train(train_data, total_examples=len(train_data), epochs=30)"
   ]
  },
  {
   "cell_type": "code",
   "execution_count": 11,
   "metadata": {},
   "outputs": [
    {
     "name": "stdout",
     "output_type": "stream",
     "text": [
      "Dbow model similarities:\n",
      "0: I and Love and You  Purrky Turkey Pate Grain-Free Canned Cat Food, 0.18912281095981598\n",
      "1: American Journey Minced Turkey Recipe in Gravy Grain-Free Canned Cat Food, 0.18862849473953247\n",
      "2: Tiki Cat Koolina Luau Chicken with Egg in Chicken Consomme Grain-Free Canned Cat Food, 0.18762631714344025\n",
      "3: Purina Pro Plan Savor Adult Chicken  Tomato & Pasta Entree in Gravy Canned Cat Food, 0.14358943700790405\n",
      "4: Purina Pro Plan True Nature Classic Natural Chicken & Liver Entree Grain-Free Canned Cat Food, 0.13761503994464874\n",
      "\n",
      " DM model similarities:\n",
      "0: Triumph Ocean Fish Formula Canned Cat Food, 0.3999671936035156\n",
      "1: Tiny Tiger Pate Turkey and Giblets Recipe Grain-Free Canned Cat Food, 0.3908323049545288\n",
      "2: Tiny Tiger Pate Salmon Recipe Grain-Free Canned Cat Food, 0.3889143764972687\n",
      "3: Tiny Tiger Pate Whitefish and Tuna Recipe Grain-Free Canned Cat Food, 0.3744421601295471\n",
      "4: Dave’s Pet Food Naturally Healthy Grain-Free Turkey & Giblets Dinner Canned Cat Food, 0.3738369941711426\n",
      "Cat liked: ['Dr. Elsey’s cleanprotein Turkey Formula Grain-Free Canned Cat Food', 'American Journey Minced Chicken & Tuna Recipe in Gravy Grain-Free Canned Cat Food']. Cat disliked: ['Hill’s Science Diet Adult 7+  Savory Chicken Entree Canned Cat Food', 'Royal Canin Veterinary Diet Renal Support T Canned Cat Food']\n",
      "\n",
      " Combined scores\n"
     ]
    },
    {
     "data": {
      "text/html": [
       "<div>\n",
       "<style scoped>\n",
       "    .dataframe tbody tr th:only-of-type {\n",
       "        vertical-align: middle;\n",
       "    }\n",
       "\n",
       "    .dataframe tbody tr th {\n",
       "        vertical-align: top;\n",
       "    }\n",
       "\n",
       "    .dataframe thead th {\n",
       "        text-align: right;\n",
       "    }\n",
       "</style>\n",
       "<table border=\"1\" class=\"dataframe\">\n",
       "  <thead>\n",
       "    <tr style=\"text-align: right;\">\n",
       "      <th></th>\n",
       "      <th>combined</th>\n",
       "    </tr>\n",
       "    <tr>\n",
       "      <th>product</th>\n",
       "      <th></th>\n",
       "    </tr>\n",
       "  </thead>\n",
       "  <tbody>\n",
       "    <tr>\n",
       "      <th>I and Love and You  Purrky Turkey Pate Grain-Free Canned Cat Food</th>\n",
       "      <td>3.0</td>\n",
       "    </tr>\n",
       "    <tr>\n",
       "      <th>Triumph Ocean Fish Formula Canned Cat Food</th>\n",
       "      <td>3.0</td>\n",
       "    </tr>\n",
       "    <tr>\n",
       "      <th>American Journey Minced Turkey Recipe in Gravy Grain-Free Canned Cat Food</th>\n",
       "      <td>3.5</td>\n",
       "    </tr>\n",
       "    <tr>\n",
       "      <th>Tiny Tiger Pate Turkey and Giblets Recipe Grain-Free Canned Cat Food</th>\n",
       "      <td>3.5</td>\n",
       "    </tr>\n",
       "    <tr>\n",
       "      <th>Tiki Cat Koolina Luau Chicken with Egg in Chicken Consomme Grain-Free Canned Cat Food</th>\n",
       "      <td>4.0</td>\n",
       "    </tr>\n",
       "    <tr>\n",
       "      <th>Tiny Tiger Pate Salmon Recipe Grain-Free Canned Cat Food</th>\n",
       "      <td>4.0</td>\n",
       "    </tr>\n",
       "    <tr>\n",
       "      <th>Tiny Tiger Pate Whitefish and Tuna Recipe Grain-Free Canned Cat Food</th>\n",
       "      <td>4.5</td>\n",
       "    </tr>\n",
       "    <tr>\n",
       "      <th>Purina Pro Plan Savor Adult Chicken  Tomato &amp; Pasta Entree in Gravy Canned Cat Food</th>\n",
       "      <td>4.5</td>\n",
       "    </tr>\n",
       "    <tr>\n",
       "      <th>Purina Pro Plan True Nature Classic Natural Chicken &amp; Liver Entree Grain-Free Canned Cat Food</th>\n",
       "      <td>5.0</td>\n",
       "    </tr>\n",
       "    <tr>\n",
       "      <th>Dave’s Pet Food Naturally Healthy Grain-Free Turkey &amp; Giblets Dinner Canned Cat Food</th>\n",
       "      <td>5.0</td>\n",
       "    </tr>\n",
       "  </tbody>\n",
       "</table>\n",
       "</div>"
      ],
      "text/plain": [
       "                                                                                               combined\n",
       "product                                                                                                \n",
       "I and Love and You  Purrky Turkey Pate Grain-Free Canned Cat Food                                   3.0\n",
       "Triumph Ocean Fish Formula Canned Cat Food                                                          3.0\n",
       "American Journey Minced Turkey Recipe in Gravy Grain-Free Canned Cat Food                           3.5\n",
       "Tiny Tiger Pate Turkey and Giblets Recipe Grain-Free Canned Cat Food                                3.5\n",
       "Tiki Cat Koolina Luau Chicken with Egg in Chicken Consomme Grain-Free Canned Cat Food               4.0\n",
       "Tiny Tiger Pate Salmon Recipe Grain-Free Canned Cat Food                                            4.0\n",
       "Tiny Tiger Pate Whitefish and Tuna Recipe Grain-Free Canned Cat Food                                4.5\n",
       "Purina Pro Plan Savor Adult Chicken  Tomato & Pasta Entree in Gravy Canned Cat Food                 4.5\n",
       "Purina Pro Plan True Nature Classic Natural Chicken & Liver Entree Grain-Free Canned Cat Food       5.0\n",
       "Dave’s Pet Food Naturally Healthy Grain-Free Turkey & Giblets Dinner Canned Cat Food                5.0"
      ]
     },
     "execution_count": 11,
     "metadata": {},
     "output_type": "execute_result"
    }
   ],
   "source": [
    "label_decoder = df[['product_label','product']].set_index('product_label').to_dict()['product']\n",
    "label_encoder = df[['product_label','product']].set_index('product').to_dict()['product_label']\n",
    "\n",
    "num_returned = 5\n",
    "results_shown = 10\n",
    "\n",
    "pd.set_option('display.max_colwidth', 200)\n",
    "positives = [67,2]\n",
    "negatives = [228,361]\n",
    "# positives = [2]\n",
    "# negatives = []\n",
    "\n",
    "similarity_results = pd.DataFrame(index = product_info['product'],columns = ['dbow_rank','dm_rank','combined'])\n",
    "similar_items_dbow = model_dbow.docvecs.most_similar(positive=positives,negative = negatives,topn=num_returned)\n",
    "similar_items_dm = model_dm.docvecs.most_similar(positive=positives,negative = negatives,topn=num_returned)\n",
    "\n",
    "# print(\"DBOW:\",similar_items_dbow)\n",
    "# print(\"DM:\",similar_items_dm)\n",
    "\n",
    "decoded_dbow = [(label_decoder[label],similarity) for (label,similarity) in similar_items_dbow]\n",
    "decoded_dm = [(label_decoder[label],similarity) for (label,similarity) in similar_items_dm]\n",
    "\n",
    "print(\"Dbow model similarities:\")\n",
    "for (rank, product) in enumerate(decoded_dbow):\n",
    "    name = product[0]\n",
    "    score = product[1]\n",
    "    similarity_results.loc[name,\"dbow_rank\"] = rank\n",
    "    print(f'{rank}: {name}, {score}')\n",
    "\n",
    "print(\"\\n DM model similarities:\")\n",
    "for (rank, product) in enumerate(decoded_dm):\n",
    "    name = product[0]\n",
    "    score = product[1]\n",
    "    similarity_results.loc[name,\"dm_rank\"] = rank\n",
    "    print(f'{rank}: {name}, {score}')\n",
    "\n",
    "similarity_results.fillna(value=num_returned+1,inplace=True)\n",
    "similarity_results[\"combined\"] = (similarity_results[\"dbow_rank\"] + similarity_results[\"dm_rank\"])/2\n",
    "\n",
    "liked = [label_decoder[i] for i in positives]\n",
    "disliked = [label_decoder[i] for i in negatives]\n",
    "print(f'Cat liked: {liked}. Cat disliked: {disliked}')\n",
    "print(\"\\n Combined scores\")\n",
    "similarity_results.sort_values(by='combined',ascending=True).drop(columns=['dbow_rank','dm_rank'],axis=0).head(results_shown)\n",
    "\n",
    "\n"
   ]
  },
  {
   "cell_type": "code",
   "execution_count": 12,
   "metadata": {},
   "outputs": [],
   "source": [
    "filter_products = [item in df['product'].values for item in product_info['product']]\n",
    "af = product_info[filter_products]\n",
    "af['product_label']=le.fit_transform(af['product'])\n",
    "brand_list = {name : brand for (name,brand) in zip(af['product'],af['brand'])}\n",
    "\n",
    "sample_brands = ['Fancy Feast',\n",
    "                 'Friskies',\n",
    "                 'Blue Buffalo',\n",
    "                 'Purina Pro Plan', \n",
    "                 'Hills Prescription Diet',\n",
    "                 'Nutro',\n",
    "                 'Wellness',\n",
    "                ]"
   ]
  },
  {
   "cell_type": "code",
   "execution_count": 13,
   "metadata": {},
   "outputs": [],
   "source": [
    "vec_list = {name : model_dbow.docvecs[x] for (name,x) in zip(af['product'].to_list(),af['product_label'].to_list()) if brand_list[name] in sample_brands\n",
    "           };\n",
    "\n",
    "embeddings = pd.DataFrame.from_dict(vec_list,orient='index')"
   ]
  },
  {
   "cell_type": "code",
   "execution_count": 15,
   "metadata": {},
   "outputs": [
    {
     "name": "stderr",
     "output_type": "stream",
     "text": [
      "/Users/danielben-zion/anaconda3/envs/insight/lib/python3.6/site-packages/sklearn/metrics/pairwise.py:258: RuntimeWarning: invalid value encountered in sqrt\n",
      "  return distances if squared else np.sqrt(distances, out=distances)\n"
     ]
    },
    {
     "data": {
      "text/plain": [
       "<matplotlib.legend.Legend at 0x1a3b42f2e8>"
      ]
     },
     "execution_count": 15,
     "metadata": {},
     "output_type": "execute_result"
    },
    {
     "data": {
      "image/png": "[encoded data removed]",
      "text/plain": [
       "<Figure size 432x432 with 1 Axes>"
      ]
     },
     "metadata": {
      "needs_background": "light"
     },
     "output_type": "display_data"
    }
   ],
   "source": [
    "# from sklearn.decomposition import PCA\n",
    "import seaborn as sns\n",
    "import matplotlib.pyplot as plt\n",
    "import umap \n",
    "\n",
    "%matplotlib inline\n",
    "# pca = PCA(n_components=2)\n",
    "embeddings_viz = umap.UMAP(min_dist = 0.0,\n",
    "                          n_neighbors = 20,\n",
    "                          metric='euclidean').fit_transform(embeddings)\n",
    "brand_name = [brand_list[name] for name in embeddings.index]\n",
    "\n",
    "fig,axis = plt.subplots(figsize=(6,6))\n",
    "sns.scatterplot(x=embeddings_viz[:,0], y=embeddings_viz[:,1],hue = brand_name, s = 30,ax=axis)\n",
    "axis.axis('off')\n",
    "axis.legend(bbox_to_anchor=(1.05, 1), loc=2, borderaxespad=0.)\n",
    "\n",
    "# plt.savefig('plots/BrandSeparation.png',bbox_inches='tight')\n",
    "\n"
   ]
  },
  {
   "cell_type": "code",
   "execution_count": 25,
   "metadata": {},
   "outputs": [],
   "source": [
    "import pickle\n",
    "# save what we need to use in the backend\n",
    "\n",
    "# the model\n",
    "model_dbow.save('catfood-d2v-dbow.model')\n",
    "model_dm.save('catfood-d2v-dm.model')\n",
    "\n",
    "# the label decoder\n",
    "with open(\"label-decoder.pkl\",\"wb\") as f:\n",
    "    pickle.dump(label_decoder,f)\n",
    "    \n",
    "# the label encoder\n",
    "with open(\"label-encoder.pkl\",\"wb\") as f:\n",
    "    pickle.dump(label_encoder,f)\n",
    "\n",
    "import json\n",
    "name_list_to_json = []\n",
    "\n",
    "for name in set(df_clean['product']):\n",
    "    name_list_to_json.append(dict(name=name))\n",
    "\n",
    "with open('foods.json','w') as json_file:\n",
    "    json.dump(name_list_to_json,json_file)\n",
    "    \n",
    "model_dbow.delete_temporary_training_data(keep_doctags_vectors=True, keep_inference=True)\n",
    "model_dm.delete_temporary_training_data(keep_doctags_vectors=True, keep_inference=True)"
   ]
  },
  {
   "cell_type": "code",
   "execution_count": 39,
   "metadata": {},
   "outputs": [
    {
     "name": "stdout",
     "output_type": "stream",
     "text": [
      "[('5_5', 0.22314494848251343), ('female', 0.22056111693382263), ('level', 0.20638930797576904), ('easiest', 0.20186680555343628), ('special', 0.1922738254070282), ('unexpected', 0.18582645058631897), ('2', 0.1849033534526825), ('extend', 0.18199223279953003), ('whilst', 0.18096841871738434), ('wont_touch', 0.17899560928344727)]\n"
     ]
    }
   ],
   "source": [
    "label=label_encoder['Tiny Tiger Chunks in EXTRA Gravy Tuna Recipe Grain-Free Canned Cat Food']\n",
    "word = model_dbow.docvecs[label]\n",
    "# print(word)\n",
    "print(model_dbow.wv.similar_by_vector(word))"
   ]
  },
  {
   "cell_type": "markdown",
   "metadata": {},
   "source": [
    "## Validation Exploration"
   ]
  },
  {
   "cell_type": "code",
   "execution_count": 26,
   "metadata": {},
   "outputs": [],
   "source": [
    "import pickle\n",
    "model_dbow = Doc2Vec.load('catfood-d2v-dbow.model')\n",
    "model_dm = Doc2Vec.load('catfood-d2v-dm.model')\n",
    "label_encoder = pickle.load( open('label-encoder.pkl','rb') )\n",
    "label_decoder = pickle.load( open('label-decoder.pkl','rb') )\n",
    "pd.set_option('display.max_colwidth',200)"
   ]
  },
  {
   "cell_type": "code",
   "execution_count": 16,
   "metadata": {},
   "outputs": [
    {
     "data": {
      "text/plain": [
       "review_author\n",
       "Birti            6\n",
       "Kris            14\n",
       "CatWhisperer     9\n",
       "carol334         6\n",
       "Jojo            13\n",
       "Name: review_author, dtype: int64"
      ]
     },
     "execution_count": 16,
     "metadata": {},
     "output_type": "execute_result"
    }
   ],
   "source": [
    "author_count = df.groupby('review_author')['review_author'].count()\n",
    "authorgroup = author_count[(author_count > 5) & (author_count < 15)]\n",
    "authorgroup.sample(5)\n",
    "# authorgroup = author_count"
   ]
  },
  {
   "cell_type": "code",
   "execution_count": 22,
   "metadata": {},
   "outputs": [
    {
     "data": {
      "text/html": [
       "<div>\n",
       "<style scoped>\n",
       "    .dataframe tbody tr th:only-of-type {\n",
       "        vertical-align: middle;\n",
       "    }\n",
       "\n",
       "    .dataframe tbody tr th {\n",
       "        vertical-align: top;\n",
       "    }\n",
       "\n",
       "    .dataframe thead th {\n",
       "        text-align: right;\n",
       "    }\n",
       "</style>\n",
       "<table border=\"1\" class=\"dataframe\">\n",
       "  <thead>\n",
       "    <tr style=\"text-align: right;\">\n",
       "      <th></th>\n",
       "      <th>product</th>\n",
       "      <th>rating</th>\n",
       "      <th>review_text</th>\n",
       "      <th>product_label</th>\n",
       "    </tr>\n",
       "  </thead>\n",
       "  <tbody>\n",
       "    <tr>\n",
       "      <th>808</th>\n",
       "      <td>I and Love and You Oh My Cod! Pate Grain-Free Canned Cat Food</td>\n",
       "      <td>5</td>\n",
       "      <td>i always feed my cats a variety of canned foods in the evening and this flavor got a lot of attention when i first opened it  i hope they stay enthusiastic about it  it's always nice to find a hea...</td>\n",
       "      <td>242</td>\n",
       "    </tr>\n",
       "    <tr>\n",
       "      <th>1418</th>\n",
       "      <td>Tiki Cat Tahitian Grill Sardine Cutlets Grain-Free Canned Cat Food</td>\n",
       "      <td>4</td>\n",
       "      <td>when i find food still in the bowl when i get up in the morning, it tells me my cats don't particularly like something   this was the case with this food</td>\n",
       "      <td>398</td>\n",
       "    </tr>\n",
       "    <tr>\n",
       "      <th>10250</th>\n",
       "      <td>Weruva Cats in the Kitchen Lamb Burgini Lamb Au Jus Grain-Free Canned Cat Food</td>\n",
       "      <td>3</td>\n",
       "      <td>my cats seemed to like glam and punk pretty well but this variety has been a dud with them  i really like the  brand but not this flavor</td>\n",
       "      <td>434</td>\n",
       "    </tr>\n",
       "    <tr>\n",
       "      <th>12791</th>\n",
       "      <td>Blue Buffalo Healthy Gourmet Flaked Fish &amp; Shrimp Entree in Gravy Canned Cat Food</td>\n",
       "      <td>5</td>\n",
       "      <td>i wasn't sure if my cats would eat this or not since they often don't like foods that have lumps but they are enthusiastic about it  definitely a keeper with my 7 kitties</td>\n",
       "      <td>30</td>\n",
       "    </tr>\n",
       "    <tr>\n",
       "      <th>15584</th>\n",
       "      <td>Wellness Complete Health Chicken &amp; Lobster Formula Canned Cat Food</td>\n",
       "      <td>5</td>\n",
       "      <td>this flavor has been a big hit with all of my gang  i will definitely make it part of my regular chewy orders in the future</td>\n",
       "      <td>420</td>\n",
       "    </tr>\n",
       "    <tr>\n",
       "      <th>24598</th>\n",
       "      <td>Purina Beyond Grain-Free Trout &amp; Catfish Pate Recipe Canned Cat Food</td>\n",
       "      <td>5</td>\n",
       "      <td>all my cats really seem to like this which is saying a lot   i have one that has verged into a picky eater but this is on her aok list</td>\n",
       "      <td>302</td>\n",
       "    </tr>\n",
       "    <tr>\n",
       "      <th>28486</th>\n",
       "      <td>Fancy Feast Classic Tender Beef &amp; Liver Feast Canned Cat Food</td>\n",
       "      <td>2</td>\n",
       "      <td>i have 7 cats and none of them liked this food  they simply do not like beef flavored cat foods</td>\n",
       "      <td>88</td>\n",
       "    </tr>\n",
       "    <tr>\n",
       "      <th>33834</th>\n",
       "      <td>Blue Buffalo Basics Limited Ingredient Grain-Free Indoor Fish &amp; Potato Entree Adult Canned Cat Food</td>\n",
       "      <td>4</td>\n",
       "      <td>this has probably been one of the poorest selections of  cat food that my cats have been given  they eventually eat all of it but it is usually the last to go  i probably won't reorder</td>\n",
       "      <td>23</td>\n",
       "    </tr>\n",
       "    <tr>\n",
       "      <th>34140</th>\n",
       "      <td>Weruva Nine Liver with Chicken &amp; Chicken Liver in Gravy Grain-Free Canned Cat Food</td>\n",
       "      <td>3</td>\n",
       "      <td>my cats have little enthusiasm for this flavor   makes great cat food but this variety is not a winner with my crew</td>\n",
       "      <td>441</td>\n",
       "    </tr>\n",
       "    <tr>\n",
       "      <th>40039</th>\n",
       "      <td>Tiki Cat Makaha Grill Mackerel &amp; Sardine in Calamari Consomme Grain-Free Canned Cat Food</td>\n",
       "      <td>4</td>\n",
       "      <td>my cats seem to like an awful lot of other foods over this</td>\n",
       "      <td>393</td>\n",
       "    </tr>\n",
       "    <tr>\n",
       "      <th>40411</th>\n",
       "      <td>Blue Buffalo Wilderness Wild Delights Flaked Chicken &amp; Turkey Grain-Free Canned Cat Food</td>\n",
       "      <td>5</td>\n",
       "      <td>most of the time my cats aren't too fond of turkey but they do seem to like this combo   the texture is good too since i gave up on them with cat foods that are labeled \"with gravy \"  this will be...</td>\n",
       "      <td>53</td>\n",
       "    </tr>\n",
       "    <tr>\n",
       "      <th>42622</th>\n",
       "      <td>Weruva Truluxe Mediterranean Harvest with Tuna &amp; Veggies in Gravy Grain-Free Canned Cat Food</td>\n",
       "      <td>3</td>\n",
       "      <td>in all fairness i will state at the beginning that my cats are not tuna fans so i probably should not have been surprised that they don't like it very much  i also have to say my kitties are no di...</td>\n",
       "      <td>443</td>\n",
       "    </tr>\n",
       "  </tbody>\n",
       "</table>\n",
       "</div>"
      ],
      "text/plain": [
       "                                                                                                   product  rating  \\\n",
       "808                                          I and Love and You Oh My Cod! Pate Grain-Free Canned Cat Food       5   \n",
       "1418                                    Tiki Cat Tahitian Grill Sardine Cutlets Grain-Free Canned Cat Food       4   \n",
       "10250                       Weruva Cats in the Kitchen Lamb Burgini Lamb Au Jus Grain-Free Canned Cat Food       3   \n",
       "12791                    Blue Buffalo Healthy Gourmet Flaked Fish & Shrimp Entree in Gravy Canned Cat Food       5   \n",
       "15584                                   Wellness Complete Health Chicken & Lobster Formula Canned Cat Food       5   \n",
       "24598                                 Purina Beyond Grain-Free Trout & Catfish Pate Recipe Canned Cat Food       5   \n",
       "28486                                        Fancy Feast Classic Tender Beef & Liver Feast Canned Cat Food       2   \n",
       "33834  Blue Buffalo Basics Limited Ingredient Grain-Free Indoor Fish & Potato Entree Adult Canned Cat Food       4   \n",
       "34140                   Weruva Nine Liver with Chicken & Chicken Liver in Gravy Grain-Free Canned Cat Food       3   \n",
       "40039             Tiki Cat Makaha Grill Mackerel & Sardine in Calamari Consomme Grain-Free Canned Cat Food       4   \n",
       "40411             Blue Buffalo Wilderness Wild Delights Flaked Chicken & Turkey Grain-Free Canned Cat Food       5   \n",
       "42622         Weruva Truluxe Mediterranean Harvest with Tuna & Veggies in Gravy Grain-Free Canned Cat Food       3   \n",
       "\n",
       "                                                                                                                                                                                                   review_text  \\\n",
       "808    i always feed my cats a variety of canned foods in the evening and this flavor got a lot of attention when i first opened it  i hope they stay enthusiastic about it  it's always nice to find a hea...   \n",
       "1418                                                when i find food still in the bowl when i get up in the morning, it tells me my cats don't particularly like something   this was the case with this food    \n",
       "10250                                                                my cats seemed to like glam and punk pretty well but this variety has been a dud with them  i really like the  brand but not this flavor    \n",
       "12791                              i wasn't sure if my cats would eat this or not since they often don't like foods that have lumps but they are enthusiastic about it  definitely a keeper with my 7 kitties    \n",
       "15584                                                                             this flavor has been a big hit with all of my gang  i will definitely make it part of my regular chewy orders in the future    \n",
       "24598                                                                  all my cats really seem to like this which is saying a lot   i have one that has verged into a picky eater but this is on her aok list    \n",
       "28486                                                                                                         i have 7 cats and none of them liked this food  they simply do not like beef flavored cat foods    \n",
       "33834                this has probably been one of the poorest selections of  cat food that my cats have been given  they eventually eat all of it but it is usually the last to go  i probably won't reorder    \n",
       "34140                                                                                     my cats have little enthusiasm for this flavor   makes great cat food but this variety is not a winner with my crew    \n",
       "40039                                                                                                                                              my cats seem to like an awful lot of other foods over this    \n",
       "40411  most of the time my cats aren't too fond of turkey but they do seem to like this combo   the texture is good too since i gave up on them with cat foods that are labeled \"with gravy \"  this will be...   \n",
       "42622  in all fairness i will state at the beginning that my cats are not tuna fans so i probably should not have been surprised that they don't like it very much  i also have to say my kitties are no di...   \n",
       "\n",
       "       product_label  \n",
       "808              242  \n",
       "1418             398  \n",
       "10250            434  \n",
       "12791             30  \n",
       "15584            420  \n",
       "24598            302  \n",
       "28486             88  \n",
       "33834             23  \n",
       "34140            441  \n",
       "40039            393  \n",
       "40411             53  \n",
       "42622            443  "
      ]
     },
     "execution_count": 22,
     "metadata": {},
     "output_type": "execute_result"
    }
   ],
   "source": [
    "user = 'CarolinaCat'\n",
    "df[df['review_author']==user][['product','rating','review_text','product_label']]"
   ]
  },
  {
   "cell_type": "code",
   "execution_count": 23,
   "metadata": {},
   "outputs": [],
   "source": [
    "positives = [242,30]\n",
    "negatives = [441,88]"
   ]
  },
  {
   "cell_type": "code",
   "execution_count": 24,
   "metadata": {
    "scrolled": true
   },
   "outputs": [
    {
     "data": {
      "text/html": [
       "<div>\n",
       "<style scoped>\n",
       "    .dataframe tbody tr th:only-of-type {\n",
       "        vertical-align: middle;\n",
       "    }\n",
       "\n",
       "    .dataframe tbody tr th {\n",
       "        vertical-align: top;\n",
       "    }\n",
       "\n",
       "    .dataframe thead th {\n",
       "        text-align: right;\n",
       "    }\n",
       "</style>\n",
       "<table border=\"1\" class=\"dataframe\">\n",
       "  <thead>\n",
       "    <tr style=\"text-align: right;\">\n",
       "      <th></th>\n",
       "      <th>sim_score_db</th>\n",
       "      <th>sim_score_dm</th>\n",
       "      <th>avg_sim</th>\n",
       "    </tr>\n",
       "    <tr>\n",
       "      <th>product</th>\n",
       "      <th></th>\n",
       "      <th></th>\n",
       "      <th></th>\n",
       "    </tr>\n",
       "  </thead>\n",
       "  <tbody>\n",
       "    <tr>\n",
       "      <th>Blue Buffalo Healthy Gourmet Pate Ocean Fish &amp; Tuna Entree Adult Canned Cat Food</th>\n",
       "      <td>1.000000</td>\n",
       "      <td>0.837912</td>\n",
       "      <td>0.918956</td>\n",
       "    </tr>\n",
       "    <tr>\n",
       "      <th>Hill’s Science Diet Adult Sensitive Stomach &amp; Skin Chicken &amp; Vegetable Entrée Canned Cat Food</th>\n",
       "      <td>0.729635</td>\n",
       "      <td>0.887150</td>\n",
       "      <td>0.808392</td>\n",
       "    </tr>\n",
       "    <tr>\n",
       "      <th>Blue Buffalo Wilderness Wild Delights Flaked Chicken &amp; Trout in Tasty Gravy for Kittens Grain-Free Canned Cat Food</th>\n",
       "      <td>0.676285</td>\n",
       "      <td>0.888736</td>\n",
       "      <td>0.782510</td>\n",
       "    </tr>\n",
       "    <tr>\n",
       "      <th>Blue Buffalo Healthy Gourmet Pate Salmon Entree Indoor Adult Canned Cat Food</th>\n",
       "      <td>0.900538</td>\n",
       "      <td>0.595322</td>\n",
       "      <td>0.747930</td>\n",
       "    </tr>\n",
       "    <tr>\n",
       "      <th>Blue Buffalo Freedom Indoor Adult Chicken Recipe Grain-Free Canned Cat Food</th>\n",
       "      <td>0.713992</td>\n",
       "      <td>0.760642</td>\n",
       "      <td>0.737317</td>\n",
       "    </tr>\n",
       "  </tbody>\n",
       "</table>\n",
       "</div>"
      ],
      "text/plain": [
       "                                                                                                                    sim_score_db  sim_score_dm   avg_sim\n",
       "product                                                                                                                                                 \n",
       "Blue Buffalo Healthy Gourmet Pate Ocean Fish & Tuna Entree Adult Canned Cat Food                                        1.000000      0.837912  0.918956\n",
       "Hill’s Science Diet Adult Sensitive Stomach & Skin Chicken & Vegetable Entrée Canned Cat Food                           0.729635      0.887150  0.808392\n",
       "Blue Buffalo Wilderness Wild Delights Flaked Chicken & Trout in Tasty Gravy for Kittens Grain-Free Canned Cat Food      0.676285      0.888736  0.782510\n",
       "Blue Buffalo Healthy Gourmet Pate Salmon Entree Indoor Adult Canned Cat Food                                            0.900538      0.595322  0.747930\n",
       "Blue Buffalo Freedom Indoor Adult Chicken Recipe Grain-Free Canned Cat Food                                             0.713992      0.760642  0.737317"
      ]
     },
     "execution_count": 24,
     "metadata": {},
     "output_type": "execute_result"
    }
   ],
   "source": [
    "num_returned = 1000\n",
    "results_shown = 10\n",
    "\n",
    "similarity_results = pd.DataFrame(index = product_info['product'],columns = ['dbow_rank','dm_rank','combined'])\n",
    "similar_items_dbow = model_dbow.docvecs.most_similar(positive=positives,negative = negatives,topn=num_returned)\n",
    "similar_items_dm = model_dm.docvecs.most_similar(positive=positives,negative = negatives,topn=num_returned)\n",
    "#     print(similar_items)\n",
    "decoded_dbow = [(label_decoder[label],similarity) for (label,similarity) in similar_items_dbow]\n",
    "decoded_dm = [(label_decoder[label],similarity) for (label,similarity) in similar_items_dm]\n",
    "\n",
    "def scale_scores(df,field):\n",
    "    df[field] = df[field].apply(lambda r: r/df[field].max())\n",
    "    return df\n",
    "\n",
    "dbow_results = pd.DataFrame(decoded_dbow,columns=['product','sim_score'])\n",
    "dbow_results = scale_scores(dbow_results,'sim_score')\n",
    "\n",
    "dm_results = pd.DataFrame(decoded_dm,columns=['product','sim_score'])\n",
    "dm_results = scale_scores(dm_results,'sim_score')\n",
    "\n",
    "combined_results = dbow_results.set_index('product').join(dm_results.set_index('product'), how = 'left', \n",
    "                                    lsuffix = '_db', rsuffix = '_dm')\n",
    "\n",
    "\n",
    "combined_results['avg_sim'] = (combined_results['sim_score_db'] + combined_results['sim_score_dm'])/2\n",
    "combined_results.sort_values(by='avg_sim',ascending=False).head()\n",
    "    \n",
    "    \n",
    "# print(\"Dbow model similarities:\")\n",
    "# for (rank, product) in enumerate(decoded_dbow):\n",
    "#     name = product[0]\n",
    "#     score = product[1]\n",
    "#     similarity_results.loc[name,\"dbow_rank\"] = rank\n",
    "#     print(f'{rank}: {name}, {score}')\n",
    "\n",
    "# print(\"\\n DM model similarities:\")\n",
    "# for (rank, product) in enumerate(decoded_dm):\n",
    "#     name = product[0]\n",
    "#     score = product[1]\n",
    "#     similarity_results.loc[name,\"dm_rank\"] = rank\n",
    "#     print(f'{rank}: {name}, {score}')\n",
    "\n",
    "# similarity_results.fillna(value=num_returned+1,inplace=True)\n",
    "# similarity_results[\"combined\"] = (similarity_results[\"dbow_rank\"] + similarity_results[\"dm_rank\"])/2\n",
    "\n",
    "# liked = [label_decoder[i] for i in positives]\n",
    "# disliked = [label_decoder[i] for i in negatives]\n",
    "# print(f'Cat liked: {liked}. Cat disliked: {disliked}')\n",
    "# print(\"\\n Combined scores\")\n",
    "# output = similarity_results.sort_values(by='combined',ascending=True).drop(columns=['dbow_rank','dm_rank'],axis=0).head(results_shown)\n",
    "# output"
   ]
  },
  {
   "cell_type": "code",
   "execution_count": 25,
   "metadata": {},
   "outputs": [],
   "source": [
    "test = df[df['review_author']==user][['product','rating']].set_index('product')"
   ]
  },
  {
   "cell_type": "code",
   "execution_count": 26,
   "metadata": {},
   "outputs": [],
   "source": [
    "val = test.join(combined_results,how='left')"
   ]
  },
  {
   "cell_type": "code",
   "execution_count": 27,
   "metadata": {},
   "outputs": [
    {
     "data": {
      "text/plain": [
       "<matplotlib.axes._subplots.AxesSubplot at 0x1a3b25f358>"
      ]
     },
     "execution_count": 27,
     "metadata": {},
     "output_type": "execute_result"
    },
    {
     "data": {
      "image/png": "[encoded data removed]",
      "text/plain": [
       "<Figure size 432x288 with 1 Axes>"
      ]
     },
     "metadata": {
      "needs_background": "light"
     },
     "output_type": "display_data"
    }
   ],
   "source": [
    "val.plot.scatter(x='avg_sim',y='rating')"
   ]
  },
  {
   "cell_type": "code",
   "execution_count": 28,
   "metadata": {},
   "outputs": [],
   "source": [
    "import numpy as np\n",
    "def scale_scores(df,field):\n",
    "    scaleby = max(np.abs(df[field].min()),np.abs(df[field].max()))\n",
    "    df[field] = df[field]/scaleby\n",
    "    return df\n",
    "\n",
    "def generate_val_data(user):\n",
    "    num_returned = 1000\n",
    "    userdata = df[df['review_author']==user]\n",
    "    \n",
    "    if len(userdata.groupby('rating').count()) == 1:\n",
    "        return\n",
    "    \n",
    "    \n",
    "\n",
    "    \n",
    "    low_rankings = userdata[userdata['rating'] <= 3].sort_values(by='rating',ascending=True)\n",
    "    high_rankings = userdata[userdata['rating'] >= 4].sort_values(by='rating',ascending=False)\n",
    "    \n",
    "    \n",
    "#     if len(low_rankings) < 3:\n",
    "#         return\n",
    "    \n",
    "    \n",
    "    negatives = [val for val in low_rankings.head(2)['product_label']]\n",
    "    positives = [val for val in high_rankings.head(2)['product_label']]\n",
    "    \n",
    "    similar_items_dbow = model_dbow.docvecs.most_similar(positive=positives,negative = negatives,topn=num_returned)\n",
    "    similar_items_dm = model_dm.docvecs.most_similar(positive=positives,negative = negatives,topn=num_returned)\n",
    "\n",
    "    decoded_dbow = [(label_decoder[label],similarity) for (label,similarity) in similar_items_dbow]\n",
    "    decoded_dm = [(label_decoder[label],similarity) for (label,similarity) in similar_items_dm]\n",
    "\n",
    "    dbow_results = pd.DataFrame(decoded_dbow,columns=['product','sim_score'])\n",
    "    dbow_results = scale_scores(dbow_results,'sim_score')\n",
    "\n",
    "    dm_results = pd.DataFrame(decoded_dm,columns=['product','sim_score'])\n",
    "    dm_results = scale_scores(dm_results,'sim_score')\n",
    "\n",
    "    combined_results = dbow_results.set_index('product').join(dm_results.set_index('product'), how = 'left', \n",
    "                                        lsuffix = '_db', rsuffix = '_dm')\n",
    "\n",
    "\n",
    "    combined_results['avg_sim'] = (combined_results['sim_score_db'] + combined_results['sim_score_dm'])/2\n",
    "    \n",
    "    tmp = userdata[['product','rating']].set_index('product')\n",
    "    val = tmp.join(combined_results,how='left')\n",
    "    val.dropna(how='any',axis=0,inplace=True)\n",
    "    \n",
    "#     val['rating'] = val['rating'] - val['rating'].mean()\n",
    "    \n",
    "    return val"
   ]
  },
  {
   "cell_type": "code",
   "execution_count": 29,
   "metadata": {},
   "outputs": [],
   "source": [
    "val = pd.concat([generate_val_data(user) for user in authorgroup.index],axis=0)"
   ]
  },
  {
   "cell_type": "code",
   "execution_count": 30,
   "metadata": {},
   "outputs": [
    {
     "data": {
      "image/png": "[encoded data removed]",
      "text/plain": [
       "<Figure size 864x288 with 3 Axes>"
      ]
     },
     "metadata": {
      "needs_background": "light"
     },
     "output_type": "display_data"
    }
   ],
   "source": [
    "def make_val_boxplots(val):\n",
    "    \n",
    "    fig,axes = plt.subplots(nrows=1,ncols=3,figsize=(12,4))\n",
    "    a = sns.boxplot(x='sim_score_dm',y='rating',\n",
    "                        dodge=False,linewidth=2.5,orient='h',data=val,ax = axes[0])\n",
    "    a.invert_yaxis()\n",
    "    b = sns.boxplot(x='sim_score_db',y='rating',\n",
    "                        dodge=False,linewidth=2.5,orient='h',data=val,ax = axes[1])\n",
    "    b.invert_yaxis()\n",
    "    c = sns.boxplot(x='avg_sim',y='rating',\n",
    "                        dodge=False,linewidth=2.5,orient='h',data=val,ax = axes[2])\n",
    "    c.invert_yaxis()\n",
    "    \n",
    "make_val_boxplots(val)"
   ]
  },
  {
   "cell_type": "markdown",
   "metadata": {},
   "source": [
    "## Experimenting with another plot format"
   ]
  },
  {
   "cell_type": "code",
   "execution_count": 35,
   "metadata": {},
   "outputs": [],
   "source": [
    "def into_ranked_dataframe(sim):\n",
    "    \"\"\" Takes the output of doc2vec most_similar and puts it into\n",
    "    a dataframe thats nice to work with \"\"\"\n",
    "    tmp = pd.DataFrame(sim,columns = ['product_label','sim_score'])\n",
    "    tmp['rank'] = tmp.index\n",
    "    tmp['name'] = tmp['product_label'].apply(lambda r: label_decoder[r])\n",
    "    \n",
    "    return tmp[['name','rank']].set_index('name')\n",
    "\n",
    "def generate_rankings_data(user):\n",
    "    num_returned = 1000\n",
    "    userdata = df[df['review_author']==user]\n",
    "    \n",
    "    if len(userdata.groupby('rating').count()) == 1:\n",
    "        return\n",
    "\n",
    "    \n",
    "    low_rankings = userdata[userdata['rating'] <= 3].sort_values(by='rating',ascending=True)\n",
    "    high_rankings = userdata[userdata['rating'] >= 4].sort_values(by='rating',ascending=False)\n",
    "    \n",
    "#     if len(low_rankings) < 3:\n",
    "#         return\n",
    "    \n",
    "    negatives = [val for val in low_rankings.head(2)['product_label']]\n",
    "    positives = [val for val in high_rankings.head(2)['product_label']]\n",
    "    \n",
    "    \n",
    "    similar_items_dbow = model_dbow.docvecs.most_similar(positive=positives,negative = negatives,topn=num_returned)\n",
    "    similar_items_dm = model_dm.docvecs.most_similar(positive=positives,negative = negatives,topn=num_returned)\n",
    "    \n",
    "    db_frame = into_ranked_dataframe(similar_items_dbow)\n",
    "    dm_frame = into_ranked_dataframe(similar_items_dm)\n",
    "\n",
    "    joined = db_frame.join(dm_frame,lsuffix='_db',rsuffix='_dm')\n",
    "    joined['avg_rank'] = joined.mean(axis=1)\n",
    "\n",
    "    tmp = userdata[['product','rating']].set_index('product')\n",
    "    val = tmp.join(joined,how='left')\n",
    "    val.dropna(how='any',axis=0,inplace=True)\n",
    "    \n",
    "#     val[['rank_db','rank_dm','avg_rank']] = val[['rank_db','rank_dm','avg_rank']]/val[['rank_db','rank_dm','avg_rank']].max(axis=0)\n",
    "    \n",
    "    return val"
   ]
  },
  {
   "cell_type": "code",
   "execution_count": 36,
   "metadata": {},
   "outputs": [],
   "source": [
    "val = pd.concat([generate_rankings_data(user) for user in authorgroup.index],axis=0)"
   ]
  },
  {
   "cell_type": "code",
   "execution_count": 37,
   "metadata": {},
   "outputs": [
    {
     "data": {
      "text/html": [
       "<div>\n",
       "<style scoped>\n",
       "    .dataframe tbody tr th:only-of-type {\n",
       "        vertical-align: middle;\n",
       "    }\n",
       "\n",
       "    .dataframe tbody tr th {\n",
       "        vertical-align: top;\n",
       "    }\n",
       "\n",
       "    .dataframe thead th {\n",
       "        text-align: right;\n",
       "    }\n",
       "</style>\n",
       "<table border=\"1\" class=\"dataframe\">\n",
       "  <thead>\n",
       "    <tr style=\"text-align: right;\">\n",
       "      <th></th>\n",
       "      <th>rating</th>\n",
       "      <th>rank_db</th>\n",
       "      <th>rank_dm</th>\n",
       "      <th>avg_rank</th>\n",
       "    </tr>\n",
       "  </thead>\n",
       "  <tbody>\n",
       "    <tr>\n",
       "      <th>Blue Buffalo Healthy Gourmet Pate Turkey &amp; Chicken Entree Adult Canned Cat Food</th>\n",
       "      <td>4</td>\n",
       "      <td>7.0</td>\n",
       "      <td>12.0</td>\n",
       "      <td>9.5</td>\n",
       "    </tr>\n",
       "    <tr>\n",
       "      <th>Nutro Max Adult Lamb &amp; Turkey Cutlets Entree Chunks in Sauce Canned Cat Food</th>\n",
       "      <td>5</td>\n",
       "      <td>201.0</td>\n",
       "      <td>290.0</td>\n",
       "      <td>245.5</td>\n",
       "    </tr>\n",
       "    <tr>\n",
       "      <th>Ziwi Peak Mackerel &amp; Lamb Recipe Canned Cat Food</th>\n",
       "      <td>5</td>\n",
       "      <td>62.0</td>\n",
       "      <td>69.0</td>\n",
       "      <td>65.5</td>\n",
       "    </tr>\n",
       "    <tr>\n",
       "      <th>Tiny Tiger Pate Salmon Recipe Grain-Free Canned Cat Food</th>\n",
       "      <td>3</td>\n",
       "      <td>365.0</td>\n",
       "      <td>342.0</td>\n",
       "      <td>353.5</td>\n",
       "    </tr>\n",
       "    <tr>\n",
       "      <th>Wellness CORE Natural Grain Free Turkey &amp; Duck Pate Canned Cat Food</th>\n",
       "      <td>4</td>\n",
       "      <td>272.0</td>\n",
       "      <td>413.0</td>\n",
       "      <td>342.5</td>\n",
       "    </tr>\n",
       "  </tbody>\n",
       "</table>\n",
       "</div>"
      ],
      "text/plain": [
       "                                                                                 rating  rank_db  rank_dm  avg_rank\n",
       "Blue Buffalo Healthy Gourmet Pate Turkey & Chicken Entree Adult Canned Cat Food       4      7.0     12.0       9.5\n",
       "Nutro Max Adult Lamb & Turkey Cutlets Entree Chunks in Sauce Canned Cat Food          5    201.0    290.0     245.5\n",
       "Ziwi Peak Mackerel & Lamb Recipe Canned Cat Food                                      5     62.0     69.0      65.5\n",
       "Tiny Tiger Pate Salmon Recipe Grain-Free Canned Cat Food                              3    365.0    342.0     353.5\n",
       "Wellness CORE Natural Grain Free Turkey & Duck Pate Canned Cat Food                   4    272.0    413.0     342.5"
      ]
     },
     "execution_count": 37,
     "metadata": {},
     "output_type": "execute_result"
    }
   ],
   "source": [
    "val.head()"
   ]
  },
  {
   "cell_type": "code",
   "execution_count": 38,
   "metadata": {},
   "outputs": [
    {
     "data": {
      "image/png": "[encoded data removed]",
      "text/plain": [
       "<Figure size 864x288 with 3 Axes>"
      ]
     },
     "metadata": {
      "needs_background": "light"
     },
     "output_type": "display_data"
    }
   ],
   "source": [
    "fig,axes = plt.subplots(nrows=1,ncols=3,figsize=(12,4))\n",
    "\n",
    "\n",
    "a = sns.violinplot(x='rank_db',y='rating',inner='quartiles',\n",
    "                    dodge=False,linewidth=2.5,orient='h',data=val,ax = axes[0])\n",
    "a.invert_yaxis()\n",
    "\n",
    "b = sns.violinplot(x='rank_dm',y='rating',inner='quartiles',\n",
    "                    dodge=False,linewidth=2.5,orient='h',data=val,ax = axes[1])\n",
    "b.invert_yaxis()\n",
    "\n",
    "c = sns.violinplot(x='avg_rank',y='rating',inner='quartiles',\n",
    "                    dodge=False,linewidth=2.5,orient='h',data=val,ax = axes[2])\n",
    "c.invert_yaxis()"
   ]
  },
  {
   "cell_type": "code",
   "execution_count": 380,
   "metadata": {},
   "outputs": [],
   "source": [
    "tmp = generate_rankings_data(user)"
   ]
  },
  {
   "cell_type": "code",
   "execution_count": 386,
   "metadata": {},
   "outputs": [],
   "source": [
    "tmp[['rank_db','rank_dm','avg_rank']] = tmp[['rank_db','rank_dm','avg_rank']]/tmp[['rank_db','rank_dm','avg_rank']].max(axis=0)"
   ]
  },
  {
   "cell_type": "code",
   "execution_count": 387,
   "metadata": {},
   "outputs": [
    {
     "data": {
      "text/html": [
       "<div>\n",
       "<style scoped>\n",
       "    .dataframe tbody tr th:only-of-type {\n",
       "        vertical-align: middle;\n",
       "    }\n",
       "\n",
       "    .dataframe tbody tr th {\n",
       "        vertical-align: top;\n",
       "    }\n",
       "\n",
       "    .dataframe thead th {\n",
       "        text-align: right;\n",
       "    }\n",
       "</style>\n",
       "<table border=\"1\" class=\"dataframe\">\n",
       "  <thead>\n",
       "    <tr style=\"text-align: right;\">\n",
       "      <th></th>\n",
       "      <th>rating</th>\n",
       "      <th>rank_db</th>\n",
       "      <th>rank_dm</th>\n",
       "      <th>avg_rank</th>\n",
       "    </tr>\n",
       "    <tr>\n",
       "      <th>product</th>\n",
       "      <th></th>\n",
       "      <th></th>\n",
       "      <th></th>\n",
       "      <th></th>\n",
       "    </tr>\n",
       "  </thead>\n",
       "  <tbody>\n",
       "    <tr>\n",
       "      <th>Tiki Cat Tahitian Grill Sardine Cutlets Grain-Free Canned Cat Food, 2.8-oz, case of 12</th>\n",
       "      <td>4</td>\n",
       "      <td>0.695988</td>\n",
       "      <td>0.820783</td>\n",
       "      <td>0.762050</td>\n",
       "    </tr>\n",
       "    <tr>\n",
       "      <th>Wellness Complete Health Chicken &amp; Lobster Formula Canned Cat Food, 12.5-oz, case of 12</th>\n",
       "      <td>5</td>\n",
       "      <td>0.385802</td>\n",
       "      <td>0.262048</td>\n",
       "      <td>0.324407</td>\n",
       "    </tr>\n",
       "    <tr>\n",
       "      <th>Weruva Truluxe Pretty In Pink with Salmon in Gravy Grain-Free Canned Cat Food, 3-oz, case of 24</th>\n",
       "      <td>4</td>\n",
       "      <td>0.407407</td>\n",
       "      <td>0.558735</td>\n",
       "      <td>0.485845</td>\n",
       "    </tr>\n",
       "    <tr>\n",
       "      <th>Purina Beyond Grain-Free Trout &amp; Catfish Pate Recipe Canned Cat Food, 3-oz, case of 12</th>\n",
       "      <td>5</td>\n",
       "      <td>0.762346</td>\n",
       "      <td>0.365964</td>\n",
       "      <td>0.563887</td>\n",
       "    </tr>\n",
       "    <tr>\n",
       "      <th>Blue Buffalo Basics Limited Ingredient Grain-Free Indoor Fish &amp; Potato Entree Adult Canned Cat Food, 3-oz, case of 24</th>\n",
       "      <td>4</td>\n",
       "      <td>0.404321</td>\n",
       "      <td>0.293675</td>\n",
       "      <td>0.349656</td>\n",
       "    </tr>\n",
       "    <tr>\n",
       "      <th>Weruva Nine Liver with Chicken &amp; Chicken Liver in Gravy Grain-Free Canned Cat Food, 5.5-oz, case of 24</th>\n",
       "      <td>3</td>\n",
       "      <td>0.944444</td>\n",
       "      <td>1.000000</td>\n",
       "      <td>0.976282</td>\n",
       "    </tr>\n",
       "    <tr>\n",
       "      <th>Tiki Cat Makaha Grill Mackerel &amp; Sardine in Calamari Consomme Grain-Free Canned Cat Food, 6-oz, case of 8</th>\n",
       "      <td>4</td>\n",
       "      <td>0.166667</td>\n",
       "      <td>0.942771</td>\n",
       "      <td>0.561591</td>\n",
       "    </tr>\n",
       "    <tr>\n",
       "      <th>Blue Buffalo Wilderness Wild Delights Flaked Chicken &amp; Turkey Grain-Free Canned Cat Food, 5.5-oz, case of 24</th>\n",
       "      <td>5</td>\n",
       "      <td>0.020062</td>\n",
       "      <td>0.012048</td>\n",
       "      <td>0.016067</td>\n",
       "    </tr>\n",
       "    <tr>\n",
       "      <th>Weruva Truluxe Mediterranean Harvest with Tuna &amp; Veggies in Gravy Grain-Free Canned Cat Food, 3-oz, case of 24</th>\n",
       "      <td>3</td>\n",
       "      <td>1.000000</td>\n",
       "      <td>0.992470</td>\n",
       "      <td>1.000000</td>\n",
       "    </tr>\n",
       "    <tr>\n",
       "      <th>Blue Buffalo Wilderness Rocky Mountain Recipe Flaked Trout Feast Adult Grain-Free Canned Cat Food, 5.5-oz, case of 24</th>\n",
       "      <td>5</td>\n",
       "      <td>0.032407</td>\n",
       "      <td>0.081325</td>\n",
       "      <td>0.057383</td>\n",
       "    </tr>\n",
       "  </tbody>\n",
       "</table>\n",
       "</div>"
      ],
      "text/plain": [
       "                                                                                                                       rating   rank_db   rank_dm  avg_rank\n",
       "product                                                                                                                                                    \n",
       "Tiki Cat Tahitian Grill Sardine Cutlets Grain-Free Canned Cat Food, 2.8-oz, case of 12                                      4  0.695988  0.820783  0.762050\n",
       "Wellness Complete Health Chicken & Lobster Formula Canned Cat Food, 12.5-oz, case of 12                                     5  0.385802  0.262048  0.324407\n",
       "Weruva Truluxe Pretty In Pink with Salmon in Gravy Grain-Free Canned Cat Food, 3-oz, case of 24                             4  0.407407  0.558735  0.485845\n",
       "Purina Beyond Grain-Free Trout & Catfish Pate Recipe Canned Cat Food, 3-oz, case of 12                                      5  0.762346  0.365964  0.563887\n",
       "Blue Buffalo Basics Limited Ingredient Grain-Free Indoor Fish & Potato Entree Adult Canned Cat Food, 3-oz, case of 24       4  0.404321  0.293675  0.349656\n",
       "Weruva Nine Liver with Chicken & Chicken Liver in Gravy Grain-Free Canned Cat Food, 5.5-oz, case of 24                      3  0.944444  1.000000  0.976282\n",
       "Tiki Cat Makaha Grill Mackerel & Sardine in Calamari Consomme Grain-Free Canned Cat Food, 6-oz, case of 8                   4  0.166667  0.942771  0.561591\n",
       "Blue Buffalo Wilderness Wild Delights Flaked Chicken & Turkey Grain-Free Canned Cat Food, 5.5-oz, case of 24                5  0.020062  0.012048  0.016067\n",
       "Weruva Truluxe Mediterranean Harvest with Tuna & Veggies in Gravy Grain-Free Canned Cat Food, 3-oz, case of 24              3  1.000000  0.992470  1.000000\n",
       "Blue Buffalo Wilderness Rocky Mountain Recipe Flaked Trout Feast Adult Grain-Free Canned Cat Food, 5.5-oz, case of 24       5  0.032407  0.081325  0.057383"
      ]
     },
     "execution_count": 387,
     "metadata": {},
     "output_type": "execute_result"
    }
   ],
   "source": [
    "tmp"
   ]
  },
  {
   "cell_type": "code",
   "execution_count": 40,
   "metadata": {},
   "outputs": [],
   "source": [
    "mean_product_ratings = df[['product','rating']].groupby('product').mean()\n",
    "\n",
    "def generate_baseline_for_validation(user):\n",
    "    num_returned = 1000\n",
    "    userdata = df[df['review_author']==user]\n",
    "    \n",
    "    tmp = userdata[['product','rating']].set_index('product')\n",
    "    \n",
    "    val = tmp.join(mean_product_ratings,how='left',rsuffix='_mean')\n",
    "    \n",
    "    return val"
   ]
  },
  {
   "cell_type": "code",
   "execution_count": 41,
   "metadata": {},
   "outputs": [],
   "source": [
    "val = pd.concat([generate_baseline_for_validation(user) for user in authorgroup.index],axis=0)\n"
   ]
  },
  {
   "cell_type": "code",
   "execution_count": 56,
   "metadata": {},
   "outputs": [
    {
     "data": {
      "image/png": "[encoded data removed]",
      "text/plain": [
       "<Figure size 576x432 with 1 Axes>"
      ]
     },
     "metadata": {
      "needs_background": "light"
     },
     "output_type": "display_data"
    }
   ],
   "source": [
    "fig = plt.figure(figsize=(8,6))\n",
    "plt.rcParams.update({'font.size': 16})\n",
    "\n",
    "a = sns.boxplot(x='rating_mean',y='rating',\n",
    "                    dodge=False,linewidth=2.5,orient='h',data=val)\n",
    "\n",
    "plt.xlabel('Product Mean Rating')\n",
    "plt.ylabel('Individual User Rating on Product')\n",
    "# plt.title('Baseline for User Decisions')\n",
    "\n",
    "a.invert_yaxis()\n",
    "\n",
    "plt.savefig('plots/baseline.png',bbox_inches='tight')"
   ]
  },
  {
   "cell_type": "code",
   "execution_count": 65,
   "metadata": {},
   "outputs": [
    {
     "data": {
      "text/html": [
       "<div>\n",
       "<style scoped>\n",
       "    .dataframe tbody tr th:only-of-type {\n",
       "        vertical-align: middle;\n",
       "    }\n",
       "\n",
       "    .dataframe tbody tr th {\n",
       "        vertical-align: top;\n",
       "    }\n",
       "\n",
       "    .dataframe thead th {\n",
       "        text-align: right;\n",
       "    }\n",
       "</style>\n",
       "<table border=\"1\" class=\"dataframe\">\n",
       "  <thead>\n",
       "    <tr style=\"text-align: right;\">\n",
       "      <th></th>\n",
       "      <th>rating</th>\n",
       "      <th>sim_score_db</th>\n",
       "      <th>sim_score_dm</th>\n",
       "      <th>avg_sim</th>\n",
       "    </tr>\n",
       "    <tr>\n",
       "      <th>product</th>\n",
       "      <th></th>\n",
       "      <th></th>\n",
       "      <th></th>\n",
       "      <th></th>\n",
       "    </tr>\n",
       "  </thead>\n",
       "  <tbody>\n",
       "    <tr>\n",
       "      <th>Blue Buffalo Healthy Gourmet Pate Turkey &amp; Chicken Entree Adult Canned Cat Food</th>\n",
       "      <td>4</td>\n",
       "      <td>0.727803</td>\n",
       "      <td>0.784648</td>\n",
       "      <td>0.756225</td>\n",
       "    </tr>\n",
       "    <tr>\n",
       "      <th>Nutro Max Adult Lamb &amp; Turkey Cutlets Entree Chunks in Sauce Canned Cat Food</th>\n",
       "      <td>5</td>\n",
       "      <td>0.293449</td>\n",
       "      <td>0.205040</td>\n",
       "      <td>0.249244</td>\n",
       "    </tr>\n",
       "    <tr>\n",
       "      <th>Ziwi Peak Mackerel &amp; Lamb Recipe Canned Cat Food</th>\n",
       "      <td>5</td>\n",
       "      <td>0.588114</td>\n",
       "      <td>0.542931</td>\n",
       "      <td>0.565522</td>\n",
       "    </tr>\n",
       "    <tr>\n",
       "      <th>Tiny Tiger Pate Salmon Recipe Grain-Free Canned Cat Food</th>\n",
       "      <td>3</td>\n",
       "      <td>-0.244665</td>\n",
       "      <td>-0.219459</td>\n",
       "      <td>-0.232062</td>\n",
       "    </tr>\n",
       "    <tr>\n",
       "      <th>Wellness CORE Natural Grain Free Turkey &amp; Duck Pate Canned Cat Food</th>\n",
       "      <td>4</td>\n",
       "      <td>0.192075</td>\n",
       "      <td>-0.273811</td>\n",
       "      <td>-0.040868</td>\n",
       "    </tr>\n",
       "  </tbody>\n",
       "</table>\n",
       "</div>"
      ],
      "text/plain": [
       "                                                                                 rating  sim_score_db  sim_score_dm   avg_sim\n",
       "product                                                                                                                      \n",
       "Blue Buffalo Healthy Gourmet Pate Turkey & Chicken Entree Adult Canned Cat Food       4      0.727803      0.784648  0.756225\n",
       "Nutro Max Adult Lamb & Turkey Cutlets Entree Chunks in Sauce Canned Cat Food          5      0.293449      0.205040  0.249244\n",
       "Ziwi Peak Mackerel & Lamb Recipe Canned Cat Food                                      5      0.588114      0.542931  0.565522\n",
       "Tiny Tiger Pate Salmon Recipe Grain-Free Canned Cat Food                              3     -0.244665     -0.219459 -0.232062\n",
       "Wellness CORE Natural Grain Free Turkey & Duck Pate Canned Cat Food                   4      0.192075     -0.273811 -0.040868"
      ]
     },
     "execution_count": 65,
     "metadata": {},
     "output_type": "execute_result"
    }
   ],
   "source": [
    "val.head(5)"
   ]
  },
  {
   "cell_type": "markdown",
   "metadata": {},
   "source": [
    "## Experimenting with quantitative validation"
   ]
  },
  {
   "cell_type": "markdown",
   "metadata": {},
   "source": [
    "## MAP@K (not complete)"
   ]
  },
  {
   "cell_type": "code",
   "execution_count": 16,
   "metadata": {},
   "outputs": [],
   "source": [
    "# import pickle\n",
    "# import numpy as np\n",
    "# import pandas as pd\n",
    "# from sklearn.metrics import recall_score, precision_score\n",
    "\n",
    "# model_dbow = Doc2Vec.load('catfood-d2v-dbow.model')\n",
    "# model_dm = Doc2Vec.load('catfood-d2v-dm.model')\n",
    "# label_encoder = pickle.load( open('label-encoder.pkl','rb') )\n",
    "# label_decoder = pickle.load( open('label-decoder.pkl','rb') )"
   ]
  },
  {
   "cell_type": "code",
   "execution_count": 3,
   "metadata": {},
   "outputs": [],
   "source": [
    "# df = pd.read_csv('prepared_data.csv')"
   ]
  },
  {
   "cell_type": "code",
   "execution_count": 34,
   "metadata": {},
   "outputs": [],
   "source": [
    "def binarize(arr, tol):\n",
    "    \"\"\"\n",
    "    Convert continous valued array to binary. \n",
    "    \"\"\"\n",
    "    arr[arr < tol] = 0\n",
    "    arr[arr >= tol] = 1\n",
    "    return arr\n",
    "\n",
    "\n",
    "\n",
    "def precision_at_k(true, pred, user_ids, k, tol=4.):\n",
    "    unique_users = np.unique(user_ids.index)\n",
    "    pred_binarized = binarize(pred.copy(), tol)\n",
    "    precisions = np.zeros(unique_users.size)\n",
    "    for i in range(unique_users.size):\n",
    "        user_ind = user_ids == unique_users[i]\n",
    "        user_true = true[user_ind]\n",
    "        user_pred = pred[user_ind]\n",
    "        user_pred_binarized = pred_binarized[user_ind]\n",
    "        ranked_ind = np.argsort(-user_pred)[:k]\n",
    "        precisions[i] = precision_score(user_true[ranked_ind], user_pred_binarized[ranked_ind])\n",
    "    return precisions\n",
    " \n",
    "def MAP_at_k(true, pred, user_ids, k, tol=3.):\n",
    "    unique_users = np.unique(user_ids)\n",
    "    precisions_at_ks = np.zeros((k, unique_users.size))\n",
    "    for i in range(k):\n",
    "        precisions_at_ks[i] = precision_at_k(true, pred, user_ids, i+1, tol)\n",
    "    return np.mean(precisions_at_ks[precisions_at_ks > 0])"
   ]
  },
  {
   "cell_type": "code",
   "execution_count": 35,
   "metadata": {},
   "outputs": [
    {
     "name": "stdout",
     "output_type": "stream",
     "text": [
      "621\n"
     ]
    }
   ],
   "source": [
    "author_count = df.groupby('review_author')['review_author'].count()\n",
    "authorgroup = author_count[(author_count > 5) & (author_count < 20)]\n",
    "print(len(authorgroup))"
   ]
  },
  {
   "cell_type": "code",
   "execution_count": 37,
   "metadata": {},
   "outputs": [],
   "source": [
    "v = generate_rankings_data('wendyannajones')\n"
   ]
  },
  {
   "cell_type": "code",
   "execution_count": null,
   "metadata": {},
   "outputs": [],
   "source": []
  }
 ],
 "metadata": {
  "kernelspec": {
   "display_name": "Python 3",
   "language": "python",
   "name": "python3"
  },
  "language_info": {
   "codemirror_mode": {
    "name": "ipython",
    "version": 3
   },
   "file_extension": ".py",
   "mimetype": "text/x-python",
   "name": "python",
   "nbconvert_exporter": "python",
   "pygments_lexer": "ipython3",
   "version": "3.6.8"
  }
 },
 "nbformat": 4,
 "nbformat_minor": 2
}
