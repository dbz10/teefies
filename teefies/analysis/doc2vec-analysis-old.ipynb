{
 "cells": [
  {
   "cell_type": "markdown",
   "metadata": {},
   "source": [
    "# Attempts at initial analysis"
   ]
  },
  {
   "cell_type": "code",
   "execution_count": 9,
   "metadata": {},
   "outputs": [
    {
     "data": {
      "text/html": [
       "<div>\n",
       "<style scoped>\n",
       "    .dataframe tbody tr th:only-of-type {\n",
       "        vertical-align: middle;\n",
       "    }\n",
       "\n",
       "    .dataframe tbody tr th {\n",
       "        vertical-align: top;\n",
       "    }\n",
       "\n",
       "    .dataframe thead th {\n",
       "        text-align: right;\n",
       "    }\n",
       "</style>\n",
       "<table border=\"1\" class=\"dataframe\">\n",
       "  <thead>\n",
       "    <tr style=\"text-align: right;\">\n",
       "      <th></th>\n",
       "      <th>product</th>\n",
       "      <th>review_author</th>\n",
       "      <th>rating</th>\n",
       "      <th>review_text</th>\n",
       "      <th>helpful_rank</th>\n",
       "      <th>brand</th>\n",
       "      <th>price</th>\n",
       "      <th>oz_per_can</th>\n",
       "      <th>num_cans</th>\n",
       "      <th>price_per_oz</th>\n",
       "      <th>ingredients</th>\n",
       "    </tr>\n",
       "  </thead>\n",
       "  <tbody>\n",
       "    <tr>\n",
       "      <th>21498</th>\n",
       "      <td>Weruva Cats in the Kitchen Love Me Tender Chic...</td>\n",
       "      <td>Leslie</td>\n",
       "      <td>5</td>\n",
       "      <td>Great food, high quality. A lot of moisture wh...</td>\n",
       "      <td>1</td>\n",
       "      <td>Weruva</td>\n",
       "      <td>$16.99</td>\n",
       "      <td>3.0</td>\n",
       "      <td>12.0</td>\n",
       "      <td>0.471944</td>\n",
       "      <td>['Water Sufficient For Processing', ' Chicken ...</td>\n",
       "    </tr>\n",
       "  </tbody>\n",
       "</table>\n",
       "</div>"
      ],
      "text/plain": [
       "                                                 product review_author  \\\n",
       "21498  Weruva Cats in the Kitchen Love Me Tender Chic...        Leslie   \n",
       "\n",
       "       rating                                        review_text  \\\n",
       "21498       5  Great food, high quality. A lot of moisture wh...   \n",
       "\n",
       "       helpful_rank   brand   price  oz_per_can  num_cans  price_per_oz  \\\n",
       "21498             1  Weruva  $16.99         3.0      12.0      0.471944   \n",
       "\n",
       "                                             ingredients  \n",
       "21498  ['Water Sufficient For Processing', ' Chicken ...  "
      ]
     },
     "execution_count": 9,
     "metadata": {},
     "output_type": "execute_result"
    }
   ],
   "source": [
    "from gensim.test.utils import common_texts\n",
    "from gensim.models.doc2vec import Doc2Vec, TaggedDocument\n",
    "from gensim.summarization import keywords, summarize\n",
    "from sklearn.metrics import accuracy_score, f1_score\n",
    "from sklearn.model_selection import train_test_split\n",
    "from sklearn.linear_model import LogisticRegression\n",
    "from sklearn import preprocessing\n",
    "from sklearn import utils\n",
    "import csv\n",
    "import multiprocessing\n",
    "import nltk\n",
    "from nltk.corpus import stopwords\n",
    "from tqdm import tqdm\n",
    "import pandas as pd\n",
    "import seaborn as sns\n",
    "import matplotlib\n",
    "import matplotlib.pyplot as plt\n",
    "\n",
    "from gensim.models.phrases import Phrases\n",
    "from gensim.models.phrases import Phraser\n",
    "\n",
    "product_info = pd.read_csv('../data/CatfoodProductInfo.csv')\n",
    "reviews = pd.read_csv('../data/CatfoodReviewsInfo.csv')\n",
    "df = reviews.join(product_info.set_index('product'), on='product',how='left')\n",
    "# print(df.columns)\n",
    "# product_info['brand'].value_counts()\n",
    "df.sample(1)"
   ]
  },
  {
   "cell_type": "code",
   "execution_count": 10,
   "metadata": {},
   "outputs": [
    {
     "name": "stdout",
     "output_type": "stream",
     "text": [
      "There are 51 brands represented across our reviews.\n",
      "There are 43040 reviews across 668 products\n"
     ]
    }
   ],
   "source": [
    "df = df.dropna(axis=0,how='any')\n",
    "brandnames = set(df['brand'].unique())\n",
    "print(f'There are {len(brandnames)} brands represented across our reviews.')\n",
    "\n",
    "nprods = len(df.groupby('product'))\n",
    "nrevs = len(df)\n",
    "print(f'There are {nrevs} reviews across {nprods} products')\n",
    "# brandnames"
   ]
  },
  {
   "cell_type": "code",
   "execution_count": 4,
   "metadata": {},
   "outputs": [
    {
     "name": "stdout",
     "output_type": "stream",
     "text": [
      "43300\n",
      "40508\n"
     ]
    }
   ],
   "source": [
    "print(len(df))\n",
    "exclude_words = ['Variety','Medley','Multi']\n",
    "for word in exclude_words:\n",
    "    df = df[~df['product'].str.contains(word)]\n",
    "    product_info = product_info[~product_info['product'].str.contains(word)]\n",
    "    \n",
    "print(len(df))\n"
   ]
  },
  {
   "cell_type": "markdown",
   "metadata": {},
   "source": [
    "### Some viz"
   ]
  },
  {
   "cell_type": "code",
   "execution_count": 4,
   "metadata": {},
   "outputs": [
    {
     "name": "stderr",
     "output_type": "stream",
     "text": [
      "/Users/danielben-zion/anaconda3/envs/insight/lib/python3.6/site-packages/scipy/stats/stats.py:1713: FutureWarning: Using a non-tuple sequence for multidimensional indexing is deprecated; use `arr[tuple(seq)]` instead of `arr[seq]`. In the future this will be interpreted as an array index, `arr[np.array(seq)]`, which will result either in an error or a different result.\n",
      "  return np.add.reduce(sorted[indexer] * weights, axis=axis) / sumval\n"
     ]
    },
    {
     "data": {
      "image/png": "[encoded data removed]",
      "text/plain": [
       "<Figure size 432x288 with 1 Axes>"
      ]
     },
     "metadata": {
      "needs_background": "light"
     },
     "output_type": "display_data"
    }
   ],
   "source": [
    "mean_ratings = df.groupby('product').mean()['rating']\n",
    "sns.distplot(mean_ratings,kde=True)\n",
    "plt.xlabel('Rating')\n",
    "plt.title('Across ~40,000 reviews')\n",
    "plt.savefig('plots/individual-ratings-histogram.png',bbox_inches='tight')"
   ]
  },
  {
   "cell_type": "code",
   "execution_count": 12,
   "metadata": {},
   "outputs": [
    {
     "data": {
      "image/png": "[encoded data removed]",
      "text/plain": [
       "<Figure size 432x288 with 1 Axes>"
      ]
     },
     "metadata": {
      "needs_background": "light"
     },
     "output_type": "display_data"
    }
   ],
   "source": [
    "font = {'family' : 'Helvetica Neue',\n",
    "        'weight' : 'normal',\n",
    "        'size'   : 16}\n",
    "\n",
    "matplotlib.rc('font', **font)\n",
    "matplotlib.rc('text', usetex=True)\n",
    "\n",
    "\n",
    "\n",
    "ratings_vs_price = df.groupby('product').mean()[['rating','price_per_oz']]\n",
    "plt.title('626 foods across 50 brands')\n",
    "sns.scatterplot(x='price_per_oz',y='rating',s=60,data=ratings_vs_price)\n",
    "plt.xlabel('Price per Oz');\n",
    "plt.ylabel('Mean Rating');\n",
    "plt.savefig('plots/rating_vs_price.png',bbox_inches='tight')"
   ]
  },
  {
   "cell_type": "code",
   "execution_count": 13,
   "metadata": {},
   "outputs": [
    {
     "data": {
      "image/png": "[encoded data removed]",
      "text/plain": [
       "<Figure size 432x288 with 1 Axes>"
      ]
     },
     "metadata": {
      "needs_background": "light"
     },
     "output_type": "display_data"
    }
   ],
   "source": [
    "from scipy.stats import entropy\n",
    "import numpy as np\n",
    "\n",
    "\n",
    "price = df.groupby('product')['price_per_oz'].mean()\n",
    "# stdevs = df.groupby('product')['rating'].apply(lambda r: entropy(r.value_counts()))\n",
    "stdevs = df.groupby('product')['rating'].std()\n",
    "\n",
    "stdev_vs_price = pd.DataFrame(data={'ppo': price, 'stdev': stdevs})\n",
    "sns.scatterplot(x='ppo',y='stdev',data=stdev_vs_price,s=60)\n",
    "\n",
    "\n",
    "# plt.hlines( y=np.log(2), xmin = price.min(), xmax = price.max())\n",
    "\n",
    "# plt.title('Cat food is polarizing')\n",
    "plt.xlabel('Price per Oz')\n",
    "plt.ylabel(\"$\\displaystyle \\sigma^2 $(ratings)\")\n",
    "plt.savefig('plots/variance-vs-price.png',bbox_inches='tight')"
   ]
  },
  {
   "cell_type": "markdown",
   "metadata": {},
   "source": [
    "## random tfidf stuff. skip down below"
   ]
  },
  {
   "cell_type": "code",
   "execution_count": 3,
   "metadata": {},
   "outputs": [],
   "source": [
    "corpus = df['review_text']\n",
    "tfidf = TfidfVectorizer(ngram_range=(1, 1), \n",
    "                        min_df=0.0001, \n",
    "                        stop_words='english')\n",
    "tfidf_matrix = tfidf.fit_transform(corpus)"
   ]
  },
  {
   "cell_type": "code",
   "execution_count": 5,
   "metadata": {},
   "outputs": [
    {
     "data": {
      "text/plain": [
       "(38559, 5897)"
      ]
     },
     "execution_count": 5,
     "metadata": {},
     "output_type": "execute_result"
    }
   ],
   "source": [
    "tfidf_matrix.shape"
   ]
  },
  {
   "cell_type": "code",
   "execution_count": 6,
   "metadata": {},
   "outputs": [],
   "source": [
    "from gensim.models.doc2vec import Doc2Vec, TaggedDocument"
   ]
  },
  {
   "cell_type": "code",
   "execution_count": null,
   "metadata": {},
   "outputs": [],
   "source": [
    "remove_punct = re.compile()"
   ]
  },
  {
   "cell_type": "markdown",
   "metadata": {},
   "source": [
    "### following https://towardsdatascience.com/implementing-multi-class-text-classification-with-doc2vec-df7c3812824d \n",
    "and(?)\n",
    "https://towardsdatascience.com/multi-class-text-classification-with-doc2vec-logistic-regression-9da9947b43f4"
   ]
  },
  {
   "cell_type": "code",
   "execution_count": 5,
   "metadata": {},
   "outputs": [],
   "source": [
    "# standardize text\n",
    "def standardize_text(df, text_field):\n",
    "    df[text_field] = df[text_field].str.replace(r\"http\\S+\", \"\")\n",
    "    df[text_field] = df[text_field].str.replace(r\"http\", \"\")\n",
    "    df[text_field] = df[text_field].str.replace(r\"@\\S+\", \"\")\n",
    "    df[text_field] = df[text_field].str.replace(r\"[^A-Za-z0-9(),!?@\\'\\`\\\"\\_\\n]\", \" \")\n",
    "    df[text_field] = df[text_field].str.replace(r\"@\", \"at\")\n",
    "    df[text_field] = df[text_field].str.lower()\n",
    "    for brandname in brandnames:\n",
    "        df[text_field] = df[text_field].str.replace(brandname.lower(),\"\")\n",
    "\n",
    "        \n",
    "    return df\n",
    "\n",
    "# Function for tokenizing\n",
    "def tokenize_text(text):\n",
    "    tokens = []\n",
    "    for sent in nltk.sent_tokenize(text):\n",
    "        for word in nltk.word_tokenize(sent):\n",
    "            if len(word) < 2:\n",
    "                continue\n",
    "            tokens.append(word.lower())\n",
    "    return tokens\n",
    "\n",
    "\n",
    "# Label encode the names\n",
    "le = preprocessing.LabelEncoder()\n",
    "df['product_label']=le.fit_transform(df['product'])\n",
    "\n",
    "# print(train_documents[0])\n",
    "\n",
    "df_clean = standardize_text(df,'review_text')"
   ]
  },
  {
   "cell_type": "code",
   "execution_count": 38,
   "metadata": {},
   "outputs": [
    {
     "name": "stderr",
     "output_type": "stream",
     "text": [
      "/Users/danielben-zion/anaconda3/envs/insight/lib/python3.6/site-packages/ipykernel_launcher.py:24: SettingWithCopyWarning: \n",
      "A value is trying to be set on a copy of a slice from a DataFrame.\n",
      "Try using .loc[row_indexer,col_indexer] = value instead\n",
      "\n",
      "See the caveats in the documentation: http://pandas.pydata.org/pandas-docs/stable/indexing.html#indexing-view-versus-copy\n"
     ]
    },
    {
     "name": "stdout",
     "output_type": "stream",
     "text": [
      "Number of reviews prior to dropping short ones 40508\n",
      "Number of reviews after dropping short ones 29083\n"
     ]
    }
   ],
   "source": [
    "from nltk.tokenize import RegexpTokenizer\n",
    "pd.set_option('display.width',200)\n",
    "\n",
    "tokenizer = RegexpTokenizer(r'\\w+')\n",
    "stop_words = set(stopwords.words('english'))\n",
    "df_clean[\"tokens\"] = df_clean[\"review_text\"].apply(tokenizer.tokenize)\n",
    "\n",
    "df_clean['tokens'] = df_clean['tokens'].apply(lambda x: ' '.join( [item for item in x if item not in stop_words]))\n",
    "\n",
    "\n",
    "all_tokens = [t.split() for t in df_clean['tokens']]\n",
    "phrases = Phrases(all_tokens)\n",
    "bigram = Phraser(phrases)\n",
    "trigram_phrases = Phrases(bigram[all_tokens])\n",
    "trigram = Phraser(phrases)\n",
    "\n",
    "df_clean['trigrammed'] = df_clean['tokens'].apply(lambda x: trigram[x.split(' ')])\n",
    "\n",
    "\n",
    "\n",
    "# train, test = train_test_split(df[['review_text','product_label']],test_size=0.0)\n",
    "\n",
    "data = df_clean[['trigrammed','product_label']]\n",
    "data['n_words'] = data['trigrammed'].apply(lambda r: len(r))\n",
    "print(f'Number of reviews prior to dropping short ones {len(data)}')\n",
    "data = data.loc[data['n_words']>=10]\n",
    "print(f'Number of reviews after dropping short ones {len(data)}')\n",
    "# data.head(5)\n",
    "\n",
    "data_tagged = data.apply(\n",
    "    lambda r: TaggedDocument(words=r['trigrammed'], tags=[r.product_label]), axis=1)\n",
    "\n",
    "# train_tagged = train.apply(\n",
    "#     lambda r: TaggedDocument(words=bigram[tokenize_text(r['review_text'])], tags=[r.product_label]), axis=1)\n",
    "# test_tagged = test.apply(\n",
    "#     lambda r: TaggedDocument(words=bigram[tokenize_text(r['review_text'])], tags=[r.product_label]), axis=1)"
   ]
  },
  {
   "cell_type": "code",
   "execution_count": 39,
   "metadata": {},
   "outputs": [
    {
     "data": {
      "text/html": [
       "<div>\n",
       "<style scoped>\n",
       "    .dataframe tbody tr th:only-of-type {\n",
       "        vertical-align: middle;\n",
       "    }\n",
       "\n",
       "    .dataframe tbody tr th {\n",
       "        vertical-align: top;\n",
       "    }\n",
       "\n",
       "    .dataframe thead th {\n",
       "        text-align: right;\n",
       "    }\n",
       "</style>\n",
       "<table border=\"1\" class=\"dataframe\">\n",
       "  <thead>\n",
       "    <tr style=\"text-align: right;\">\n",
       "      <th></th>\n",
       "      <th>trigrammed</th>\n",
       "      <th>product_label</th>\n",
       "      <th>n_words</th>\n",
       "    </tr>\n",
       "  </thead>\n",
       "  <tbody>\n",
       "    <tr>\n",
       "      <th>28468</th>\n",
       "      <td>[cat, piper, loves, little, feast, also, likes, beef, flavor, makes_happy, kitty, makes_happy, owner]</td>\n",
       "      <td>104</td>\n",
       "      <td>13</td>\n",
       "    </tr>\n",
       "    <tr>\n",
       "      <th>30705</th>\n",
       "      <td>[may, picky, cats, touch, food, makes, mad, eat, hard, food]</td>\n",
       "      <td>397</td>\n",
       "      <td>10</td>\n",
       "    </tr>\n",
       "    <tr>\n",
       "      <th>41421</th>\n",
       "      <td>[4, cats, currently, 3, foster_kittens, every_morning, give, cats, spoonful, canned, food, start, mornings, look_forward, 1, cans, feeds, 7, morning, much, economical, smaller_cans, much, cheaper,...</td>\n",
       "      <td>183</td>\n",
       "      <td>33</td>\n",
       "    </tr>\n",
       "    <tr>\n",
       "      <th>37668</th>\n",
       "      <td>[kitty, loves, food, love, ingredients, happy, found, peaks, purest, food, market, besides, raw, course, recommend, food, 100, pricey, definitely_worth]</td>\n",
       "      <td>623</td>\n",
       "      <td>19</td>\n",
       "    </tr>\n",
       "    <tr>\n",
       "      <th>11233</th>\n",
       "      <td>[snickers, loves, gravy, rather, picky, walk_away, cat, food, suit, snickers, never, walks_away, intense_beauty, chunks]</td>\n",
       "      <td>493</td>\n",
       "      <td>14</td>\n",
       "    </tr>\n",
       "  </tbody>\n",
       "</table>\n",
       "</div>"
      ],
      "text/plain": [
       "                                                                                                                                                                                                    trigrammed  \\\n",
       "28468                                                                                                    [cat, piper, loves, little, feast, also, likes, beef, flavor, makes_happy, kitty, makes_happy, owner]   \n",
       "30705                                                                                                                                             [may, picky, cats, touch, food, makes, mad, eat, hard, food]   \n",
       "41421  [4, cats, currently, 3, foster_kittens, every_morning, give, cats, spoonful, canned, food, start, mornings, look_forward, 1, cans, feeds, 7, morning, much, economical, smaller_cans, much, cheaper,...   \n",
       "37668                                                 [kitty, loves, food, love, ingredients, happy, found, peaks, purest, food, market, besides, raw, course, recommend, food, 100, pricey, definitely_worth]   \n",
       "11233                                                                                 [snickers, loves, gravy, rather, picky, walk_away, cat, food, suit, snickers, never, walks_away, intense_beauty, chunks]   \n",
       "\n",
       "       product_label  n_words  \n",
       "28468            104       13  \n",
       "30705            397       10  \n",
       "41421            183       33  \n",
       "37668            623       19  \n",
       "11233            493       14  "
      ]
     },
     "execution_count": 39,
     "metadata": {},
     "output_type": "execute_result"
    }
   ],
   "source": [
    "pd.set_option('display.max_colwidth',200)\n",
    "data.sample(5)"
   ]
  },
  {
   "cell_type": "code",
   "execution_count": 41,
   "metadata": {},
   "outputs": [
    {
     "data": {
      "text/plain": [
       "TaggedDocument(words=['cat', 'loves', 'tiki', 'ahi_tuna', 'finally_found', 'grain_free', 'chicken', 'free', 'canned', 'cat', 'food', 'reasonably_priced', 'chewy', 'service', 'usual', 'quick', 'flawless'], tags=[545])"
      ]
     },
     "execution_count": 41,
     "metadata": {},
     "output_type": "execute_result"
    }
   ],
   "source": [
    "\n",
    "import multiprocessing\n",
    "cores = multiprocessing.cpu_count()\n",
    "data_tagged.sample(1).values[0]"
   ]
  },
  {
   "cell_type": "code",
   "execution_count": 42,
   "metadata": {},
   "outputs": [
    {
     "name": "stderr",
     "output_type": "stream",
     "text": [
      "100%|██████████| 29083/29083 [00:00<00:00, 969072.29it/s]\n",
      "100%|██████████| 29083/29083 [00:00<00:00, 1017100.88it/s]\n"
     ]
    }
   ],
   "source": [
    "cores = multiprocessing.cpu_count()\n",
    "\n",
    "model_dbow = Doc2Vec(dm=0, vector_size=100, negative=5, hs=0, min_count=2, sample = 0, workers=cores,\n",
    "                    alpha=0.05)\n",
    "model_dm = Doc2Vec(dm=1, vector_size=100, window=10, negative=5, hs=0, min_count=2, sample=0,\n",
    "                   workers=cores, alpha=0.05, comment='alpha=0.05')\n",
    "model_dbow.build_vocab([x for x in tqdm(data_tagged.values)])\n",
    "model_dm.build_vocab([x for x in tqdm(data_tagged.values)])"
   ]
  },
  {
   "cell_type": "code",
   "execution_count": 43,
   "metadata": {},
   "outputs": [
    {
     "name": "stderr",
     "output_type": "stream",
     "text": [
      "100%|██████████| 29083/29083 [00:00<00:00, 795765.82it/s]\n",
      "100%|██████████| 29083/29083 [00:00<00:00, 1794684.98it/s]\n",
      "100%|██████████| 29083/29083 [00:00<00:00, 1861084.82it/s]\n",
      "100%|██████████| 29083/29083 [00:00<00:00, 1093507.45it/s]\n",
      "100%|██████████| 29083/29083 [00:00<00:00, 1128165.95it/s]\n",
      "100%|██████████| 29083/29083 [00:00<00:00, 1453718.14it/s]\n",
      "100%|██████████| 29083/29083 [00:00<00:00, 1588795.38it/s]\n",
      "100%|██████████| 29083/29083 [00:00<00:00, 1615197.47it/s]\n",
      "100%|██████████| 29083/29083 [00:00<00:00, 1124598.44it/s]\n",
      "100%|██████████| 29083/29083 [00:00<00:00, 1739209.59it/s]\n",
      "100%|██████████| 29083/29083 [00:00<00:00, 1389548.94it/s]\n",
      "100%|██████████| 29083/29083 [00:00<00:00, 1669215.68it/s]\n",
      "100%|██████████| 29083/29083 [00:00<00:00, 1811233.34it/s]\n",
      "100%|██████████| 29083/29083 [00:00<00:00, 1882046.21it/s]\n",
      "100%|██████████| 29083/29083 [00:00<00:00, 1501365.49it/s]\n",
      "100%|██████████| 29083/29083 [00:00<00:00, 1965184.68it/s]\n",
      "100%|██████████| 29083/29083 [00:00<00:00, 1284693.61it/s]\n",
      "100%|██████████| 29083/29083 [00:00<00:00, 1694419.35it/s]\n",
      "100%|██████████| 29083/29083 [00:00<00:00, 1703648.60it/s]\n",
      "100%|██████████| 29083/29083 [00:00<00:00, 1697673.63it/s]\n",
      "100%|██████████| 29083/29083 [00:00<00:00, 1334999.87it/s]\n",
      "100%|██████████| 29083/29083 [00:00<00:00, 1567138.71it/s]\n",
      "100%|██████████| 29083/29083 [00:00<00:00, 1346078.10it/s]\n",
      "100%|██████████| 29083/29083 [00:00<00:00, 1881930.07it/s]\n",
      "100%|██████████| 29083/29083 [00:00<00:00, 1082282.19it/s]\n",
      "100%|██████████| 29083/29083 [00:00<00:00, 1679234.37it/s]\n",
      "100%|██████████| 29083/29083 [00:00<00:00, 1252070.24it/s]\n",
      "100%|██████████| 29083/29083 [00:00<00:00, 1770742.99it/s]\n",
      "100%|██████████| 29083/29083 [00:00<00:00, 1662300.61it/s]\n",
      "100%|██████████| 29083/29083 [00:00<00:00, 1595758.13it/s]\n",
      "100%|██████████| 29083/29083 [00:00<00:00, 2012687.37it/s]\n",
      "100%|██████████| 29083/29083 [00:00<00:00, 1555071.81it/s]\n",
      "100%|██████████| 29083/29083 [00:00<00:00, 1364828.85it/s]\n",
      "100%|██████████| 29083/29083 [00:00<00:00, 1722947.26it/s]\n",
      "100%|██████████| 29083/29083 [00:00<00:00, 1623106.46it/s]\n",
      "100%|██████████| 29083/29083 [00:00<00:00, 1664455.40it/s]\n",
      "100%|██████████| 29083/29083 [00:00<00:00, 771350.71it/s]\n",
      "100%|██████████| 29083/29083 [00:00<00:00, 1271225.06it/s]\n",
      "100%|██████████| 29083/29083 [00:00<00:00, 1455973.83it/s]\n",
      "100%|██████████| 29083/29083 [00:00<00:00, 1768278.78it/s]\n",
      "100%|██████████| 29083/29083 [00:00<00:00, 1987113.61it/s]\n",
      "100%|██████████| 29083/29083 [00:00<00:00, 1255588.60it/s]\n",
      "100%|██████████| 29083/29083 [00:00<00:00, 931018.26it/s]\n",
      "100%|██████████| 29083/29083 [00:00<00:00, 1887491.97it/s]\n",
      "100%|██████████| 29083/29083 [00:00<00:00, 839114.70it/s]\n",
      "100%|██████████| 29083/29083 [00:00<00:00, 1988474.09it/s]\n",
      "100%|██████████| 29083/29083 [00:00<00:00, 1292233.26it/s]\n",
      "100%|██████████| 29083/29083 [00:00<00:00, 1663388.65it/s]\n",
      "100%|██████████| 29083/29083 [00:00<00:00, 1302596.41it/s]\n",
      "100%|██████████| 29083/29083 [00:00<00:00, 2047999.45it/s]\n",
      "100%|██████████| 29083/29083 [00:00<00:00, 1297470.04it/s]\n",
      "100%|██████████| 29083/29083 [00:00<00:00, 1436056.45it/s]\n",
      "100%|██████████| 29083/29083 [00:00<00:00, 2094415.43it/s]\n",
      "100%|██████████| 29083/29083 [00:00<00:00, 1547967.61it/s]\n",
      "100%|██████████| 29083/29083 [00:00<00:00, 1825463.44it/s]\n",
      "100%|██████████| 29083/29083 [00:00<00:00, 1840251.99it/s]\n",
      "100%|██████████| 29083/29083 [00:00<00:00, 1348757.13it/s]\n",
      "100%|██████████| 29083/29083 [00:00<00:00, 652887.79it/s]\n",
      "100%|██████████| 29083/29083 [00:00<00:00, 1296380.71it/s]\n",
      "100%|██████████| 29083/29083 [00:00<00:00, 1394058.92it/s]\n"
     ]
    },
    {
     "name": "stdout",
     "output_type": "stream",
     "text": [
      "CPU times: user 3min 56s, sys: 28.8 s, total: 4min 24s\n",
      "Wall time: 3min 16s\n"
     ]
    }
   ],
   "source": [
    "%%time\n",
    "cores = multiprocessing.cpu_count()\n",
    "\n",
    "for epoch in range(30):\n",
    "    model_dbow.train(utils.shuffle([x for x in tqdm(data_tagged.values)]), total_examples=len(data_tagged.values), epochs=1)\n",
    "    model_dbow.alpha -= 0.002\n",
    "    model_dbow.min_alpha = model_dbow.alpha\n",
    "    model_dm.train(utils.shuffle([x for x in tqdm(data_tagged.values)]), total_examples=len(data_tagged.values), epochs=1)"
   ]
  },
  {
   "cell_type": "code",
   "execution_count": null,
   "metadata": {},
   "outputs": [
    {
     "name": "stderr",
     "output_type": "stream",
     "text": [
      "/Users/danielben-zion/anaconda3/envs/insight/lib/python3.6/site-packages/sklearn/linear_model/logistic.py:432: FutureWarning: Default solver will be changed to 'lbfgs' in 0.22. Specify a solver to silence this warning.\n",
      "  FutureWarning)\n",
      "/Users/danielben-zion/anaconda3/envs/insight/lib/python3.6/site-packages/sklearn/linear_model/logistic.py:469: FutureWarning: Default multi_class will be changed to 'auto' in 0.22. Specify the multi_class option to silence this warning.\n",
      "  \"this warning.\", FutureWarning)\n"
     ]
    }
   ],
   "source": [
    "# # Takes a long time to run!\n",
    "\n",
    "# def vec_for_learning(model, tagged_docs):\n",
    "#     sents = tagged_docs.values\n",
    "#     targets, regressors = zip(*[(doc.tags[0], model.infer_vector(doc.words, steps=20)) for doc in sents])\n",
    "#     return targets, regressors\n",
    "\n",
    "\n",
    "# y_train, X_train = vec_for_learning(model_dbow, train_tagged)\n",
    "# y_test, X_test = vec_for_learning(model_dbow, test_tagged)\n",
    "# logreg = LogisticRegression(n_jobs=1, C=1e5)\n",
    "# logreg.fit(X_train, y_train)\n",
    "# y_pred = logreg.predict(X_test)\n",
    "# from sklearn.metrics import accuracy_score, f1_score\n",
    "# print('Testing accuracy %s' % accuracy_score(y_test, y_pred))\n",
    "# print('Testing F1 score: {}'.format(f1_score(y_test, y_pred, average='weighted')))"
   ]
  },
  {
   "cell_type": "code",
   "execution_count": 11,
   "metadata": {},
   "outputs": [
    {
     "data": {
      "text/html": [
       "<div>\n",
       "<style scoped>\n",
       "    .dataframe tbody tr th:only-of-type {\n",
       "        vertical-align: middle;\n",
       "    }\n",
       "\n",
       "    .dataframe tbody tr th {\n",
       "        vertical-align: top;\n",
       "    }\n",
       "\n",
       "    .dataframe thead th {\n",
       "        text-align: right;\n",
       "    }\n",
       "</style>\n",
       "<table border=\"1\" class=\"dataframe\">\n",
       "  <thead>\n",
       "    <tr style=\"text-align: right;\">\n",
       "      <th></th>\n",
       "      <th>product</th>\n",
       "      <th>product_label</th>\n",
       "    </tr>\n",
       "  </thead>\n",
       "  <tbody>\n",
       "    <tr>\n",
       "      <th>39273</th>\n",
       "      <td>Natural Balance Platefulls Chicken &amp; Pumpkin Formula in Gravy Grain-Free Cat Food Pouches, 3-oz pouch, case of 24</td>\n",
       "      <td>349</td>\n",
       "    </tr>\n",
       "    <tr>\n",
       "      <th>7335</th>\n",
       "      <td>Royal Canin Veterinary Diet Recovery RS Canned Dog &amp; Cat Food, 5.8-oz, case of 24</td>\n",
       "      <td>504</td>\n",
       "    </tr>\n",
       "    <tr>\n",
       "      <th>1262</th>\n",
       "      <td>Blue Buffalo Freedom Indoor Kitten Chicken Recipe Grain-Free Canned Cat Food, 3-oz, case of 24</td>\n",
       "      <td>35</td>\n",
       "    </tr>\n",
       "    <tr>\n",
       "      <th>20083</th>\n",
       "      <td>Fancy Feast Marinated Morsels Chicken Feast in Gravy Canned Cat Food, 3-oz, case of 24</td>\n",
       "      <td>156</td>\n",
       "    </tr>\n",
       "  </tbody>\n",
       "</table>\n",
       "</div>"
      ],
      "text/plain": [
       "                                                                                                                 product  product_label\n",
       "39273  Natural Balance Platefulls Chicken & Pumpkin Formula in Gravy Grain-Free Cat Food Pouches, 3-oz pouch, case of 24            349\n",
       "7335                                   Royal Canin Veterinary Diet Recovery RS Canned Dog & Cat Food, 5.8-oz, case of 24            504\n",
       "1262                      Blue Buffalo Freedom Indoor Kitten Chicken Recipe Grain-Free Canned Cat Food, 3-oz, case of 24             35\n",
       "20083                             Fancy Feast Marinated Morsels Chicken Feast in Gravy Canned Cat Food, 3-oz, case of 24            156"
      ]
     },
     "execution_count": 11,
     "metadata": {},
     "output_type": "execute_result"
    }
   ],
   "source": [
    "df.sample(4)[['product','product_label']]"
   ]
  },
  {
   "cell_type": "code",
   "execution_count": 44,
   "metadata": {},
   "outputs": [
    {
     "name": "stdout",
     "output_type": "stream",
     "text": [
      "Dbow model similarities:\n",
      "0: Dave's Pet Food Naturally Healthy Grain-Free Turkey Formula Canned Cat Food, 12.5-oz, case of 12, 0.6991697549819946\n",
      "1: Triumph Chicken 'N Liver Formula Canned Cat Food, 13.2-oz, case of 12, 0.696044921875\n",
      "2: Sheba Perfect Portions Grain-Free Signature Tuna Cuts in Gravy Entree Cat Food Trays, 2.6-oz, case of 24 twin-packs, 0.6883033514022827\n",
      "3: Fancy Feast Gourmet Naturals Tuna Recipe in Gravy Canned Cat Food, 3-oz, case of 12, 0.6864579916000366\n",
      "4: Fancy Feast Grilled Tuna Feast in Gravy Canned Cat Food, 3-oz, case of 24, 0.684238612651825\n",
      "5: Fancy Feast Flaked Fish & Shrimp Feast Canned Cat Food, 3-oz, case of 24, 0.6815081834793091\n",
      "6: Tiki Cat Koolina Luau Chicken with Egg in Chicken Consomme Grain-Free Canned Cat Food, 6-oz, case of 8, 0.6788089275360107\n",
      "7: Friskies Savory Shreds with Ocean Whitefish & Tuna in Sauce Canned Cat Food, 5.5-oz, case of 24, 0.6771600246429443\n",
      "8: Sheba Perfect Portions Grain-Free Roasted Chicken & Liver Entree Cat Food Trays, 2.6-oz, case of 24 twin-packs, 0.6749854683876038\n",
      "9: Purina Pro Plan Veterinary Diets DM Dietetic Management Formula Canned Cat Food, 5.5-oz, case of 24, 0.674720048904419\n",
      "10: Fancy Feast Kitten Tender Turkey Feast Canned Cat Food, 3-oz, case of 24, 0.6706423759460449\n",
      "11: 9 Lives Meaty Pate Super Supper Canned Cat Food, 5.5-oz, case of 24, 0.6699488162994385\n",
      "12: HI-TOR Veterinary Select Neo Diet Canned Cat Food, 5.5-oz, case of 24, 0.6692745685577393\n",
      "13: Hill's Prescription Diet a/d Urgent Care with Chicken Canned Dog & Cat Food, 5.5-oz, case of 24, 0.6688556671142578\n",
      "14: Fancy Feast Gourmet Naturals Wild Alaskan Salmon & Shrimp Recipe in Gravy Canned Cat Food, 3-oz, case of 12, 0.6639695763587952\n",
      "15: Friskies Prime Filets Chicken & Tuna Dinner in Gravy Canned Cat Food, 5.5-oz, case of 24, 0.6637939214706421\n",
      "16: Hound & Gatos Chicken & Chicken Liver Formula Grain-Free Canned Cat Food, 5.5-oz, case of 24, 0.6632426977157593\n",
      "17: Friskies Indoor Flaked Ocean Whitefish Dinner Canned Cat Food, 5.5-oz, case of 24, 0.6627275943756104\n",
      "18: Weruva Cats in the Kitchen Chick Magnet Chicken & Mackerel Recipe Grain-Free Cat Food Pouches, 3-oz pouch, case of 12, 0.6621555685997009\n",
      "19: Friskies Classic Pate Supreme Supper Canned Cat Food, 5.5-oz, case of 24, 0.6619985103607178\n",
      "20: BFF OMG Tuna & Salmon Sweet Cheeks Dinner in Gravy Wet Cat Food Pouches, 3-oz, case of 12, 0.6600863337516785\n",
      "21: Dr. Elsey's cleanprotein Turkey Formula Grain-Free Canned Cat Food, 5.5-oz, case of 24, 0.6600530743598938\n",
      "22: Friskies Tasty Treasures Pate Beef & Liver Dinner with Cheese Canned Cat Food, 5.5-oz, case of 24, 0.6598674654960632\n",
      "23: Iams Purrfect Delights Tempt Me Tuna & Mackerel Dinner Flaked in Sauce Canned Cat Food, 3-oz, case of 24, 0.6590756177902222\n",
      "24: Nutro Max Adult Lamb & Turkey Cutlets Entree Chunks in Sauce Canned Cat Food, 3-oz, case of 24, 0.6585524082183838\n",
      "25: Purina Pro Plan Savor Adult Sole & Vegetable Entree in Sauce Canned Cat Food, 3-oz, case of 24, 0.6581718921661377\n",
      "26: Nulo Freestyle Turkey & Chicken Recipe Grain-Free Canned Cat & Kitten Food, 5.5-oz, case of 24, 0.6574308276176453\n",
      "27: Friskies Savory Shreds with Chicken in Gravy Canned Cat Food, 5.5-oz, case of 24, 0.6573432683944702\n",
      "28: Fancy Feast Classic Tender Beef & Chicken Feast Canned Cat Food, 3-oz, case of 24, 0.6572035551071167\n",
      "29: Fancy Feast Purely White Meat Chicken & Flaked Tuna Wet Cat Food, 2-oz tray, case of 10, 0.6571322679519653\n",
      "30: Weruva Cats in the Kitchen Mack, Jack & Sam Salmon, Mackerel & Tuna Recipe Grain-Free Cat Food Pouches, 3-oz pouch, case of 12, 0.6556910872459412\n",
      "31: Royal Canin Veterinary Diet Gastrointestinal High Energy Canned Cat Food, 5.8-oz, case of 24, 0.6537895798683167\n",
      "32: Fancy Feast Flaked Tuna & Mackerel Feast Canned Cat Food, 3-oz, case of 24, 0.6535710096359253\n",
      "33: Tiki Cat Velvet Mousse Chicken Grain-Free Wet Cat Food, 2.8-oz pouch, case of 12, 0.6535238027572632\n",
      "34: Halo Chicken Recipe Grain-Free Indoor Cat Canned Cat Food, 5.5-oz, case of 12, 0.6533937454223633\n",
      "35: Ziwi Peak Venison Recipe Canned Cat Food, 6.5-oz, case of 12, 0.6533596515655518\n",
      "36: Sheba Perfect Portions Grain-Free Savory Mixed Grill Cuts in Gravy Entree Cat Food Trays, 2.6-oz, case of 24 twin-packs, 0.6532739996910095\n",
      "37: Halo Chicken Recipe Grain-Free Adult Canned Cat Food, 5.5-oz, case of 12, 0.6524332761764526\n",
      "38: Friskies Cat Concoctions with Cod in Cheesy Bacon Flavored Sauce Canned Cat Food, 5.5-oz, case of 24, 0.6507778167724609\n",
      "39: BFF OMG Selfie Cam! Chicken & Lamb Dinner in Gravy Grain-Free Canned Cat Food, 5.5-oz, case of 8, 0.6505535840988159\n",
      "40: Purina Beyond Grain-Free Tuna, Mackerel & Carrot Recipe in Gravy Canned Cat Food, 3-oz, case of 12, 0.650490403175354\n",
      "41: Friskies Indoor Homestyle Turkey Dinner Canned Cat Food, 5.5-oz, case of 24, 0.6495255827903748\n",
      "42: Blue Buffalo Wilderness Turkey Grain-Free Canned Cat Food, 5.5-oz, case of 24, 0.6492948532104492\n",
      "43: Friskies Tasty Treasures Pate Turkey & Chicken Dinner with Cheese Canned Cat Food, 5.5-oz, case of 24, 0.6484386324882507\n",
      "44: Newman's Own Organic Grain-Free 95% Turkey & Liver Dinner Canned Cat Food, 5.5-oz, case of 24, 0.647520899772644\n",
      "45: Evanger's Low Fat Vegetarian Dinner Canned Dog & Cat Food, 12.8-oz, case of 12, 0.6464860439300537\n",
      "46: Purina Pro Plan Focus Adult Urinary Tract Health Formula Chicken Entree in Gravy Canned Cat Food, 3-oz, case of 24, 0.6458826661109924\n",
      "47: Fancy Feast Classic Tender Beef Feast Canned Cat Food, 3-oz, case of 24, 0.6456810235977173\n",
      "48: Blue Buffalo Healthy Gourmet Pate Salmon Entree Indoor Adult Canned Cat Food, 5.5-oz, case of 24, 0.645418643951416\n",
      "49: Hill's Science Diet Adult Savory Turkey Entree Canned Cat Food, 5.5-oz, case of 24, 0.6454143524169922\n",
      "\n",
      " DM model similarities:\n",
      "0: Fancy Feast Grilled Tuna Feast in Gravy Canned Cat Food, 3-oz, case of 24, 0.6089587807655334\n",
      "1: Friskies Flaked with Tuna in Sauce Canned Cat Food, 5.5-oz, case of 24, 0.5486619472503662\n",
      "2: Solid Gold Five Oceans Shreds with Real Tuna Recipe in Gravy Grain-Free Canned Cat Food, 6-oz, case of 8, 0.5425808429718018\n",
      "3: Fussie Cat Premium Tuna Formula in Aspic Grain-Free Canned Cat Food, 2.82-oz, case of 24, 0.5050818920135498\n",
      "4: Fancy Feast Flaked Tuna & Mackerel Feast Canned Cat Food, 3-oz, case of 24, 0.4923775792121887\n",
      "5: Hill's Science Diet Adult Tender Tuna Dinner Canned Cat Food, 5.5-oz, case of 24, 0.4893215298652649\n",
      "6: Meow Mix Tender Favorites with Real Chicken & Liver in Sauce Cat Food Trays, 2.75-oz, case of 12, 0.48479658365249634\n",
      "7: Meow Mix Tender Favorites with Real Tuna & Whole Shrimp in Sauce Cat Food Trays, 2.75-oz, case of 12, 0.47920870780944824\n",
      "8: Fancy Feast Flaked Salmon & Ocean Whitefish Feast Canned Cat Food, 3-oz, case of 24, 0.4671734571456909\n",
      "9: Purina Pro Plan Savor Adult Tuna, Shrimp & Rice Entrée in Sauce Canned Cat Food, 3-oz, case of 24, 0.4629361629486084\n",
      "10: BFF OMG Love Munchkin! Chicken & Pumpkin Dinner in Gravy Grain-Free Canned Cat Food, 5.5-oz, case of 8, 0.4558039903640747\n",
      "11: Friskies Savory Shreds with Whitefish & Sardines in Sauce Canned Cat Food, 5.5-oz, case of 24, 0.4549444317817688\n",
      "12: Friskies Classic Pate Mariner's Catch Canned Cat Food, 5.5-oz, case of 24, 0.4526207447052002\n",
      "13: Iams Purrfect Delights Tuna-Topia Dinner Flaked in Sauce Canned Cat Food, 3-oz, case of 24, 0.4521293044090271\n",
      "14: Friskies Savory Shreds Turkey & Cheese Dinner in Gravy Canned Cat Food, 5.5-oz, case of 24, 0.4477827548980713\n",
      "15: Friskies Cat Concoctions with Chicken in Creamy Crabby Sauce Canned Cat Food, 5.5-oz, case of 24, 0.44724714756011963\n",
      "16: Fancy Feast Grilled Beef Feast in Gravy Canned Cat Food, 3-oz, case of 24, 0.44248098134994507\n",
      "17: Friskies Cat Concoctions with Cod in Cheesy Bacon Flavored Sauce Canned Cat Food, 5.5-oz, case of 24, 0.4376583993434906\n",
      "18: Meow Mix Tender Favorites with Real Chicken & Beef in Sauce Cat Food Trays, 2.75-oz, case of 12, 0.4363933801651001\n",
      "19: Sheba Perfect Portions Grain-Free Signature Tuna Cuts in Gravy Entree Cat Food Trays, 2.6-oz, case of 24 twin-packs, 0.43546080589294434\n",
      "20: Weruva Truluxe Mediterranean Harvest with Tuna & Veggies in Gravy Grain-Free Canned Cat Food, 3-oz, case of 24, 0.4332329332828522\n",
      "21: Iams Purrfect Delights Packed with Sardines Dinner Flaked in Sauce Canned Cat Food, 3-oz, case of 24, 0.4318890869617462\n",
      "22: Fancy Feast Grilled Turkey & Giblets Feast in Gravy Canned Cat Food, 3-oz, case of 24, 0.42515072226524353\n",
      "23: Friskies Savory Shreds with Ocean Whitefish & Tuna in Sauce Canned Cat Food, 5.5-oz, case of 24, 0.42510509490966797\n",
      "24: Friskies Flaked with Tuna & Egg in Sauce Canned Cat Food, 5.5-oz, case of 24, 0.4217465817928314\n",
      "25: Friskies Tasty Treasures with Chicken, Tuna & Cheese in Gravy Canned Cat Food, 5.5-oz, case of 24, 0.420329213142395\n",
      "26: Fancy Feast Flaked Tuna Feast Canned Cat Food, 3-oz, case of 24, 0.4182722568511963\n",
      "27: Friskies Classic Pate Ocean Whitefish & Tuna Dinner Canned Cat Food, 13-oz, case of 12, 0.4089565873146057\n",
      "28: Fancy Feast Delights with Cheddar Grilled Tuna & Cheddar Cheese Feast in Gravy Canned Cat Food, 3-oz, case of 24, 0.40824806690216064\n",
      "29: Friskies Tasty Treasures with Ocean Fish, Tuna & Cheese in Sauce Canned Cat Food, 5.5-oz, case of 24, 0.40809255838394165\n",
      "30: Hill's Science Diet Adult 7+ Tender Tuna Dinner Canned Cat Food, 5.5-oz, case of 24, 0.407204270362854\n",
      "31: Friskies Classic Pate Supreme Supper Canned Cat Food, 5.5-oz, case of 24, 0.40637946128845215\n",
      "32: Hill's Science Diet Adult Savory Turkey Entree Canned Cat Food, 5.5-oz, case of 24, 0.4050455093383789\n",
      "33: Fancy Feast Sliced Chicken Hearts & Liver Feast in Gravy Canned Cat Food, 3-oz, case of 24, 0.4037247896194458\n",
      "34: Hill's Prescription Diet Metabolic + Urinary Tuna & Vegetable Stew Canned Cat Food, 2.9-oz, case of 24, 0.4027913808822632\n",
      "35: Fancy Feast Purely Tender Tongol Tuna Wet Cat Food, 2-oz tray, case of 10, 0.3999333381652832\n",
      "36: Fancy Feast Gravy Lovers Chicken & Beef Feast in Grilled Chicken Flavor Gravy Canned Cat Food, 3-oz, case of 24, 0.3997398912906647\n",
      "37: Fancy Feast Classic Ocean Whitefish & Tuna Feast Canned Cat Food, 3-oz, case of 24, 0.39863359928131104\n",
      "38: Fancy Feast Marinated Morsels Tuna Feast in Gravy Canned Cat Food, 3-oz, case of 24, 0.39806145429611206\n",
      "39: Fancy Feast Roasted Turkey Feast Canned Cat Food, 3-oz, case of 24, 0.397685170173645\n",
      "40: Blue Buffalo Healthy Gourmet Flaked Chicken Entree in Gravy Canned Cat Food, 5.5-oz, case of 24, 0.39749443531036377\n",
      "41: Iams Purrfect Delights Tempt Me Tuna & Mackerel Dinner Flaked in Sauce Canned Cat Food, 3-oz, case of 24, 0.39641305804252625\n",
      "42: Friskies Prime Filets with Beef in Gravy Canned Cat Food, 5.5-oz, case of 24, 0.39269471168518066\n",
      "43: Fancy Feast Grilled Salmon & Shrimp Feast in Gravy Canned Cat Food, 3-oz, case of 24, 0.39102301001548767\n",
      "44: Fussie Cat Premium Tuna with Anchovies Formula in Aspic Grain-Free Canned Cat Food, 2.82-oz, case of 24, 0.3909987211227417\n",
      "45: Friskies Gravy Sensations Poultry Favorites Cat Food Pouches, 3-oz pouch, case of 12, 0.39057454466819763\n",
      "46: 9 Lives Meaty Pate Super Supper Canned Cat Food, 5.5-oz, case of 24, 0.38998982310295105\n",
      "47: 9 Lives Hearty Cuts with Real Beef & Chicken in Gravy Canned Cat Food, 5.5-oz, case of 24, 0.3896963596343994\n",
      "48: Fussie Cat Premium Tuna with Shrimp Formula in Aspic Grain-Free Canned Cat Food, 2.82-oz, case of 24, 0.38826847076416016\n",
      "49: Friskies Tasty Treasures Pate Beef & Liver Dinner with Cheese Canned Cat Food, 5.5-oz, case of 24, 0.3850482106208801\n",
      "Cat liked: Blue Buffalo Basics Limited Ingredient Grain-Free Indoor Fish & Potato Entree Adult Canned Cat Food, 3-oz, case of 24, American Journey Minced Turkey Recipe in Gravy Grain-Free Canned Cat Food, 3-oz, case of 24. Cat disliked: Friskies Classic Pate Poultry Platter Canned Cat Food, 13-oz, case of 12, Friskies Prime Filets with Ocean Whitefish & Tuna in Sauce Canned Cat Food, 5.5-oz, case of 24\n",
      "\n",
      " Combined scores\n"
     ]
    },
    {
     "data": {
      "text/html": [
       "<div>\n",
       "<style scoped>\n",
       "    .dataframe tbody tr th:only-of-type {\n",
       "        vertical-align: middle;\n",
       "    }\n",
       "\n",
       "    .dataframe tbody tr th {\n",
       "        vertical-align: top;\n",
       "    }\n",
       "\n",
       "    .dataframe thead th {\n",
       "        text-align: right;\n",
       "    }\n",
       "</style>\n",
       "<table border=\"1\" class=\"dataframe\">\n",
       "  <thead>\n",
       "    <tr style=\"text-align: right;\">\n",
       "      <th></th>\n",
       "      <th>combined</th>\n",
       "    </tr>\n",
       "    <tr>\n",
       "      <th>product</th>\n",
       "      <th></th>\n",
       "    </tr>\n",
       "  </thead>\n",
       "  <tbody>\n",
       "    <tr>\n",
       "      <th>Fancy Feast Grilled Tuna Feast in Gravy Canned Cat Food, 3-oz, case of 24</th>\n",
       "      <td>2.0</td>\n",
       "    </tr>\n",
       "    <tr>\n",
       "      <th>Sheba Perfect Portions Grain-Free Signature Tuna Cuts in Gravy Entree Cat Food Trays, 2.6-oz, case of 24 twin-packs</th>\n",
       "      <td>10.5</td>\n",
       "    </tr>\n",
       "    <tr>\n",
       "      <th>Friskies Savory Shreds with Ocean Whitefish &amp; Tuna in Sauce Canned Cat Food, 5.5-oz, case of 24</th>\n",
       "      <td>15.0</td>\n",
       "    </tr>\n",
       "    <tr>\n",
       "      <th>Fancy Feast Flaked Tuna &amp; Mackerel Feast Canned Cat Food, 3-oz, case of 24</th>\n",
       "      <td>18.0</td>\n",
       "    </tr>\n",
       "    <tr>\n",
       "      <th>Friskies Classic Pate Supreme Supper Canned Cat Food, 5.5-oz, case of 24</th>\n",
       "      <td>25.0</td>\n",
       "    </tr>\n",
       "    <tr>\n",
       "      <th>Dave's Pet Food Naturally Healthy Grain-Free Turkey Formula Canned Cat Food, 12.5-oz, case of 12</th>\n",
       "      <td>25.5</td>\n",
       "    </tr>\n",
       "    <tr>\n",
       "      <th>Friskies Flaked with Tuna in Sauce Canned Cat Food, 5.5-oz, case of 24</th>\n",
       "      <td>26.0</td>\n",
       "    </tr>\n",
       "    <tr>\n",
       "      <th>Triumph Chicken 'N Liver Formula Canned Cat Food, 13.2-oz, case of 12</th>\n",
       "      <td>26.0</td>\n",
       "    </tr>\n",
       "    <tr>\n",
       "      <th>Solid Gold Five Oceans Shreds with Real Tuna Recipe in Gravy Grain-Free Canned Cat Food, 6-oz, case of 8</th>\n",
       "      <td>26.5</td>\n",
       "    </tr>\n",
       "    <tr>\n",
       "      <th>Fancy Feast Gourmet Naturals Tuna Recipe in Gravy Canned Cat Food, 3-oz, case of 12</th>\n",
       "      <td>27.0</td>\n",
       "    </tr>\n",
       "  </tbody>\n",
       "</table>\n",
       "</div>"
      ],
      "text/plain": [
       "                                                                                                                     combined\n",
       "product                                                                                                                      \n",
       "Fancy Feast Grilled Tuna Feast in Gravy Canned Cat Food, 3-oz, case of 24                                                 2.0\n",
       "Sheba Perfect Portions Grain-Free Signature Tuna Cuts in Gravy Entree Cat Food Trays, 2.6-oz, case of 24 twin-packs      10.5\n",
       "Friskies Savory Shreds with Ocean Whitefish & Tuna in Sauce Canned Cat Food, 5.5-oz, case of 24                          15.0\n",
       "Fancy Feast Flaked Tuna & Mackerel Feast Canned Cat Food, 3-oz, case of 24                                               18.0\n",
       "Friskies Classic Pate Supreme Supper Canned Cat Food, 5.5-oz, case of 24                                                 25.0\n",
       "Dave's Pet Food Naturally Healthy Grain-Free Turkey Formula Canned Cat Food, 12.5-oz, case of 12                         25.5\n",
       "Friskies Flaked with Tuna in Sauce Canned Cat Food, 5.5-oz, case of 24                                                   26.0\n",
       "Triumph Chicken 'N Liver Formula Canned Cat Food, 13.2-oz, case of 12                                                    26.0\n",
       "Solid Gold Five Oceans Shreds with Real Tuna Recipe in Gravy Grain-Free Canned Cat Food, 6-oz, case of 8                 26.5\n",
       "Fancy Feast Gourmet Naturals Tuna Recipe in Gravy Canned Cat Food, 3-oz, case of 12                                      27.0"
      ]
     },
     "execution_count": 44,
     "metadata": {},
     "output_type": "execute_result"
    }
   ],
   "source": [
    "label_decoder = df[['product_label','product']].set_index('product_label').to_dict()['product']\n",
    "label_encoder = df[['product_label','product']].set_index('product').to_dict()['product_label']\n",
    "\n",
    "num_returned = 50\n",
    "results_shown = 10\n",
    "\n",
    "pd.set_option('display.max_colwidth', 200)\n",
    "positives = [67,2]\n",
    "negatives = [228,361]\n",
    "positives = [2]\n",
    "negatives = []\n",
    "\n",
    "similarity_results = pd.DataFrame(index = product_info['product'],columns = ['dbow_rank','dm_rank','combined'])\n",
    "similar_items_dbow = model_dbow.docvecs.most_similar(positive=positives,negative = negatives,topn=num_returned)\n",
    "similar_items_dm = model_dm.docvecs.most_similar(positive=positives,negative = negatives,topn=num_returned)\n",
    "#     print(similar_items)\n",
    "decoded_dbow = [(label_decoder[label],similarity) for (label,similarity) in similar_items_dbow]\n",
    "decoded_dm = [(label_decoder[label],similarity) for (label,similarity) in similar_items_dm]\n",
    "\n",
    "print(\"Dbow model similarities:\")\n",
    "for (rank, product) in enumerate(decoded_dbow):\n",
    "    name = product[0]\n",
    "    score = product[1]\n",
    "    similarity_results.loc[name,\"dbow_rank\"] = rank\n",
    "    print(f'{rank}: {name}, {score}')\n",
    "\n",
    "print(\"\\n DM model similarities:\")\n",
    "for (rank, product) in enumerate(decoded_dm):\n",
    "    name = product[0]\n",
    "    score = product[1]\n",
    "    similarity_results.loc[name,\"dm_rank\"] = rank\n",
    "    print(f'{rank}: {name}, {score}')\n",
    "\n",
    "similarity_results.fillna(value=num_returned+1,inplace=True)\n",
    "similarity_results[\"combined\"] = (similarity_results[\"dbow_rank\"] + similarity_results[\"dm_rank\"])/2\n",
    "\n",
    "\n",
    "print(f'Cat liked: {label_decoder[30]}, {label_decoder[7]}. Cat disliked: {label_decoder[183]}, {label_decoder[215]}')\n",
    "print(\"\\n Combined scores\")\n",
    "similarity_results.sort_values(by='combined',ascending=True).drop(columns=['dbow_rank','dm_rank'],axis=0).head(results_shown)\n",
    "\n",
    "\n"
   ]
  },
  {
   "cell_type": "code",
   "execution_count": 45,
   "metadata": {},
   "outputs": [],
   "source": [
    "af = product_info\n",
    "af['product_label']=le.fit_transform(af['product'])\n",
    "brand_list = {name : brand for (name,brand) in zip(af['product'],af['brand'])}\n",
    "\n",
    "sample_brands = ['Fancy Feast',\n",
    "                 'Friskies',\n",
    "                 'Blue Buffalo',\n",
    "                 'Purina Pro Plan', \n",
    "                 'Hills Prescription Diet',\n",
    "#                  'Weruva',\n",
    "                 'Wellness',\n",
    "                ]\n",
    "\n"
   ]
  },
  {
   "cell_type": "code",
   "execution_count": 46,
   "metadata": {},
   "outputs": [],
   "source": [
    "vec_list = {name : model_dbow.docvecs[x] for (name,x) in zip(af['product'].to_list(),af['product_label'].to_list()) if brand_list[name] in sample_brands\n",
    "           };\n",
    "\n",
    "embeddings = pd.DataFrame.from_dict(vec_list,orient='index')"
   ]
  },
  {
   "cell_type": "code",
   "execution_count": 47,
   "metadata": {},
   "outputs": [
    {
     "name": "stderr",
     "output_type": "stream",
     "text": [
      "/Users/danielben-zion/anaconda3/envs/insight/lib/python3.6/site-packages/sklearn/metrics/pairwise.py:258: RuntimeWarning: invalid value encountered in sqrt\n",
      "  return distances if squared else np.sqrt(distances, out=distances)\n"
     ]
    },
    {
     "data": {
      "text/plain": [
       "<matplotlib.legend.Legend at 0x1a247f94e0>"
      ]
     },
     "execution_count": 47,
     "metadata": {},
     "output_type": "execute_result"
    },
    {
     "data": {
      "image/png": "[encoded data removed]",
      "text/plain": [
       "<Figure size 720x720 with 1 Axes>"
      ]
     },
     "metadata": {
      "needs_background": "light"
     },
     "output_type": "display_data"
    }
   ],
   "source": [
    "# from sklearn.decomposition import PCA\n",
    "import seaborn as sns\n",
    "import matplotlib.pyplot as plt\n",
    "import umap \n",
    "\n",
    "%matplotlib inline\n",
    "# pca = PCA(n_components=2)\n",
    "embeddings_viz = umap.UMAP(min_dist = 0.03).fit_transform(embeddings)\n",
    "brand_name = [brand_list[name] for name in embeddings.index]\n",
    "\n",
    "fig = plt.figure(figsize=(10,10))\n",
    "sns.scatterplot(x=embeddings_viz[:,0], y=embeddings_viz[:,1],hue = brand_name, s = 60)\n",
    "plt.legend(bbox_to_anchor=(1.05, 1), loc=2, borderaxespad=0.)\n",
    "\n",
    "# plt.savefig('plots/BrandSeparation.png',bbox_inches='tight')\n",
    "\n"
   ]
  },
  {
   "cell_type": "code",
   "execution_count": 16,
   "metadata": {},
   "outputs": [
    {
     "data": {
      "text/plain": [
       "array(['Nutro Perfect Portions Grain-Free Salmon & Tuna Recipe Cat Food Trays, 2.6-oz, case of 24',\n",
       "       'Nutro Adult Chunky Loaf  Salmon & Tuna Dinner Grain-Free Canned Cat Food, 3-oz, case of 24',\n",
       "       'Nutro Kitten Soft Loaf Chicken Recipe Grain-Free Canned Cat Food, 3-oz, case of 24',\n",
       "       'Nutro Perfect Portions Grain-Free Chicken Recipe Cat Food Trays, 2.6-oz, case of 24',\n",
       "       'Nutro Perfect Portions Grain-Free Turkey Recipe Cat Food Trays, 2.6-oz, case of 24',\n",
       "       'Nutro Adult Sliced Chicken & Tuna Entrée in Savory Sauce Grain-Free Canned Cat Food, 3-oz, case of 24',\n",
       "       'Nutro Senior Minced Cod & Tuna Cuisine in Tasty Gravy Grain-Free Canned Cat Food, 3-oz, case of 24'],\n",
       "      dtype=object)"
      ]
     },
     "execution_count": 16,
     "metadata": {},
     "output_type": "execute_result"
    }
   ],
   "source": [
    "product_info[product_info['brand']==\"Nutro\"]['product'].values"
   ]
  },
  {
   "cell_type": "code",
   "execution_count": 184,
   "metadata": {},
   "outputs": [],
   "source": [
    "import pickle\n",
    "# save what we need to use in the backend\n",
    "\n",
    "# the model\n",
    "model_dbow.save('catfood-d2v-dbow.model')\n",
    "model_dm.save('catfood-d2v-dm.model')\n",
    "\n",
    "# the label decoder\n",
    "with open(\"label-decoder.pkl\",\"wb\") as f:\n",
    "    pickle.dump(label_decoder,f)\n",
    "    \n",
    "# the label encoder\n",
    "with open(\"label-encoder.pkl\",\"wb\") as f:\n",
    "    pickle.dump(label_encoder,f)\n",
    "\n"
   ]
  },
  {
   "cell_type": "markdown",
   "metadata": {},
   "source": [
    "## validation attempts, pray to god"
   ]
  },
  {
   "cell_type": "code",
   "execution_count": 79,
   "metadata": {},
   "outputs": [],
   "source": [
    "author_count = df.groupby('review_author')['review_author'].count()\n",
    "authorgroup = author_count[(author_count > 5) & (author_count < 15)]\n",
    "# authorgroup\n",
    "# authorgroup = author_count"
   ]
  },
  {
   "cell_type": "code",
   "execution_count": 80,
   "metadata": {},
   "outputs": [],
   "source": [
    "import numpy as np\n",
    "def scale_scores(df,field):\n",
    "    scaleby = max(np.abs(df[field].min()),np.abs(df[field].max()))\n",
    "    df[field] = df[field]/scaleby\n",
    "    return df\n",
    "\n",
    "def generate_val_data(user):\n",
    "    num_returned = 1000\n",
    "    userdata = df[df['review_author']==user]\n",
    "    \n",
    "    if len(userdata.groupby('rating').count()) == 1:\n",
    "        return\n",
    "    \n",
    "    \n",
    "\n",
    "    \n",
    "    low_rankings = userdata[userdata['rating'] <= 3].sort_values(by='rating',ascending=True)\n",
    "    high_rankings = userdata[userdata['rating'] >= 4].sort_values(by='rating',ascending=False)\n",
    "    \n",
    "    \n",
    "#     if len(low_rankings) < 3:\n",
    "#         return\n",
    "    \n",
    "    \n",
    "    negatives = [val for val in low_rankings.head(2)['product_label']]\n",
    "    positives = [val for val in high_rankings.head(2)['product_label']]\n",
    "    \n",
    "    similar_items_dbow = model_dbow.docvecs.most_similar(positive=positives,negative = negatives,topn=num_returned)\n",
    "    similar_items_dm = model_dm.docvecs.most_similar(positive=positives,negative = negatives,topn=num_returned)\n",
    "\n",
    "    decoded_dbow = [(label_decoder[label],similarity) for (label,similarity) in similar_items_dbow]\n",
    "    decoded_dm = [(label_decoder[label],similarity) for (label,similarity) in similar_items_dm]\n",
    "\n",
    "    dbow_results = pd.DataFrame(decoded_dbow,columns=['product','sim_score'])\n",
    "    dbow_results = scale_scores(dbow_results,'sim_score')\n",
    "\n",
    "    dm_results = pd.DataFrame(decoded_dm,columns=['product','sim_score'])\n",
    "    dm_results = scale_scores(dm_results,'sim_score')\n",
    "\n",
    "    combined_results = dbow_results.set_index('product').join(dm_results.set_index('product'), how = 'left', \n",
    "                                        lsuffix = '_db', rsuffix = '_dm')\n",
    "\n",
    "\n",
    "    combined_results['avg_sim'] = (combined_results['sim_score_db'] + combined_results['sim_score_dm'])/2\n",
    "    \n",
    "    tmp = userdata[['product','rating']].set_index('product')\n",
    "    val = tmp.join(combined_results,how='left')\n",
    "    val.dropna(how='any',axis=0,inplace=True)\n",
    "    \n",
    "#     val['rating'] = val['rating'] - val['rating'].mean()\n",
    "    \n",
    "    return val"
   ]
  },
  {
   "cell_type": "code",
   "execution_count": 81,
   "metadata": {},
   "outputs": [],
   "source": [
    "val = pd.concat([generate_val_data(user) for user in authorgroup.index],axis=0)"
   ]
  },
  {
   "cell_type": "code",
   "execution_count": 82,
   "metadata": {},
   "outputs": [
    {
     "data": {
      "image/png": "[encoded data removed]",
      "text/plain": [
       "<Figure size 864x288 with 3 Axes>"
      ]
     },
     "metadata": {
      "needs_background": "light"
     },
     "output_type": "display_data"
    }
   ],
   "source": [
    "fig,axes = plt.subplots(nrows=1,ncols=3,figsize=(12,4))\n",
    "\n",
    "\n",
    "a = sns.boxplot(x='sim_score_dm',y='rating',\n",
    "                    dodge=False,linewidth=2.5,orient='h',data=val,ax = axes[0])\n",
    "a.invert_yaxis()\n",
    "\n",
    "b = sns.boxplot(x='sim_score_db',y='rating',\n",
    "                    dodge=False,linewidth=2.5,orient='h',data=val,ax = axes[1])\n",
    "b.invert_yaxis()\n",
    "\n",
    "c = sns.boxplot(x='avg_sim',y='rating',\n",
    "                    dodge=False,linewidth=2.5,orient='h',data=val,ax = axes[2])\n",
    "c.invert_yaxis()"
   ]
  },
  {
   "cell_type": "code",
   "execution_count": null,
   "metadata": {},
   "outputs": [],
   "source": []
  }
 ],
 "metadata": {
  "kernelspec": {
   "display_name": "Python 3",
   "language": "python",
   "name": "python3"
  },
  "language_info": {
   "codemirror_mode": {
    "name": "ipython",
    "version": 3
   },
   "file_extension": ".py",
   "mimetype": "text/x-python",
   "name": "python",
   "nbconvert_exporter": "python",
   "pygments_lexer": "ipython3",
   "version": "3.6.8"
  }
 },
 "nbformat": 4,
 "nbformat_minor": 2
}
