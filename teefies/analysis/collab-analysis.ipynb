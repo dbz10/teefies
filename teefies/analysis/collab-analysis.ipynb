{
 "cells": [
  {
   "cell_type": "markdown",
   "metadata": {},
   "source": [
    "## This is probably all hopeless"
   ]
  },
  {
   "cell_type": "code",
   "execution_count": 67,
   "metadata": {},
   "outputs": [],
   "source": [
    "import pandas as pd\n",
    "from surprise import Reader\n",
    "from surprise import Dataset\n",
    "from surprise.model_selection import cross_validate\n",
    "from surprise import NormalPredictor\n",
    "from surprise import KNNBasic\n",
    "from surprise import KNNWithMeans\n",
    "from surprise import KNNWithZScore\n",
    "from surprise import KNNBaseline\n",
    "from surprise import SVD\n",
    "from surprise import BaselineOnly\n",
    "from surprise import SVDpp\n",
    "from surprise import NMF\n",
    "from surprise import SlopeOne\n",
    "from surprise import CoClustering\n",
    "from surprise.accuracy import rmse\n",
    "from surprise import accuracy\n",
    "from surprise.model_selection import train_test_split\n",
    "\n",
    "import matplotlib.pyplot as plt\n",
    "\n",
    "product_info = pd.read_csv('../data/CatfoodProductInfo.csv')\n",
    "reviews = pd.read_csv('../data/CatfoodReviewsInfo.csv')\n",
    "df = reviews.join(product_info.set_index('product'), on='product',how='left')"
   ]
  },
  {
   "cell_type": "code",
   "execution_count": 68,
   "metadata": {},
   "outputs": [],
   "source": [
    "df = df.dropna(axis=0,how='any')\n",
    "df = df[['product','review_author','rating']]"
   ]
  },
  {
   "cell_type": "code",
   "execution_count": 69,
   "metadata": {},
   "outputs": [
    {
     "data": {
      "text/html": [
       "<div>\n",
       "<style scoped>\n",
       "    .dataframe tbody tr th:only-of-type {\n",
       "        vertical-align: middle;\n",
       "    }\n",
       "\n",
       "    .dataframe tbody tr th {\n",
       "        vertical-align: top;\n",
       "    }\n",
       "\n",
       "    .dataframe thead th {\n",
       "        text-align: right;\n",
       "    }\n",
       "</style>\n",
       "<table border=\"1\" class=\"dataframe\">\n",
       "  <thead>\n",
       "    <tr style=\"text-align: right;\">\n",
       "      <th></th>\n",
       "      <th>product</th>\n",
       "      <th>review_author</th>\n",
       "      <th>rating</th>\n",
       "    </tr>\n",
       "  </thead>\n",
       "  <tbody>\n",
       "    <tr>\n",
       "      <th>17518</th>\n",
       "      <td>Purina Pro Plan Veterinary Diets EN Gastroente...</td>\n",
       "      <td>ZOEY</td>\n",
       "      <td>5</td>\n",
       "    </tr>\n",
       "    <tr>\n",
       "      <th>15581</th>\n",
       "      <td>Friskies Indoor Classic Pate Chicken Dinner Ca...</td>\n",
       "      <td>Gnat</td>\n",
       "      <td>5</td>\n",
       "    </tr>\n",
       "    <tr>\n",
       "      <th>34609</th>\n",
       "      <td>Wellness Complete Health Pate Chicken Entree G...</td>\n",
       "      <td>Anna</td>\n",
       "      <td>5</td>\n",
       "    </tr>\n",
       "  </tbody>\n",
       "</table>\n",
       "</div>"
      ],
      "text/plain": [
       "                                                 product review_author  rating\n",
       "17518  Purina Pro Plan Veterinary Diets EN Gastroente...          ZOEY       5\n",
       "15581  Friskies Indoor Classic Pate Chicken Dinner Ca...          Gnat       5\n",
       "34609  Wellness Complete Health Pate Chicken Entree G...          Anna       5"
      ]
     },
     "execution_count": 69,
     "metadata": {},
     "output_type": "execute_result"
    }
   ],
   "source": [
    "df.sample(3)"
   ]
  },
  {
   "cell_type": "code",
   "execution_count": 70,
   "metadata": {},
   "outputs": [
    {
     "data": {
      "text/plain": [
       "<matplotlib.axes._subplots.AxesSubplot at 0x1a22b7b908>"
      ]
     },
     "execution_count": 70,
     "metadata": {},
     "output_type": "execute_result"
    },
    {
     "data": {
      "image/png": "[encoded data removed]",
      "text/plain": [
       "<Figure size 432x288 with 1 Axes>"
      ]
     },
     "metadata": {
      "needs_background": "light"
     },
     "output_type": "display_data"
    }
   ],
   "source": [
    "# Distribution of ratings\n",
    "df['rating'].plot.hist()"
   ]
  },
  {
   "cell_type": "code",
   "execution_count": 71,
   "metadata": {},
   "outputs": [
    {
     "data": {
      "text/plain": [
       "<matplotlib.axes._subplots.AxesSubplot at 0x1a21100f28>"
      ]
     },
     "execution_count": 71,
     "metadata": {},
     "output_type": "execute_result"
    },
    {
     "data": {
      "image/png": "[encoded data removed]",
      "text/plain": [
       "<Figure size 432x288 with 1 Axes>"
      ]
     },
     "metadata": {
      "needs_background": "light"
     },
     "output_type": "display_data"
    }
   ],
   "source": [
    "# Ratings per product\n",
    "df['product'].value_counts().plot.hist()"
   ]
  },
  {
   "cell_type": "code",
   "execution_count": 72,
   "metadata": {},
   "outputs": [
    {
     "data": {
      "image/png": "[encoded data removed]",
      "text/plain": [
       "<Figure size 432x288 with 1 Axes>"
      ]
     },
     "metadata": {
      "needs_background": "light"
     },
     "output_type": "display_data"
    }
   ],
   "source": [
    "data = df.groupby('review_author')['rating'].count().clip(upper=20)\n",
    "data.sample(5)\n",
    "data.plot.hist()\n",
    "plt.xlabel(\"Reviews per author\");"
   ]
  },
  {
   "cell_type": "code",
   "execution_count": 74,
   "metadata": {},
   "outputs": [
    {
     "name": "stdout",
     "output_type": "stream",
     "text": [
      "The original data frame shape:\t(38351, 3)\n",
      "The new data frame shape:\t(4961, 3)\n"
     ]
    }
   ],
   "source": [
    "min_product_ratings = 20\n",
    "min_user_ratings = 5\n",
    "max_user_ratings = 15\n",
    "\n",
    "filter_products = df['product'].value_counts() > min_product_ratings\n",
    "filter_products = filter_products[filter_products].index.tolist()\n",
    "\n",
    "filter_users_min = df['review_author'].value_counts() > min_user_ratings\n",
    "filter_users_min = filter_users_min[filter_users_min].index.tolist()\n",
    "\n",
    "filter_users_max = df['review_author'].value_counts() < max_user_ratings\n",
    "filter_users_max = filter_users_max[filter_users_max].index.tolist()\n",
    "\n",
    "df_new = df[(df['product'].isin(filter_products)) & (df['review_author'].isin(filter_users_min)) & (df['review_author'].isin(filter_users_max))]\n",
    "print('The original data frame shape:\\t{}'.format(df.shape))\n",
    "print('The new data frame shape:\\t{}'.format(df_new.shape))"
   ]
  },
  {
   "cell_type": "code",
   "execution_count": 75,
   "metadata": {},
   "outputs": [],
   "source": [
    "reader = Reader(rating_scale=(0, 5))\n",
    "data = Dataset.load_from_df(df_new[['review_author', 'product', 'rating']], reader)"
   ]
  },
  {
   "cell_type": "code",
   "execution_count": 76,
   "metadata": {},
   "outputs": [
    {
     "name": "stdout",
     "output_type": "stream",
     "text": [
      "Using ALS\n",
      "Estimating biases using als...\n",
      "Estimating biases using als...\n",
      "Estimating biases using als...\n"
     ]
    },
    {
     "data": {
      "text/plain": [
       "{'test_rmse': array([1.17025002, 1.15140285, 1.19837043]),\n",
       " 'fit_time': (0.0070819854736328125,\n",
       "  0.005133867263793945,\n",
       "  0.0045168399810791016),\n",
       " 'test_time': (0.02577519416809082, 0.019432783126831055, 0.46530604362487793)}"
      ]
     },
     "execution_count": 76,
     "metadata": {},
     "output_type": "execute_result"
    }
   ],
   "source": [
    "print('Using ALS')\n",
    "bsl_options = {'method': 'als',\n",
    "               'n_epochs': 5,\n",
    "               'reg_u': 12,\n",
    "               'reg_i': 5\n",
    "               }\n",
    "algo = BaselineOnly(bsl_options=bsl_options)\n",
    "cross_validate(algo, data, measures=['RMSE'], cv=3, verbose=False) "
   ]
  },
  {
   "cell_type": "code",
   "execution_count": 77,
   "metadata": {},
   "outputs": [
    {
     "name": "stdout",
     "output_type": "stream",
     "text": [
      "Estimating biases using als...\n",
      "RMSE: 1.2104\n"
     ]
    },
    {
     "data": {
      "text/plain": [
       "1.2103727145819487"
      ]
     },
     "execution_count": 77,
     "metadata": {},
     "output_type": "execute_result"
    }
   ],
   "source": [
    "trainset, testset = train_test_split(data, test_size=0.25)\n",
    "algo = BaselineOnly(bsl_options=bsl_options)\n",
    "predictions = algo.fit(trainset).test(testset)\n",
    "accuracy.rmse(predictions)"
   ]
  },
  {
   "cell_type": "code",
   "execution_count": 78,
   "metadata": {},
   "outputs": [],
   "source": [
    "def get_Iu(uid):\n",
    "    \"\"\"Return the number of items rated by given user\n",
    "    \n",
    "    Args:\n",
    "        uid: The raw id of the user.\n",
    "    Returns:\n",
    "        The number of items rated by the user.\n",
    "    \"\"\"\n",
    "    \n",
    "    try:\n",
    "        return len(trainset.ur[trainset.to_inner_uid(uid)])\n",
    "    except ValueError:  # user was not part of the trainset\n",
    "        return 0\n",
    "    \n",
    "def get_Ui(iid):\n",
    "    \"\"\"Return the number of users that have rated given item\n",
    "    \n",
    "    Args:\n",
    "        iid: The raw id of the item.\n",
    "    Returns:\n",
    "        The number of users that have rated the item.\n",
    "    \"\"\"\n",
    "    \n",
    "    try:\n",
    "        return len(trainset.ir[trainset.to_inner_iid(iid)])\n",
    "    except ValueError:  # item was not part of the trainset\n",
    "        return 0\n",
    "\n",
    "df = pd.DataFrame(predictions, columns=['uid', 'iid', 'rui', 'est', 'details'])    \n",
    "df['Iu'] = df.uid.apply(get_Iu)\n",
    "df['Ui'] = df.iid.apply(get_Ui)\n",
    "df['err'] = abs(df.est - df.rui)"
   ]
  },
  {
   "cell_type": "code",
   "execution_count": 79,
   "metadata": {},
   "outputs": [
    {
     "data": {
      "text/html": [
       "<div>\n",
       "<style scoped>\n",
       "    .dataframe tbody tr th:only-of-type {\n",
       "        vertical-align: middle;\n",
       "    }\n",
       "\n",
       "    .dataframe tbody tr th {\n",
       "        vertical-align: top;\n",
       "    }\n",
       "\n",
       "    .dataframe thead th {\n",
       "        text-align: right;\n",
       "    }\n",
       "</style>\n",
       "<table border=\"1\" class=\"dataframe\">\n",
       "  <thead>\n",
       "    <tr style=\"text-align: right;\">\n",
       "      <th></th>\n",
       "      <th>uid</th>\n",
       "      <th>iid</th>\n",
       "      <th>rui</th>\n",
       "      <th>est</th>\n",
       "      <th>details</th>\n",
       "      <th>Iu</th>\n",
       "      <th>Ui</th>\n",
       "      <th>err</th>\n",
       "    </tr>\n",
       "  </thead>\n",
       "  <tbody>\n",
       "    <tr>\n",
       "      <th>290</th>\n",
       "      <td>Debb</td>\n",
       "      <td>Weruva Cats in the Kitchen Pumpkin Lickin' Chi...</td>\n",
       "      <td>5.0</td>\n",
       "      <td>4.247314</td>\n",
       "      <td>{'was_impossible': False}</td>\n",
       "      <td>6</td>\n",
       "      <td>8</td>\n",
       "      <td>0.752686</td>\n",
       "    </tr>\n",
       "    <tr>\n",
       "      <th>508</th>\n",
       "      <td>VETTEGIRL</td>\n",
       "      <td>Fancy Feast Delights with Cheddar Grilled Vari...</td>\n",
       "      <td>5.0</td>\n",
       "      <td>4.812469</td>\n",
       "      <td>{'was_impossible': False}</td>\n",
       "      <td>3</td>\n",
       "      <td>10</td>\n",
       "      <td>0.187531</td>\n",
       "    </tr>\n",
       "    <tr>\n",
       "      <th>544</th>\n",
       "      <td>Fred</td>\n",
       "      <td>Blue Buffalo Wilderness Wild Delights Chicken ...</td>\n",
       "      <td>5.0</td>\n",
       "      <td>3.684881</td>\n",
       "      <td>{'was_impossible': False}</td>\n",
       "      <td>12</td>\n",
       "      <td>10</td>\n",
       "      <td>1.315119</td>\n",
       "    </tr>\n",
       "    <tr>\n",
       "      <th>543</th>\n",
       "      <td>kittygirl</td>\n",
       "      <td>Fancy Feast Delights with Cheddar Grilled Turk...</td>\n",
       "      <td>5.0</td>\n",
       "      <td>4.834394</td>\n",
       "      <td>{'was_impossible': False}</td>\n",
       "      <td>5</td>\n",
       "      <td>6</td>\n",
       "      <td>0.165606</td>\n",
       "    </tr>\n",
       "    <tr>\n",
       "      <th>418</th>\n",
       "      <td>FurFriendz</td>\n",
       "      <td>Purina Pro Plan True Nature Classic Natural Ch...</td>\n",
       "      <td>4.0</td>\n",
       "      <td>4.031790</td>\n",
       "      <td>{'was_impossible': False}</td>\n",
       "      <td>6</td>\n",
       "      <td>10</td>\n",
       "      <td>0.031790</td>\n",
       "    </tr>\n",
       "  </tbody>\n",
       "</table>\n",
       "</div>"
      ],
      "text/plain": [
       "            uid                                                iid  rui  \\\n",
       "290        Debb  Weruva Cats in the Kitchen Pumpkin Lickin' Chi...  5.0   \n",
       "508   VETTEGIRL  Fancy Feast Delights with Cheddar Grilled Vari...  5.0   \n",
       "544        Fred  Blue Buffalo Wilderness Wild Delights Chicken ...  5.0   \n",
       "543   kittygirl  Fancy Feast Delights with Cheddar Grilled Turk...  5.0   \n",
       "418  FurFriendz  Purina Pro Plan True Nature Classic Natural Ch...  4.0   \n",
       "\n",
       "          est                    details  Iu  Ui       err  \n",
       "290  4.247314  {'was_impossible': False}   6   8  0.752686  \n",
       "508  4.812469  {'was_impossible': False}   3  10  0.187531  \n",
       "544  3.684881  {'was_impossible': False}  12  10  1.315119  \n",
       "543  4.834394  {'was_impossible': False}   5   6  0.165606  \n",
       "418  4.031790  {'was_impossible': False}   6  10  0.031790  "
      ]
     },
     "execution_count": 79,
     "metadata": {},
     "output_type": "execute_result"
    }
   ],
   "source": [
    "df.sample(5)"
   ]
  },
  {
   "cell_type": "code",
   "execution_count": 80,
   "metadata": {},
   "outputs": [],
   "source": [
    "best_predictions = df.sort_values(by='err')[:10]\n",
    "worst_predictions = df.sort_values(by='err')[-10:]"
   ]
  },
  {
   "cell_type": "code",
   "execution_count": 82,
   "metadata": {},
   "outputs": [
    {
     "data": {
      "text/html": [
       "<div>\n",
       "<style scoped>\n",
       "    .dataframe tbody tr th:only-of-type {\n",
       "        vertical-align: middle;\n",
       "    }\n",
       "\n",
       "    .dataframe tbody tr th {\n",
       "        vertical-align: top;\n",
       "    }\n",
       "\n",
       "    .dataframe thead th {\n",
       "        text-align: right;\n",
       "    }\n",
       "</style>\n",
       "<table border=\"1\" class=\"dataframe\">\n",
       "  <thead>\n",
       "    <tr style=\"text-align: right;\">\n",
       "      <th></th>\n",
       "      <th>uid</th>\n",
       "      <th>iid</th>\n",
       "      <th>rui</th>\n",
       "      <th>est</th>\n",
       "      <th>details</th>\n",
       "      <th>Iu</th>\n",
       "      <th>Ui</th>\n",
       "      <th>err</th>\n",
       "    </tr>\n",
       "  </thead>\n",
       "  <tbody>\n",
       "    <tr>\n",
       "      <th>1208</th>\n",
       "      <td>Grace</td>\n",
       "      <td>Blue Buffalo Wilderness Kitten Chicken Grain-F...</td>\n",
       "      <td>1.0</td>\n",
       "      <td>4.668434</td>\n",
       "      <td>{'was_impossible': False}</td>\n",
       "      <td>4</td>\n",
       "      <td>6</td>\n",
       "      <td>3.668434</td>\n",
       "    </tr>\n",
       "    <tr>\n",
       "      <th>412</th>\n",
       "      <td>Tori</td>\n",
       "      <td>BFF OMG Tuna &amp; Turkey Tickles Dinner in Gravy ...</td>\n",
       "      <td>1.0</td>\n",
       "      <td>4.668678</td>\n",
       "      <td>{'was_impossible': False}</td>\n",
       "      <td>4</td>\n",
       "      <td>7</td>\n",
       "      <td>3.668678</td>\n",
       "    </tr>\n",
       "    <tr>\n",
       "      <th>1083</th>\n",
       "      <td>Marilyn</td>\n",
       "      <td>Hill's Prescription Diet m/d GlucoSupport with...</td>\n",
       "      <td>1.0</td>\n",
       "      <td>4.696003</td>\n",
       "      <td>{'was_impossible': False}</td>\n",
       "      <td>9</td>\n",
       "      <td>6</td>\n",
       "      <td>3.696003</td>\n",
       "    </tr>\n",
       "    <tr>\n",
       "      <th>634</th>\n",
       "      <td>nvr2amzd</td>\n",
       "      <td>Purina Pro Plan Savor Adult Chicken &amp; Cheese E...</td>\n",
       "      <td>1.0</td>\n",
       "      <td>4.703221</td>\n",
       "      <td>{'was_impossible': False}</td>\n",
       "      <td>6</td>\n",
       "      <td>8</td>\n",
       "      <td>3.703221</td>\n",
       "    </tr>\n",
       "    <tr>\n",
       "      <th>138</th>\n",
       "      <td>Kathleen</td>\n",
       "      <td>Fancy Feast Flaked Trout Feast Canned Cat Food...</td>\n",
       "      <td>1.0</td>\n",
       "      <td>4.705591</td>\n",
       "      <td>{'was_impossible': False}</td>\n",
       "      <td>8</td>\n",
       "      <td>6</td>\n",
       "      <td>3.705591</td>\n",
       "    </tr>\n",
       "    <tr>\n",
       "      <th>384</th>\n",
       "      <td>HappyMoe</td>\n",
       "      <td>Halo Whitefish Recipe Grain-Free Indoor Cat Ca...</td>\n",
       "      <td>1.0</td>\n",
       "      <td>4.802591</td>\n",
       "      <td>{'was_impossible': False}</td>\n",
       "      <td>6</td>\n",
       "      <td>4</td>\n",
       "      <td>3.802591</td>\n",
       "    </tr>\n",
       "    <tr>\n",
       "      <th>820</th>\n",
       "      <td>Andrea</td>\n",
       "      <td>Blue Buffalo Wilderness Kitten Chicken Grain-F...</td>\n",
       "      <td>1.0</td>\n",
       "      <td>4.807457</td>\n",
       "      <td>{'was_impossible': False}</td>\n",
       "      <td>12</td>\n",
       "      <td>6</td>\n",
       "      <td>3.807457</td>\n",
       "    </tr>\n",
       "    <tr>\n",
       "      <th>47</th>\n",
       "      <td>Christy</td>\n",
       "      <td>Hill's Prescription Diet c/d Multicare Urinary...</td>\n",
       "      <td>1.0</td>\n",
       "      <td>4.825600</td>\n",
       "      <td>{'was_impossible': False}</td>\n",
       "      <td>4</td>\n",
       "      <td>5</td>\n",
       "      <td>3.825600</td>\n",
       "    </tr>\n",
       "    <tr>\n",
       "      <th>204</th>\n",
       "      <td>Beverly</td>\n",
       "      <td>Fancy Feast Gravy Lovers Chicken Feast in Gril...</td>\n",
       "      <td>1.0</td>\n",
       "      <td>4.848147</td>\n",
       "      <td>{'was_impossible': False}</td>\n",
       "      <td>10</td>\n",
       "      <td>14</td>\n",
       "      <td>3.848147</td>\n",
       "    </tr>\n",
       "    <tr>\n",
       "      <th>1166</th>\n",
       "      <td>Morgan</td>\n",
       "      <td>BFF OMG Tuna &amp; Salmon Sweet Cheeks Dinner in G...</td>\n",
       "      <td>1.0</td>\n",
       "      <td>4.893127</td>\n",
       "      <td>{'was_impossible': False}</td>\n",
       "      <td>4</td>\n",
       "      <td>6</td>\n",
       "      <td>3.893127</td>\n",
       "    </tr>\n",
       "  </tbody>\n",
       "</table>\n",
       "</div>"
      ],
      "text/plain": [
       "           uid                                                iid  rui  \\\n",
       "1208     Grace  Blue Buffalo Wilderness Kitten Chicken Grain-F...  1.0   \n",
       "412       Tori  BFF OMG Tuna & Turkey Tickles Dinner in Gravy ...  1.0   \n",
       "1083   Marilyn  Hill's Prescription Diet m/d GlucoSupport with...  1.0   \n",
       "634   nvr2amzd  Purina Pro Plan Savor Adult Chicken & Cheese E...  1.0   \n",
       "138   Kathleen  Fancy Feast Flaked Trout Feast Canned Cat Food...  1.0   \n",
       "384   HappyMoe  Halo Whitefish Recipe Grain-Free Indoor Cat Ca...  1.0   \n",
       "820     Andrea  Blue Buffalo Wilderness Kitten Chicken Grain-F...  1.0   \n",
       "47     Christy  Hill's Prescription Diet c/d Multicare Urinary...  1.0   \n",
       "204    Beverly  Fancy Feast Gravy Lovers Chicken Feast in Gril...  1.0   \n",
       "1166    Morgan  BFF OMG Tuna & Salmon Sweet Cheeks Dinner in G...  1.0   \n",
       "\n",
       "           est                    details  Iu  Ui       err  \n",
       "1208  4.668434  {'was_impossible': False}   4   6  3.668434  \n",
       "412   4.668678  {'was_impossible': False}   4   7  3.668678  \n",
       "1083  4.696003  {'was_impossible': False}   9   6  3.696003  \n",
       "634   4.703221  {'was_impossible': False}   6   8  3.703221  \n",
       "138   4.705591  {'was_impossible': False}   8   6  3.705591  \n",
       "384   4.802591  {'was_impossible': False}   6   4  3.802591  \n",
       "820   4.807457  {'was_impossible': False}  12   6  3.807457  \n",
       "47    4.825600  {'was_impossible': False}   4   5  3.825600  \n",
       "204   4.848147  {'was_impossible': False}  10  14  3.848147  \n",
       "1166  4.893127  {'was_impossible': False}   4   6  3.893127  "
      ]
     },
     "execution_count": 82,
     "metadata": {},
     "output_type": "execute_result"
    }
   ],
   "source": [
    "worst_predictions"
   ]
  },
  {
   "cell_type": "code",
   "execution_count": null,
   "metadata": {},
   "outputs": [],
   "source": []
  }
 ],
 "metadata": {
  "kernelspec": {
   "display_name": "Python 3",
   "language": "python",
   "name": "python3"
  },
  "language_info": {
   "codemirror_mode": {
    "name": "ipython",
    "version": 3
   },
   "file_extension": ".py",
   "mimetype": "text/x-python",
   "name": "python",
   "nbconvert_exporter": "python",
   "pygments_lexer": "ipython3",
   "version": "3.6.8"
  }
 },
 "nbformat": 4,
 "nbformat_minor": 2
}
