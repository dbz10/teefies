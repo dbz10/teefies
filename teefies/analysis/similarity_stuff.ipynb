{
 "cells": [
  {
   "cell_type": "code",
   "execution_count": 292,
   "metadata": {},
   "outputs": [],
   "source": [
    "import pickle\n",
    "import pandas as pd\n",
    "import matplotlib.pyplot as plt\n",
    "from gensim.models.doc2vec import Doc2Vec, TaggedDocument\n",
    "\n",
    "label_encoder = pickle.load( open('label-encoder.pkl','rb') )\n",
    "label_decoder = pickle.load( open('label-decoder.pkl','rb') )\n",
    "\n",
    "def into_ranked_dataframe(sim):\n",
    "    \"\"\" Takes the output of doc2vec most_similar and puts it into\n",
    "    a dataframe thats nice to work with \"\"\"\n",
    "    tmp = pd.DataFrame(sim,columns = ['product_label','sim_score'])\n",
    "    tmp['rank'] = tmp.index\n",
    "    tmp['name'] = tmp['product_label'].apply(lambda r: label_decoder[r])\n",
    "    \n",
    "    return tmp[['name','rank']].set_index('name')\n"
   ]
  },
  {
   "cell_type": "code",
   "execution_count": 293,
   "metadata": {},
   "outputs": [
    {
     "data": {
      "text/plain": [
       "review_author\n",
       "3catmom            6\n",
       "3catsownme        12\n",
       "4cats              6\n",
       "4rescuepits        6\n",
       "Abby               7\n",
       "Aidan              6\n",
       "Alex              11\n",
       "Amber             11\n",
       "Andrea             8\n",
       "Andy               7\n",
       "Angel             11\n",
       "Anne              14\n",
       "April              9\n",
       "Ashley            11\n",
       "AudAnn             6\n",
       "Auggie2            7\n",
       "BabyJaneHudson    10\n",
       "Bailey             7\n",
       "Barbie             7\n",
       "Bear              12\n",
       "Becca             10\n",
       "Belle              8\n",
       "Betsy              9\n",
       "Betty              9\n",
       "Beverly            6\n",
       "Bill               9\n",
       "Bklyn718          13\n",
       "Bobbi              9\n",
       "Bobby              7\n",
       "BobsBalcony        9\n",
       "                  ..\n",
       "catwagn           11\n",
       "ciaobella1         6\n",
       "cindy              6\n",
       "crazycatlady      11\n",
       "cv919              6\n",
       "dckat              7\n",
       "debswe             9\n",
       "devotee            6\n",
       "frankandsketch     7\n",
       "jadasarin          7\n",
       "jancat             7\n",
       "janie333          12\n",
       "karen              7\n",
       "lauren             6\n",
       "lbcos              7\n",
       "lbkinflorida       6\n",
       "mamacat           11\n",
       "meowwow           12\n",
       "mer67              8\n",
       "none               8\n",
       "nvr2amzd           8\n",
       "ouimcm             7\n",
       "paintsflowers      7\n",
       "roxessence         8\n",
       "sgCAT4             7\n",
       "slwhite53         12\n",
       "suechru            8\n",
       "swtemolyn          6\n",
       "tampacatmom        9\n",
       "zm1014            12\n",
       "Name: review_author, Length: 362, dtype: int64"
      ]
     },
     "execution_count": 293,
     "metadata": {},
     "output_type": "execute_result"
    }
   ],
   "source": [
    "author_count = data.groupby('review_author')['review_author'].count()\n",
    "authorgroup = author_count[(author_count > 5) & (author_count < 15)]\n",
    "authorgroup"
   ]
  },
  {
   "cell_type": "code",
   "execution_count": 342,
   "metadata": {},
   "outputs": [],
   "source": [
    "# catwagn is also a good display\n",
    "user = 'CarolinaCat'\n",
    "\n",
    "pd.set_option('display.max_colwidth',200)\n",
    "data = pd.read_csv('prepared_data.csv')\n",
    "data[data['review_author']==user][['product','rating','product_label']];"
   ]
  },
  {
   "cell_type": "code",
   "execution_count": 343,
   "metadata": {},
   "outputs": [],
   "source": [
    "dbow_model = Doc2Vec.load('catfood-d2v-dbow.model')"
   ]
  },
  {
   "cell_type": "code",
   "execution_count": 344,
   "metadata": {},
   "outputs": [],
   "source": [
    "userdata = data[data['review_author']==user]"
   ]
  },
  {
   "cell_type": "code",
   "execution_count": 345,
   "metadata": {},
   "outputs": [],
   "source": [
    "low_rankings = userdata[userdata['rating'] <= 3].sort_values(by='rating',ascending=True)\n",
    "high_rankings = userdata[userdata['rating'] >= 4].sort_values(by='rating',ascending=False)"
   ]
  },
  {
   "cell_type": "code",
   "execution_count": 374,
   "metadata": {},
   "outputs": [],
   "source": [
    "negatives = [val for val in low_rankings.head(2)['product_label']]\n",
    "positives = [val for val in high_rankings.head(2)['product_label']]"
   ]
  },
  {
   "cell_type": "code",
   "execution_count": 375,
   "metadata": {},
   "outputs": [],
   "source": [
    "negatives;"
   ]
  },
  {
   "cell_type": "code",
   "execution_count": 376,
   "metadata": {},
   "outputs": [],
   "source": [
    "positives;"
   ]
  },
  {
   "cell_type": "code",
   "execution_count": 377,
   "metadata": {},
   "outputs": [],
   "source": [
    "sims = dbow_model.docvecs.most_similar(positive=positives,negative=negatives,topn=500)"
   ]
  },
  {
   "cell_type": "code",
   "execution_count": 378,
   "metadata": {},
   "outputs": [],
   "source": [
    "decoded = [(label_decoder[label],similarity) for (label,similarity) in sims]\n",
    "results = pd.DataFrame(decoded,columns=['product','sim_score']).set_index('product')"
   ]
  },
  {
   "cell_type": "code",
   "execution_count": 379,
   "metadata": {},
   "outputs": [],
   "source": [
    "tmp = userdata[['product','rating','product_label']].set_index('product')\n",
    "val = tmp.join(results,how='left')"
   ]
  },
  {
   "cell_type": "code",
   "execution_count": 383,
   "metadata": {},
   "outputs": [
    {
     "data": {
      "text/html": [
       "<div>\n",
       "<style scoped>\n",
       "    .dataframe tbody tr th:only-of-type {\n",
       "        vertical-align: middle;\n",
       "    }\n",
       "\n",
       "    .dataframe tbody tr th {\n",
       "        vertical-align: top;\n",
       "    }\n",
       "\n",
       "    .dataframe thead th {\n",
       "        text-align: right;\n",
       "    }\n",
       "</style>\n",
       "<table border=\"1\" class=\"dataframe\">\n",
       "  <thead>\n",
       "    <tr style=\"text-align: right;\">\n",
       "      <th></th>\n",
       "      <th>rating</th>\n",
       "      <th>product_label</th>\n",
       "      <th>sim_score</th>\n",
       "    </tr>\n",
       "    <tr>\n",
       "      <th>product</th>\n",
       "      <th></th>\n",
       "      <th></th>\n",
       "      <th></th>\n",
       "    </tr>\n",
       "  </thead>\n",
       "  <tbody>\n",
       "    <tr>\n",
       "      <th>Tiki Cat Tahitian Grill Sardine Cutlets Grain-Free Canned Cat Food</th>\n",
       "      <td>4</td>\n",
       "      <td>398</td>\n",
       "      <td>-0.039332</td>\n",
       "    </tr>\n",
       "    <tr>\n",
       "      <th>Wellness Complete Health Chicken &amp; Lobster Formula Canned Cat Food</th>\n",
       "      <td>5</td>\n",
       "      <td>420</td>\n",
       "      <td>0.038580</td>\n",
       "    </tr>\n",
       "    <tr>\n",
       "      <th>Purina Beyond Grain-Free Trout &amp; Catfish Pate Recipe Canned Cat Food</th>\n",
       "      <td>5</td>\n",
       "      <td>302</td>\n",
       "      <td>-0.017500</td>\n",
       "    </tr>\n",
       "    <tr>\n",
       "      <th>Blue Buffalo Basics Limited Ingredient Grain-Free Indoor Fish &amp; Potato Entree Adult Canned Cat Food</th>\n",
       "      <td>4</td>\n",
       "      <td>23</td>\n",
       "      <td>0.024184</td>\n",
       "    </tr>\n",
       "    <tr>\n",
       "      <th>Weruva Nine Liver with Chicken &amp; Chicken Liver in Gravy Grain-Free Canned Cat Food</th>\n",
       "      <td>3</td>\n",
       "      <td>441</td>\n",
       "      <td>-0.110810</td>\n",
       "    </tr>\n",
       "    <tr>\n",
       "      <th>Blue Buffalo Wilderness Wild Delights Flaked Chicken &amp; Turkey Grain-Free Canned Cat Food</th>\n",
       "      <td>5</td>\n",
       "      <td>53</td>\n",
       "      <td>0.108079</td>\n",
       "    </tr>\n",
       "    <tr>\n",
       "      <th>Weruva Truluxe Mediterranean Harvest with Tuna &amp; Veggies in Gravy Grain-Free Canned Cat Food</th>\n",
       "      <td>3</td>\n",
       "      <td>443</td>\n",
       "      <td>-0.055972</td>\n",
       "    </tr>\n",
       "  </tbody>\n",
       "</table>\n",
       "</div>"
      ],
      "text/plain": [
       "                                                                                                     rating  \\\n",
       "product                                                                                                       \n",
       "Tiki Cat Tahitian Grill Sardine Cutlets Grain-Free Canned Cat Food                                        4   \n",
       "Wellness Complete Health Chicken & Lobster Formula Canned Cat Food                                        5   \n",
       "Purina Beyond Grain-Free Trout & Catfish Pate Recipe Canned Cat Food                                      5   \n",
       "Blue Buffalo Basics Limited Ingredient Grain-Free Indoor Fish & Potato Entree Adult Canned Cat Food       4   \n",
       "Weruva Nine Liver with Chicken & Chicken Liver in Gravy Grain-Free Canned Cat Food                        3   \n",
       "Blue Buffalo Wilderness Wild Delights Flaked Chicken & Turkey Grain-Free Canned Cat Food                  5   \n",
       "Weruva Truluxe Mediterranean Harvest with Tuna & Veggies in Gravy Grain-Free Canned Cat Food              3   \n",
       "\n",
       "                                                                                                     product_label  \\\n",
       "product                                                                                                              \n",
       "Tiki Cat Tahitian Grill Sardine Cutlets Grain-Free Canned Cat Food                                             398   \n",
       "Wellness Complete Health Chicken & Lobster Formula Canned Cat Food                                             420   \n",
       "Purina Beyond Grain-Free Trout & Catfish Pate Recipe Canned Cat Food                                           302   \n",
       "Blue Buffalo Basics Limited Ingredient Grain-Free Indoor Fish & Potato Entree Adult Canned Cat Food             23   \n",
       "Weruva Nine Liver with Chicken & Chicken Liver in Gravy Grain-Free Canned Cat Food                             441   \n",
       "Blue Buffalo Wilderness Wild Delights Flaked Chicken & Turkey Grain-Free Canned Cat Food                        53   \n",
       "Weruva Truluxe Mediterranean Harvest with Tuna & Veggies in Gravy Grain-Free Canned Cat Food                   443   \n",
       "\n",
       "                                                                                                     sim_score  \n",
       "product                                                                                                         \n",
       "Tiki Cat Tahitian Grill Sardine Cutlets Grain-Free Canned Cat Food                                   -0.039332  \n",
       "Wellness Complete Health Chicken & Lobster Formula Canned Cat Food                                    0.038580  \n",
       "Purina Beyond Grain-Free Trout & Catfish Pate Recipe Canned Cat Food                                 -0.017500  \n",
       "Blue Buffalo Basics Limited Ingredient Grain-Free Indoor Fish & Potato Entree Adult Canned Cat Food   0.024184  \n",
       "Weruva Nine Liver with Chicken & Chicken Liver in Gravy Grain-Free Canned Cat Food                   -0.110810  \n",
       "Blue Buffalo Wilderness Wild Delights Flaked Chicken & Turkey Grain-Free Canned Cat Food              0.108079  \n",
       "Weruva Truluxe Mediterranean Harvest with Tuna & Veggies in Gravy Grain-Free Canned Cat Food         -0.055972  "
      ]
     },
     "execution_count": 383,
     "metadata": {},
     "output_type": "execute_result"
    }
   ],
   "source": [
    "val.dropna(axis=0)"
   ]
  },
  {
   "cell_type": "code",
   "execution_count": 381,
   "metadata": {},
   "outputs": [
    {
     "name": "stdout",
     "output_type": "stream",
     "text": [
      "[88, 434] [242, 30]\n"
     ]
    }
   ],
   "source": [
    "print(negatives,positives)"
   ]
  },
  {
   "cell_type": "code",
   "execution_count": 384,
   "metadata": {},
   "outputs": [
    {
     "data": {
      "image/png": "[encoded data removed]",
      "text/plain": [
       "<Figure size 432x432 with 1 Axes>"
      ]
     },
     "metadata": {
      "needs_background": "light"
     },
     "output_type": "display_data"
    }
   ],
   "source": [
    "import matplotlib\n",
    "fig, axes = plt.subplots(nrows=1,ncols=1,figsize=(6,6))\n",
    "\n",
    "plt.scatter(x=val['sim_score'],y=val['rating'],s=40)\n",
    "plt.xlabel('Similarity Score')\n",
    "plt.ylabel(\"CarolinaCat's Rating\")\n",
    "matplotlib.rcParams.update({'font.size': 22, 'font.weight': 'regular'})\n"
   ]
  },
  {
   "cell_type": "code",
   "execution_count": 373,
   "metadata": {},
   "outputs": [],
   "source": [
    "negatives = [157, 244]\n",
    "positives = [224, 120]"
   ]
  },
  {
   "cell_type": "code",
   "execution_count": null,
   "metadata": {},
   "outputs": [],
   "source": []
  }
 ],
 "metadata": {
  "kernelspec": {
   "display_name": "Python 3",
   "language": "python",
   "name": "python3"
  },
  "language_info": {
   "codemirror_mode": {
    "name": "ipython",
    "version": 3
   },
   "file_extension": ".py",
   "mimetype": "text/x-python",
   "name": "python",
   "nbconvert_exporter": "python",
   "pygments_lexer": "ipython3",
   "version": "3.6.8"
  }
 },
 "nbformat": 4,
 "nbformat_minor": 2
}
