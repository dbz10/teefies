{
 "cells": [
  {
   "cell_type": "markdown",
   "metadata": {},
   "source": [
    "## Branched continuation of quantitative validation attempts from doc2vec-analysis.ipynb"
   ]
  },
  {
   "cell_type": "code",
   "execution_count": 36,
   "metadata": {},
   "outputs": [],
   "source": [
    "import pickle\n",
    "import pandas as pd\n",
    "import matplotlib.pyplot as plt\n",
    "from gensim.models.doc2vec import Doc2Vec, TaggedDocument\n",
    "\n",
    "label_encoder = pickle.load( open('label-encoder.pkl','rb') )\n",
    "label_decoder = pickle.load( open('label-decoder.pkl','rb') )\n",
    "\n",
    "def into_ranked_dataframe(sim):\n",
    "    \"\"\" Takes the output of doc2vec most_similar and puts it into\n",
    "    a dataframe thats nice to work with \"\"\"\n",
    "    tmp = pd.DataFrame(sim,columns = ['product_label','sim_score'])\n",
    "    tmp['rank'] = tmp.index\n",
    "    tmp['name'] = tmp['product_label'].apply(lambda r: label_decoder[r])\n",
    "    \n",
    "    return tmp[['name','rank']].set_index('name')\n",
    "\n",
    "full_data = pd.read_csv('../data/CatfoodReviewsInfo.csv')"
   ]
  },
  {
   "cell_type": "code",
   "execution_count": 44,
   "metadata": {},
   "outputs": [],
   "source": [
    "mean_ratings = full_data[['product','rating']].groupby('product').mean()"
   ]
  },
  {
   "cell_type": "code",
   "execution_count": 47,
   "metadata": {},
   "outputs": [],
   "source": [
    "# catwagn is also a good display\n",
    "user = 'CarolinaCat'\n",
    "\n",
    "pd.set_option('display.max_colwidth',200)\n",
    "data = pd.read_csv('prepared_data.csv')\n",
    "\n",
    "mean_product_ratings = data[['product','rating']].groupby('product').mean()\n",
    "\n",
    "data = data.join(mean_ratings,how='left',rsuffix='_mean',on='product')\n",
    "\n",
    "data[data['review_author']==user][['product','rating','product_label']];"
   ]
  },
  {
   "cell_type": "code",
   "execution_count": 3,
   "metadata": {},
   "outputs": [
    {
     "data": {
      "text/plain": [
       "review_author\n",
       "Becca            10\n",
       "Carrie            7\n",
       "Opps              7\n",
       "Tiffany           9\n",
       "KittyCatMommy     9\n",
       "Name: review_author, dtype: int64"
      ]
     },
     "execution_count": 3,
     "metadata": {},
     "output_type": "execute_result"
    }
   ],
   "source": [
    "author_count = data.groupby('review_author')['review_author'].count()\n",
    "authorgroup = author_count[(author_count > 5) & (author_count < 15)]\n",
    "authorgroup.sample(5)"
   ]
  },
  {
   "cell_type": "code",
   "execution_count": 48,
   "metadata": {},
   "outputs": [],
   "source": [
    "dbow_model = Doc2Vec.load('catfood-d2v-dbow.model')"
   ]
  },
  {
   "cell_type": "code",
   "execution_count": 49,
   "metadata": {},
   "outputs": [],
   "source": [
    "userdata = data[data['review_author']==user]"
   ]
  },
  {
   "cell_type": "code",
   "execution_count": 50,
   "metadata": {},
   "outputs": [],
   "source": [
    "low_rankings = userdata[userdata['rating'] <= 3].sort_values(by='rating',ascending=True)\n",
    "high_rankings = userdata[userdata['rating'] >= 4].sort_values(by='rating',ascending=False)"
   ]
  },
  {
   "cell_type": "code",
   "execution_count": 51,
   "metadata": {},
   "outputs": [],
   "source": [
    "negatives = [val for val in low_rankings.head(2)['product_label']]\n",
    "positives = [val for val in high_rankings.head(2)['product_label']]"
   ]
  },
  {
   "cell_type": "code",
   "execution_count": 52,
   "metadata": {},
   "outputs": [],
   "source": [
    "negatives;"
   ]
  },
  {
   "cell_type": "code",
   "execution_count": 53,
   "metadata": {},
   "outputs": [],
   "source": [
    "positives;"
   ]
  },
  {
   "cell_type": "code",
   "execution_count": 54,
   "metadata": {},
   "outputs": [],
   "source": [
    "sims = dbow_model.docvecs.most_similar(positive=positives,negative=negatives,topn=500)"
   ]
  },
  {
   "cell_type": "code",
   "execution_count": 55,
   "metadata": {},
   "outputs": [],
   "source": [
    "decoded = [(label_decoder[label],similarity) for (label,similarity) in sims]\n",
    "results = pd.DataFrame(decoded,columns=['product','sim_score']).set_index('product')"
   ]
  },
  {
   "cell_type": "code",
   "execution_count": 56,
   "metadata": {},
   "outputs": [],
   "source": [
    "tmp = userdata[['product','rating','product_label','rating_mean']].set_index('product')\n",
    "val = tmp.join(results,how='left')"
   ]
  },
  {
   "cell_type": "code",
   "execution_count": 64,
   "metadata": {},
   "outputs": [],
   "source": [
    "val.dropna(axis=0,inplace=True)"
   ]
  },
  {
   "cell_type": "code",
   "execution_count": 65,
   "metadata": {},
   "outputs": [
    {
     "name": "stdout",
     "output_type": "stream",
     "text": [
      "[88, 434] [242, 30]\n"
     ]
    }
   ],
   "source": [
    "print(negatives,positives)"
   ]
  },
  {
   "cell_type": "code",
   "execution_count": 71,
   "metadata": {},
   "outputs": [
    {
     "data": {
      "image/png": "[encoded data removed]",
      "text/plain": [
       "<Figure size 864x432 with 2 Axes>"
      ]
     },
     "metadata": {
      "needs_background": "light"
     },
     "output_type": "display_data"
    }
   ],
   "source": [
    "import matplotlib\n",
    "fig, axes = plt.subplots(nrows=1,ncols=2,figsize=(12,6),sharey='all')\n",
    "\n",
    "ax = axes[0]\n",
    "ax.scatter(x=val['sim_score'],y=val['rating'],s=40)\n",
    "ax.set_xlabel('Similarity Score')\n",
    "ax.set_ylabel(\"CarolinaCat's Rating\")\n",
    "\n",
    "ax = axes[1]\n",
    "ax.scatter(x=val['rating_mean'],y=val['rating'],s=40)\n",
    "ax.set_xlabel('Mean Rating')\n",
    "# ax.set_ylabel(\"CarolinaCat's Rating\")\n",
    "\n",
    "matplotlib.rcParams.update({'font.size': 22, 'font.weight': 'regular'})\n",
    "plt.show()\n"
   ]
  },
  {
   "cell_type": "code",
   "execution_count": 373,
   "metadata": {},
   "outputs": [],
   "source": [
    "negatives = [157, 244]\n",
    "positives = [224, 120]"
   ]
  },
  {
   "cell_type": "code",
   "execution_count": null,
   "metadata": {},
   "outputs": [],
   "source": []
  }
 ],
 "metadata": {
  "kernelspec": {
   "display_name": "Python 3",
   "language": "python",
   "name": "python3"
  },
  "language_info": {
   "codemirror_mode": {
    "name": "ipython",
    "version": 3
   },
   "file_extension": ".py",
   "mimetype": "text/x-python",
   "name": "python",
   "nbconvert_exporter": "python",
   "pygments_lexer": "ipython3",
   "version": "3.6.8"
  }
 },
 "nbformat": 4,
 "nbformat_minor": 2
}
