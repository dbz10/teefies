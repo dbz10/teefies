{
 "cells": [
  {
   "cell_type": "markdown",
   "metadata": {},
   "source": [
    "## Quick setup for allergen filtering"
   ]
  },
  {
   "cell_type": "code",
   "execution_count": 1,
   "metadata": {},
   "outputs": [],
   "source": [
    "import pandas as pd"
   ]
  },
  {
   "cell_type": "code",
   "execution_count": 2,
   "metadata": {},
   "outputs": [],
   "source": [
    "product_info = pd.read_csv('../data/CatfoodProductInfo.csv')"
   ]
  },
  {
   "cell_type": "code",
   "execution_count": 3,
   "metadata": {},
   "outputs": [],
   "source": [
    "common_allergens = ['chicken','beef','pork','turkey','corn','seafood',\n",
    "                    'wheat gluten','soy','dairy','by-products']\n",
    "\n",
    "questionable_ingredients = ['carrageenan','guar gum']"
   ]
  },
  {
   "cell_type": "code",
   "execution_count": 4,
   "metadata": {},
   "outputs": [
    {
     "data": {
      "text/html": [
       "<div>\n",
       "<style scoped>\n",
       "    .dataframe tbody tr th:only-of-type {\n",
       "        vertical-align: middle;\n",
       "    }\n",
       "\n",
       "    .dataframe tbody tr th {\n",
       "        vertical-align: top;\n",
       "    }\n",
       "\n",
       "    .dataframe thead th {\n",
       "        text-align: right;\n",
       "    }\n",
       "</style>\n",
       "<table border=\"1\" class=\"dataframe\">\n",
       "  <thead>\n",
       "    <tr style=\"text-align: right;\">\n",
       "      <th></th>\n",
       "      <th>product</th>\n",
       "      <th>ingredients</th>\n",
       "    </tr>\n",
       "  </thead>\n",
       "  <tbody>\n",
       "    <tr>\n",
       "      <th>549</th>\n",
       "      <td>Friskies Gravy Sensations Pouch Favorites Cat ...</td>\n",
       "      <td>['With Salmon In Gravy: Water Sufficient For P...</td>\n",
       "    </tr>\n",
       "    <tr>\n",
       "      <th>584</th>\n",
       "      <td>Ziwi Peak Lamb Recipe Canned Cat Food</td>\n",
       "      <td>['Old Formulation: Lamb', ' Lamb Broth', ' Lam...</td>\n",
       "    </tr>\n",
       "    <tr>\n",
       "      <th>380</th>\n",
       "      <td>Rachael Ray Nutrish Tuna Purrfection Natural G...</td>\n",
       "      <td>['Tuna', ' Water', ' Vegetable Oil', ' Powdere...</td>\n",
       "    </tr>\n",
       "  </tbody>\n",
       "</table>\n",
       "</div>"
      ],
      "text/plain": [
       "                                               product  \\\n",
       "549  Friskies Gravy Sensations Pouch Favorites Cat ...   \n",
       "584              Ziwi Peak Lamb Recipe Canned Cat Food   \n",
       "380  Rachael Ray Nutrish Tuna Purrfection Natural G...   \n",
       "\n",
       "                                           ingredients  \n",
       "549  ['With Salmon In Gravy: Water Sufficient For P...  \n",
       "584  ['Old Formulation: Lamb', ' Lamb Broth', ' Lam...  \n",
       "380  ['Tuna', ' Water', ' Vegetable Oil', ' Powdere...  "
      ]
     },
     "execution_count": 4,
     "metadata": {},
     "output_type": "execute_result"
    }
   ],
   "source": [
    "example_ids = [549,584,380]\n",
    "product_info.iloc[example_ids][['product','ingredients']]"
   ]
  },
  {
   "cell_type": "code",
   "execution_count": 11,
   "metadata": {},
   "outputs": [],
   "source": [
    "from collections import defaultdict\n",
    "allergens_counter = defaultdict(int)\n",
    "\n",
    "for id in example_ids:\n",
    "    for allergen in common_allergens:\n",
    "        allergens_counter[allergen] += (allergen in product_info.iloc[id]['ingredients'].lower())"
   ]
  },
  {
   "cell_type": "code",
   "execution_count": 13,
   "metadata": {},
   "outputs": [
    {
     "data": {
      "text/plain": [
       "{'chicken': 0,\n",
       " 'beef': 0,\n",
       " 'pork': 0,\n",
       " 'turkey': 1,\n",
       " 'corn': 1,\n",
       " 'seafood': 0,\n",
       " 'wheat gluten': 1,\n",
       " 'soy': 1,\n",
       " 'dairy': 0,\n",
       " 'by-products': 1}"
      ]
     },
     "execution_count": 13,
     "metadata": {},
     "output_type": "execute_result"
    }
   ],
   "source": [
    "dict(allergens_counter)"
   ]
  },
  {
   "cell_type": "code",
   "execution_count": null,
   "metadata": {},
   "outputs": [],
   "source": []
  }
 ],
 "metadata": {
  "kernelspec": {
   "display_name": "Python 3",
   "language": "python",
   "name": "python3"
  },
  "language_info": {
   "codemirror_mode": {
    "name": "ipython",
    "version": 3
   },
   "file_extension": ".py",
   "mimetype": "text/x-python",
   "name": "python",
   "nbconvert_exporter": "python",
   "pygments_lexer": "ipython3",
   "version": "3.6.8"
  }
 },
 "nbformat": 4,
 "nbformat_minor": 2
}
