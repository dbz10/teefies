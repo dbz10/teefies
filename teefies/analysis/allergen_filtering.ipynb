{
 "cells": [
  {
   "cell_type": "code",
   "execution_count": 30,
   "metadata": {},
   "outputs": [],
   "source": [
    "import pandas as pd"
   ]
  },
  {
   "cell_type": "code",
   "execution_count": 31,
   "metadata": {},
   "outputs": [],
   "source": [
    "product_info = pd.read_csv('../data/CatfoodProductInfo.csv')"
   ]
  },
  {
   "cell_type": "code",
   "execution_count": 32,
   "metadata": {},
   "outputs": [],
   "source": [
    "common_allergens = ['chicken','beef','pork','turkey','corn','seafood',\n",
    "                    'wheat gluten','soy','dairy','by-products']\n",
    "\n",
    "questionable_ingredients = ['carrageenan','guar gum']"
   ]
  },
  {
   "cell_type": "code",
   "execution_count": 40,
   "metadata": {},
   "outputs": [
    {
     "data": {
      "text/html": [
       "<div>\n",
       "<style scoped>\n",
       "    .dataframe tbody tr th:only-of-type {\n",
       "        vertical-align: middle;\n",
       "    }\n",
       "\n",
       "    .dataframe tbody tr th {\n",
       "        vertical-align: top;\n",
       "    }\n",
       "\n",
       "    .dataframe thead th {\n",
       "        text-align: right;\n",
       "    }\n",
       "</style>\n",
       "<table border=\"1\" class=\"dataframe\">\n",
       "  <thead>\n",
       "    <tr style=\"text-align: right;\">\n",
       "      <th></th>\n",
       "      <th>product</th>\n",
       "      <th>ingredients</th>\n",
       "    </tr>\n",
       "  </thead>\n",
       "  <tbody>\n",
       "    <tr>\n",
       "      <th>549</th>\n",
       "      <td>Fancy Feast Medleys Shredded White Meat Chicken Fare Canned Cat Food</td>\n",
       "      <td>['Poultry Broth', ' Chicken', ' Wheat Gluten', ' Liver', ' Meat By-Products', ' Spinach', ' Turkey', ' Corn Starch-Modified', ' Artificial and Natural Flavors', ' Dicalcium Phosphate', ' Salt', ' ...</td>\n",
       "    </tr>\n",
       "    <tr>\n",
       "      <th>584</th>\n",
       "      <td>Blue Buffalo Healthy Gourmet Grilled Salmon Entree in Gravy Canned Cat Food</td>\n",
       "      <td>['Salmon', ' Fish Broth', ' Water', ' Chicken Liver', ' Chicken', ' Dried Egg', ' Potato Starch', ' Natural Flavor', ' Guar Gum', ' Sodium Phosphate', ' Calcium Carbonate', ' Salt', ' Potassium Ch...</td>\n",
       "    </tr>\n",
       "    <tr>\n",
       "      <th>380</th>\n",
       "      <td>Meow Mix Tender Favorites with Real Salmon &amp; Crab Meat in Sauce Cat Food Trays</td>\n",
       "      <td>['Tuna', ' Fish Broth', ' Sardine', ' Salmon', ' Crab', ' Natural and Artificial Flavors', ' Vegetable Oil', ' Tricalcium Phosphate', ' Guar Gum', ' Carrageenan', ' Calcium Sulfate', ' Salt', ' Vi...</td>\n",
       "    </tr>\n",
       "  </tbody>\n",
       "</table>\n",
       "</div>"
      ],
      "text/plain": [
       "                                                                            product  \\\n",
       "549            Fancy Feast Medleys Shredded White Meat Chicken Fare Canned Cat Food   \n",
       "584     Blue Buffalo Healthy Gourmet Grilled Salmon Entree in Gravy Canned Cat Food   \n",
       "380  Meow Mix Tender Favorites with Real Salmon & Crab Meat in Sauce Cat Food Trays   \n",
       "\n",
       "                                                                                                                                                                                                 ingredients  \n",
       "549  ['Poultry Broth', ' Chicken', ' Wheat Gluten', ' Liver', ' Meat By-Products', ' Spinach', ' Turkey', ' Corn Starch-Modified', ' Artificial and Natural Flavors', ' Dicalcium Phosphate', ' Salt', ' ...  \n",
       "584  ['Salmon', ' Fish Broth', ' Water', ' Chicken Liver', ' Chicken', ' Dried Egg', ' Potato Starch', ' Natural Flavor', ' Guar Gum', ' Sodium Phosphate', ' Calcium Carbonate', ' Salt', ' Potassium Ch...  \n",
       "380  ['Tuna', ' Fish Broth', ' Sardine', ' Salmon', ' Crab', ' Natural and Artificial Flavors', ' Vegetable Oil', ' Tricalcium Phosphate', ' Guar Gum', ' Carrageenan', ' Calcium Sulfate', ' Salt', ' Vi...  "
      ]
     },
     "execution_count": 40,
     "metadata": {},
     "output_type": "execute_result"
    }
   ],
   "source": [
    "example_ids = [549,584,380]\n",
    "product_info.iloc[example_ids][['product','ingredients']]"
   ]
  },
  {
   "cell_type": "code",
   "execution_count": 41,
   "metadata": {},
   "outputs": [],
   "source": [
    "allergens_counter = {item: 0 for item in common_allergens}\n",
    "for id in example_ids:\n",
    "    for allergen in common_allergens:\n",
    "        allergens_counter[allergen] += (allergen in product_info.iloc[id]['ingredients'].lower())"
   ]
  },
  {
   "cell_type": "code",
   "execution_count": 42,
   "metadata": {},
   "outputs": [
    {
     "data": {
      "text/plain": [
       "{'chicken': 2,\n",
       " 'beef': 0,\n",
       " 'pork': 0,\n",
       " 'turkey': 1,\n",
       " 'corn': 1,\n",
       " 'seafood': 0,\n",
       " 'wheat gluten': 1,\n",
       " 'soy': 1,\n",
       " 'dairy': 0,\n",
       " 'by-products': 1}"
      ]
     },
     "execution_count": 42,
     "metadata": {},
     "output_type": "execute_result"
    }
   ],
   "source": [
    "allergens_counter"
   ]
  },
  {
   "cell_type": "code",
   "execution_count": null,
   "metadata": {},
   "outputs": [],
   "source": []
  }
 ],
 "metadata": {
  "kernelspec": {
   "display_name": "Python 3",
   "language": "python",
   "name": "python3"
  },
  "language_info": {
   "codemirror_mode": {
    "name": "ipython",
    "version": 3
   },
   "file_extension": ".py",
   "mimetype": "text/x-python",
   "name": "python",
   "nbconvert_exporter": "python",
   "pygments_lexer": "ipython3",
   "version": "3.6.8"
  }
 },
 "nbformat": 4,
 "nbformat_minor": 2
}
